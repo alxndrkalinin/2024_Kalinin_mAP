{
 "cells": [
  {
   "cell_type": "markdown",
   "metadata": {},
   "source": [
    "## 1. Calculate mAP for phenotypic activity and consistency assesement"
   ]
  },
  {
   "cell_type": "code",
   "execution_count": 1,
   "metadata": {},
   "outputs": [],
   "source": [
    "import numpy as np\n",
    "import pandas as pd\n",
    "from pycytominer import aggregate\n",
    "\n",
    "from map_utils.map import calculate_map\n",
    "from nelisa_utils import get_meta_features"
   ]
  },
  {
   "cell_type": "code",
   "execution_count": 2,
   "metadata": {},
   "outputs": [
    {
     "name": "stdout",
     "output_type": "stream",
     "text": [
      "(1512, 631) (1512, 223)\n"
     ]
    }
   ],
   "source": [
    "cp_df = pd.read_parquet(\"outputs/cellpainting_profiles_normalized.parquet\")\n",
    "ne_df = pd.read_parquet(\"outputs/nelisa_profiles_normalized.parquet\")\n",
    "\n",
    "cp_df.fillna({\"Metadata_broad_sample\": \"NA\"}, inplace=True)\n",
    "ne_df.fillna({\"Metadata_broad_sample\": \"NA\"}, inplace=True)\n",
    "cp_df[\"Metadata_control_index\"] = np.where(\n",
    "    cp_df[\"Metadata_control_type\"] == \"negcon\", cp_df.index, -1\n",
    ")\n",
    "ne_df[\"Metadata_control_index\"] = np.where(\n",
    "    ne_df[\"Metadata_control_type\"] == \"negcon\", ne_df.index, -1\n",
    ")\n",
    "\n",
    "assert cp_df.shape[0] == ne_df.shape[0]\n",
    "print(cp_df.shape, ne_df.shape)"
   ]
  },
  {
   "cell_type": "markdown",
   "metadata": {},
   "source": [
    "### Phenotypic activity via retrieving replicates"
   ]
  },
  {
   "cell_type": "code",
   "execution_count": 3,
   "metadata": {},
   "outputs": [],
   "source": [
    "pair_config = {\n",
    "    \"pos_sameby\": {\n",
    "        \"all\": [\"Metadata_broad_sample\", \"Metadata_control_index\"],\n",
    "        \"any\": [],\n",
    "    },\n",
    "    \"pos_diffby\": {\"all\": [], \"any\": []},\n",
    "    \"neg_sameby\": {\"all\": [\"Metadata_Plate\"], \"any\": []},\n",
    "    \"neg_diffby\": {\n",
    "        \"all\": [\"Metadata_broad_sample\", \"Metadata_control_index\"],\n",
    "        \"any\": [],\n",
    "    },\n",
    "}\n",
    "\n",
    "map_config = {\n",
    "    \"null_size\": 100000,\n",
    "    \"groupby_columns\": [\"Metadata_broad_sample\"],\n",
    "}"
   ]
  },
  {
   "cell_type": "code",
   "execution_count": 4,
   "metadata": {},
   "outputs": [
    {
     "data": {
      "application/vnd.jupyter.widget-view+json": {
       "model_id": "9ab6b9277ddb42cf904445bdd555dc6c",
       "version_major": 2,
       "version_minor": 0
      },
      "text/plain": [
       "  0%|          | 0/1 [00:00<?, ?it/s]"
      ]
     },
     "metadata": {},
     "output_type": "display_data"
    },
    {
     "data": {
      "application/vnd.jupyter.widget-view+json": {
       "model_id": "e414d2553ccf4dc7a316fc4ad3fed0d1",
       "version_major": 2,
       "version_minor": 0
      },
      "text/plain": [
       "  0%|          | 0/5 [00:00<?, ?it/s]"
      ]
     },
     "metadata": {},
     "output_type": "display_data"
    },
    {
     "name": "stderr",
     "output_type": "stream",
     "text": [
      "/dgx1nas1/storage/data/akalinin/miniconda3/envs/map_benchmark/lib/python3.10/site-packages/copairs/compute.py:152: RuntimeWarning: invalid value encountered in divide\n",
      "  ap_scores = np.add.reduceat(pr_k * rel_k_list, cutoffs) / num_pos\n"
     ]
    },
    {
     "data": {
      "application/vnd.jupyter.widget-view+json": {
       "model_id": "5643b299912348ddb93b8b7c6dd3195a",
       "version_major": 2,
       "version_minor": 0
      },
      "text/plain": [
       "  0%|          | 0/2 [00:00<?, ?it/s]"
      ]
     },
     "metadata": {},
     "output_type": "display_data"
    },
    {
     "data": {
      "application/vnd.jupyter.widget-view+json": {
       "model_id": "a6b498375504471a9303e14a9840ea9c",
       "version_major": 2,
       "version_minor": 0
      },
      "text/plain": [
       "  0%|          | 0/300 [00:00<?, ?it/s]"
      ]
     },
     "metadata": {},
     "output_type": "display_data"
    },
    {
     "data": {
      "text/html": [
       "<div>\n",
       "<style scoped>\n",
       "    .dataframe tbody tr th:only-of-type {\n",
       "        vertical-align: middle;\n",
       "    }\n",
       "\n",
       "    .dataframe tbody tr th {\n",
       "        vertical-align: top;\n",
       "    }\n",
       "\n",
       "    .dataframe thead th {\n",
       "        text-align: right;\n",
       "    }\n",
       "</style>\n",
       "<table border=\"1\" class=\"dataframe\">\n",
       "  <thead>\n",
       "    <tr style=\"text-align: right;\">\n",
       "      <th></th>\n",
       "      <th>Metadata_broad_sample</th>\n",
       "      <th>mAP</th>\n",
       "      <th>p_value</th>\n",
       "      <th>corrected_p_value</th>\n",
       "      <th>below_p</th>\n",
       "      <th>p &lt; 0.05</th>\n",
       "      <th>-log10(mAP p-value)</th>\n",
       "    </tr>\n",
       "  </thead>\n",
       "  <tbody>\n",
       "    <tr>\n",
       "      <th>0</th>\n",
       "      <td>BRD-A00827783-001-24-6</td>\n",
       "      <td>0.432287</td>\n",
       "      <td>0.011260</td>\n",
       "      <td>0.017235</td>\n",
       "      <td>True</td>\n",
       "      <td>True</td>\n",
       "      <td>1.763601</td>\n",
       "    </tr>\n",
       "    <tr>\n",
       "      <th>1</th>\n",
       "      <td>BRD-A01078468-001-14-8</td>\n",
       "      <td>0.522666</td>\n",
       "      <td>0.003860</td>\n",
       "      <td>0.006617</td>\n",
       "      <td>True</td>\n",
       "      <td>True</td>\n",
       "      <td>2.179334</td>\n",
       "    </tr>\n",
       "    <tr>\n",
       "      <th>2</th>\n",
       "      <td>BRD-A07207424-001-14-0</td>\n",
       "      <td>0.573214</td>\n",
       "      <td>0.002600</td>\n",
       "      <td>0.004643</td>\n",
       "      <td>True</td>\n",
       "      <td>True</td>\n",
       "      <td>2.333219</td>\n",
       "    </tr>\n",
       "    <tr>\n",
       "      <th>3</th>\n",
       "      <td>BRD-A08187463-001-12-9</td>\n",
       "      <td>0.518849</td>\n",
       "      <td>0.004080</td>\n",
       "      <td>0.006954</td>\n",
       "      <td>True</td>\n",
       "      <td>True</td>\n",
       "      <td>2.157736</td>\n",
       "    </tr>\n",
       "    <tr>\n",
       "      <th>4</th>\n",
       "      <td>BRD-A09722536-002-18-0</td>\n",
       "      <td>0.211931</td>\n",
       "      <td>0.086609</td>\n",
       "      <td>0.096590</td>\n",
       "      <td>False</td>\n",
       "      <td>False</td>\n",
       "      <td>1.015067</td>\n",
       "    </tr>\n",
       "    <tr>\n",
       "      <th>...</th>\n",
       "      <td>...</td>\n",
       "      <td>...</td>\n",
       "      <td>...</td>\n",
       "      <td>...</td>\n",
       "      <td>...</td>\n",
       "      <td>...</td>\n",
       "      <td>...</td>\n",
       "    </tr>\n",
       "    <tr>\n",
       "      <th>295</th>\n",
       "      <td>BRD-K97091514-001-11-4</td>\n",
       "      <td>0.223748</td>\n",
       "      <td>0.075959</td>\n",
       "      <td>0.085347</td>\n",
       "      <td>False</td>\n",
       "      <td>False</td>\n",
       "      <td>1.068809</td>\n",
       "    </tr>\n",
       "    <tr>\n",
       "      <th>296</th>\n",
       "      <td>BRD-K97181089-003-24-7</td>\n",
       "      <td>0.979167</td>\n",
       "      <td>0.000030</td>\n",
       "      <td>0.000084</td>\n",
       "      <td>True</td>\n",
       "      <td>True</td>\n",
       "      <td>4.075146</td>\n",
       "    </tr>\n",
       "    <tr>\n",
       "      <th>297</th>\n",
       "      <td>BRD-K98357249-001-02-9</td>\n",
       "      <td>0.138874</td>\n",
       "      <td>0.176928</td>\n",
       "      <td>0.183663</td>\n",
       "      <td>False</td>\n",
       "      <td>False</td>\n",
       "      <td>0.735979</td>\n",
       "    </tr>\n",
       "    <tr>\n",
       "      <th>298</th>\n",
       "      <td>BRD-K98763141-001-30-8</td>\n",
       "      <td>0.545696</td>\n",
       "      <td>0.003130</td>\n",
       "      <td>0.005523</td>\n",
       "      <td>True</td>\n",
       "      <td>True</td>\n",
       "      <td>2.257788</td>\n",
       "    </tr>\n",
       "    <tr>\n",
       "      <th>299</th>\n",
       "      <td>BRD-K99616396-316-05-3</td>\n",
       "      <td>0.709325</td>\n",
       "      <td>0.000410</td>\n",
       "      <td>0.000891</td>\n",
       "      <td>True</td>\n",
       "      <td>True</td>\n",
       "      <td>3.049978</td>\n",
       "    </tr>\n",
       "  </tbody>\n",
       "</table>\n",
       "<p>300 rows × 7 columns</p>\n",
       "</div>"
      ],
      "text/plain": [
       "      Metadata_broad_sample       mAP   p_value  corrected_p_value  below_p  \\\n",
       "0    BRD-A00827783-001-24-6  0.432287  0.011260           0.017235     True   \n",
       "1    BRD-A01078468-001-14-8  0.522666  0.003860           0.006617     True   \n",
       "2    BRD-A07207424-001-14-0  0.573214  0.002600           0.004643     True   \n",
       "3    BRD-A08187463-001-12-9  0.518849  0.004080           0.006954     True   \n",
       "4    BRD-A09722536-002-18-0  0.211931  0.086609           0.096590    False   \n",
       "..                      ...       ...       ...                ...      ...   \n",
       "295  BRD-K97091514-001-11-4  0.223748  0.075959           0.085347    False   \n",
       "296  BRD-K97181089-003-24-7  0.979167  0.000030           0.000084     True   \n",
       "297  BRD-K98357249-001-02-9  0.138874  0.176928           0.183663    False   \n",
       "298  BRD-K98763141-001-30-8  0.545696  0.003130           0.005523     True   \n",
       "299  BRD-K99616396-316-05-3  0.709325  0.000410           0.000891     True   \n",
       "\n",
       "     p < 0.05  -log10(mAP p-value)  \n",
       "0        True             1.763601  \n",
       "1        True             2.179334  \n",
       "2        True             2.333219  \n",
       "3        True             2.157736  \n",
       "4       False             1.015067  \n",
       "..        ...                  ...  \n",
       "295     False             1.068809  \n",
       "296      True             4.075146  \n",
       "297     False             0.735979  \n",
       "298      True             2.257788  \n",
       "299      True             3.049978  \n",
       "\n",
       "[300 rows x 7 columns]"
      ]
     },
     "execution_count": 4,
     "metadata": {},
     "output_type": "execute_result"
    }
   ],
   "source": [
    "cp_map_results = calculate_map(cp_df, pair_config, map_config)\n",
    "cp_map_results = cp_map_results.query(\"Metadata_broad_sample != 'NA'\")\n",
    "cp_map_results.to_csv(\"outputs/cp_map_activity_results.csv\", index=False)\n",
    "cp_map_results"
   ]
  },
  {
   "cell_type": "code",
   "execution_count": 5,
   "metadata": {},
   "outputs": [
    {
     "data": {
      "application/vnd.jupyter.widget-view+json": {
       "model_id": "f310cc2795ad48e9b76a4c4fde19ed92",
       "version_major": 2,
       "version_minor": 0
      },
      "text/plain": [
       "  0%|          | 0/1 [00:00<?, ?it/s]"
      ]
     },
     "metadata": {},
     "output_type": "display_data"
    },
    {
     "data": {
      "application/vnd.jupyter.widget-view+json": {
       "model_id": "fdc0eeeee2044cf791d55b5bae62a148",
       "version_major": 2,
       "version_minor": 0
      },
      "text/plain": [
       "  0%|          | 0/5 [00:00<?, ?it/s]"
      ]
     },
     "metadata": {},
     "output_type": "display_data"
    },
    {
     "name": "stderr",
     "output_type": "stream",
     "text": [
      "/dgx1nas1/storage/data/akalinin/miniconda3/envs/map_benchmark/lib/python3.10/site-packages/copairs/compute.py:152: RuntimeWarning: invalid value encountered in divide\n",
      "  ap_scores = np.add.reduceat(pr_k * rel_k_list, cutoffs) / num_pos\n"
     ]
    },
    {
     "data": {
      "application/vnd.jupyter.widget-view+json": {
       "model_id": "da2ccf8751914046b46e08f802dcea8c",
       "version_major": 2,
       "version_minor": 0
      },
      "text/plain": [
       "  0%|          | 0/2 [00:00<?, ?it/s]"
      ]
     },
     "metadata": {},
     "output_type": "display_data"
    },
    {
     "data": {
      "application/vnd.jupyter.widget-view+json": {
       "model_id": "83e71aa596524aa09d99005e6648f176",
       "version_major": 2,
       "version_minor": 0
      },
      "text/plain": [
       "  0%|          | 0/300 [00:00<?, ?it/s]"
      ]
     },
     "metadata": {},
     "output_type": "display_data"
    },
    {
     "data": {
      "text/html": [
       "<div>\n",
       "<style scoped>\n",
       "    .dataframe tbody tr th:only-of-type {\n",
       "        vertical-align: middle;\n",
       "    }\n",
       "\n",
       "    .dataframe tbody tr th {\n",
       "        vertical-align: top;\n",
       "    }\n",
       "\n",
       "    .dataframe thead th {\n",
       "        text-align: right;\n",
       "    }\n",
       "</style>\n",
       "<table border=\"1\" class=\"dataframe\">\n",
       "  <thead>\n",
       "    <tr style=\"text-align: right;\">\n",
       "      <th></th>\n",
       "      <th>Metadata_broad_sample</th>\n",
       "      <th>mAP</th>\n",
       "      <th>p_value</th>\n",
       "      <th>corrected_p_value</th>\n",
       "      <th>below_p</th>\n",
       "      <th>p &lt; 0.05</th>\n",
       "      <th>-log10(mAP p-value)</th>\n",
       "    </tr>\n",
       "  </thead>\n",
       "  <tbody>\n",
       "    <tr>\n",
       "      <th>0</th>\n",
       "      <td>BRD-A00827783-001-24-6</td>\n",
       "      <td>0.172251</td>\n",
       "      <td>0.124609</td>\n",
       "      <td>0.181853</td>\n",
       "      <td>False</td>\n",
       "      <td>False</td>\n",
       "      <td>0.740279</td>\n",
       "    </tr>\n",
       "    <tr>\n",
       "      <th>1</th>\n",
       "      <td>BRD-A01078468-001-14-8</td>\n",
       "      <td>0.473238</td>\n",
       "      <td>0.006410</td>\n",
       "      <td>0.018903</td>\n",
       "      <td>True</td>\n",
       "      <td>True</td>\n",
       "      <td>1.723476</td>\n",
       "    </tr>\n",
       "    <tr>\n",
       "      <th>2</th>\n",
       "      <td>BRD-A07207424-001-14-0</td>\n",
       "      <td>0.119185</td>\n",
       "      <td>0.218218</td>\n",
       "      <td>0.276225</td>\n",
       "      <td>False</td>\n",
       "      <td>False</td>\n",
       "      <td>0.558737</td>\n",
       "    </tr>\n",
       "    <tr>\n",
       "      <th>3</th>\n",
       "      <td>BRD-A08187463-001-12-9</td>\n",
       "      <td>0.171421</td>\n",
       "      <td>0.125479</td>\n",
       "      <td>0.181853</td>\n",
       "      <td>False</td>\n",
       "      <td>False</td>\n",
       "      <td>0.740279</td>\n",
       "    </tr>\n",
       "    <tr>\n",
       "      <th>4</th>\n",
       "      <td>BRD-A09722536-002-18-0</td>\n",
       "      <td>0.156462</td>\n",
       "      <td>0.142649</td>\n",
       "      <td>0.196368</td>\n",
       "      <td>False</td>\n",
       "      <td>False</td>\n",
       "      <td>0.706930</td>\n",
       "    </tr>\n",
       "    <tr>\n",
       "      <th>...</th>\n",
       "      <td>...</td>\n",
       "      <td>...</td>\n",
       "      <td>...</td>\n",
       "      <td>...</td>\n",
       "      <td>...</td>\n",
       "      <td>...</td>\n",
       "      <td>...</td>\n",
       "    </tr>\n",
       "    <tr>\n",
       "      <th>295</th>\n",
       "      <td>BRD-K97091514-001-11-4</td>\n",
       "      <td>0.074625</td>\n",
       "      <td>0.434676</td>\n",
       "      <td>0.464067</td>\n",
       "      <td>False</td>\n",
       "      <td>False</td>\n",
       "      <td>0.333420</td>\n",
       "    </tr>\n",
       "    <tr>\n",
       "      <th>296</th>\n",
       "      <td>BRD-K97181089-003-24-7</td>\n",
       "      <td>0.060519</td>\n",
       "      <td>0.578984</td>\n",
       "      <td>0.592484</td>\n",
       "      <td>False</td>\n",
       "      <td>False</td>\n",
       "      <td>0.227323</td>\n",
       "    </tr>\n",
       "    <tr>\n",
       "      <th>297</th>\n",
       "      <td>BRD-K98357249-001-02-9</td>\n",
       "      <td>0.094346</td>\n",
       "      <td>0.311017</td>\n",
       "      <td>0.349457</td>\n",
       "      <td>False</td>\n",
       "      <td>False</td>\n",
       "      <td>0.456606</td>\n",
       "    </tr>\n",
       "    <tr>\n",
       "      <th>298</th>\n",
       "      <td>BRD-K98763141-001-30-8</td>\n",
       "      <td>0.068006</td>\n",
       "      <td>0.495605</td>\n",
       "      <td>0.519865</td>\n",
       "      <td>False</td>\n",
       "      <td>False</td>\n",
       "      <td>0.284109</td>\n",
       "    </tr>\n",
       "    <tr>\n",
       "      <th>299</th>\n",
       "      <td>BRD-K99616396-316-05-3</td>\n",
       "      <td>0.358428</td>\n",
       "      <td>0.048230</td>\n",
       "      <td>0.108759</td>\n",
       "      <td>True</td>\n",
       "      <td>False</td>\n",
       "      <td>0.963533</td>\n",
       "    </tr>\n",
       "  </tbody>\n",
       "</table>\n",
       "<p>300 rows × 7 columns</p>\n",
       "</div>"
      ],
      "text/plain": [
       "      Metadata_broad_sample       mAP   p_value  corrected_p_value  below_p  \\\n",
       "0    BRD-A00827783-001-24-6  0.172251  0.124609           0.181853    False   \n",
       "1    BRD-A01078468-001-14-8  0.473238  0.006410           0.018903     True   \n",
       "2    BRD-A07207424-001-14-0  0.119185  0.218218           0.276225    False   \n",
       "3    BRD-A08187463-001-12-9  0.171421  0.125479           0.181853    False   \n",
       "4    BRD-A09722536-002-18-0  0.156462  0.142649           0.196368    False   \n",
       "..                      ...       ...       ...                ...      ...   \n",
       "295  BRD-K97091514-001-11-4  0.074625  0.434676           0.464067    False   \n",
       "296  BRD-K97181089-003-24-7  0.060519  0.578984           0.592484    False   \n",
       "297  BRD-K98357249-001-02-9  0.094346  0.311017           0.349457    False   \n",
       "298  BRD-K98763141-001-30-8  0.068006  0.495605           0.519865    False   \n",
       "299  BRD-K99616396-316-05-3  0.358428  0.048230           0.108759     True   \n",
       "\n",
       "     p < 0.05  -log10(mAP p-value)  \n",
       "0       False             0.740279  \n",
       "1        True             1.723476  \n",
       "2       False             0.558737  \n",
       "3       False             0.740279  \n",
       "4       False             0.706930  \n",
       "..        ...                  ...  \n",
       "295     False             0.333420  \n",
       "296     False             0.227323  \n",
       "297     False             0.456606  \n",
       "298     False             0.284109  \n",
       "299     False             0.963533  \n",
       "\n",
       "[300 rows x 7 columns]"
      ]
     },
     "execution_count": 5,
     "metadata": {},
     "output_type": "execute_result"
    }
   ],
   "source": [
    "ne_map_results = calculate_map(ne_df, pair_config, map_config)\n",
    "ne_map_results = ne_map_results.query(\"Metadata_broad_sample != 'NA'\")\n",
    "ne_map_results.to_csv(\"outputs/ne_map_activity_results.csv\", index=False)\n",
    "ne_map_results"
   ]
  },
  {
   "cell_type": "markdown",
   "metadata": {},
   "source": [
    "### Phenotypic consistency via same-target perturbation retrievability"
   ]
  },
  {
   "cell_type": "code",
   "execution_count": 6,
   "metadata": {},
   "outputs": [],
   "source": [
    "pair_config = {\n",
    "    \"pos_sameby\": {\"all\": [\"Metadata_target\"], \"any\": []},\n",
    "    \"pos_diffby\": {\"all\": [\"Metadata_broad_sample\"], \"any\": []},\n",
    "    \"neg_sameby\": {\"all\": [], \"any\": []},\n",
    "    \"neg_diffby\": {\"all\": [\"Metadata_target\", \"Metadata_broad_sample\"], \"any\": []},\n",
    "    \"multilabel_col\": \"Metadata_target\",\n",
    "}\n",
    "\n",
    "map_config = {\n",
    "    \"null_size\": 100000,\n",
    "    \"groupby_columns\": [\"Metadata_target\"],\n",
    "}"
   ]
  },
  {
   "cell_type": "code",
   "execution_count": 7,
   "metadata": {},
   "outputs": [
    {
     "data": {
      "text/plain": [
       "((300, 7), (300, 7))"
      ]
     },
     "execution_count": 7,
     "metadata": {},
     "output_type": "execute_result"
    }
   ],
   "source": [
    "cp_map_results = pd.read_csv(\"outputs/cp_map_activity_results.csv\")\n",
    "ne_map_results = pd.read_csv(\"outputs/ne_map_activity_results.csv\")\n",
    "\n",
    "cp_map_results.shape, ne_map_results.shape"
   ]
  },
  {
   "cell_type": "code",
   "execution_count": 8,
   "metadata": {},
   "outputs": [
    {
     "data": {
      "text/plain": [
       "(300, 618)"
      ]
     },
     "execution_count": 8,
     "metadata": {},
     "output_type": "execute_result"
    }
   ],
   "source": [
    "_, feature_cols = get_meta_features(cp_df)\n",
    "\n",
    "cp_all_df = aggregate(\n",
    "    cp_df,\n",
    "    strata=[\"Metadata_broad_sample\", \"Metadata_target_list\"],\n",
    "    features=feature_cols,\n",
    ")\n",
    "cp_all_df[\"Metadata_target\"] = cp_all_df[\"Metadata_target_list\"].str.split(\"|\")\n",
    "cp_all_df = cp_all_df.query(\"Metadata_broad_sample != 'NA'\")\n",
    "cp_all_df.shape"
   ]
  },
  {
   "cell_type": "code",
   "execution_count": 9,
   "metadata": {},
   "outputs": [
    {
     "data": {
      "text/plain": [
       "(300, 194)"
      ]
     },
     "execution_count": 9,
     "metadata": {},
     "output_type": "execute_result"
    }
   ],
   "source": [
    "_, feature_cols = get_meta_features(ne_df)\n",
    "\n",
    "ne_all_df = aggregate(\n",
    "    ne_df,\n",
    "    strata=[\"Metadata_broad_sample\", \"Metadata_target_list\"],\n",
    "    features=feature_cols,\n",
    ")\n",
    "ne_all_df[\"Metadata_target\"] = ne_all_df[\"Metadata_target_list\"].str.split(\"|\")\n",
    "ne_all_df = ne_all_df.query(\"Metadata_broad_sample != 'NA'\")\n",
    "ne_all_df.shape"
   ]
  },
  {
   "cell_type": "code",
   "execution_count": 10,
   "metadata": {},
   "outputs": [
    {
     "data": {
      "application/vnd.jupyter.widget-view+json": {
       "model_id": "f569fd548e7746059a4afb332356f169",
       "version_major": 2,
       "version_minor": 0
      },
      "text/plain": [
       "  0%|          | 0/1 [00:00<?, ?it/s]"
      ]
     },
     "metadata": {},
     "output_type": "display_data"
    },
    {
     "data": {
      "application/vnd.jupyter.widget-view+json": {
       "model_id": "fce97218669e4eb5a2125379655ed0b3",
       "version_major": 2,
       "version_minor": 0
      },
      "text/plain": [
       "  0%|          | 0/4 [00:00<?, ?it/s]"
      ]
     },
     "metadata": {},
     "output_type": "display_data"
    },
    {
     "data": {
      "application/vnd.jupyter.widget-view+json": {
       "model_id": "65a3762d46044583b585d6b4fc98379a",
       "version_major": 2,
       "version_minor": 0
      },
      "text/plain": [
       "  0%|          | 0/385 [00:00<?, ?it/s]"
      ]
     },
     "metadata": {},
     "output_type": "display_data"
    },
    {
     "data": {
      "application/vnd.jupyter.widget-view+json": {
       "model_id": "a352be45d854427e83064ccad5ce823c",
       "version_major": 2,
       "version_minor": 0
      },
      "text/plain": [
       "  0%|          | 0/413 [00:00<?, ?it/s]"
      ]
     },
     "metadata": {},
     "output_type": "display_data"
    },
    {
     "data": {
      "application/vnd.jupyter.widget-view+json": {
       "model_id": "7e060af7bedf4e5db1eeb674694b2763",
       "version_major": 2,
       "version_minor": 0
      },
      "text/plain": [
       "  0%|          | 0/1 [00:00<?, ?it/s]"
      ]
     },
     "metadata": {},
     "output_type": "display_data"
    },
    {
     "data": {
      "application/vnd.jupyter.widget-view+json": {
       "model_id": "4667e8a31edf4de7855cf482e576ee60",
       "version_major": 2,
       "version_minor": 0
      },
      "text/plain": [
       "  0%|          | 0/4 [00:00<?, ?it/s]"
      ]
     },
     "metadata": {},
     "output_type": "display_data"
    },
    {
     "data": {
      "application/vnd.jupyter.widget-view+json": {
       "model_id": "149dbea2449b4ca191b39e450131a223",
       "version_major": 2,
       "version_minor": 0
      },
      "text/plain": [
       "  0%|          | 0/385 [00:00<?, ?it/s]"
      ]
     },
     "metadata": {},
     "output_type": "display_data"
    },
    {
     "data": {
      "application/vnd.jupyter.widget-view+json": {
       "model_id": "5ef27124389240cea6e2d3ee6bb53df1",
       "version_major": 2,
       "version_minor": 0
      },
      "text/plain": [
       "  0%|          | 0/413 [00:00<?, ?it/s]"
      ]
     },
     "metadata": {},
     "output_type": "display_data"
    }
   ],
   "source": [
    "cp_all_map_results = calculate_map(cp_all_df, pair_config, map_config)\n",
    "ne_all_map_results = calculate_map(ne_all_df, pair_config, map_config)"
   ]
  },
  {
   "cell_type": "code",
   "execution_count": 11,
   "metadata": {},
   "outputs": [],
   "source": [
    "cp_all_map_results.to_csv(\"outputs/cp_all_map_consistency_results.csv\", index=False)\n",
    "ne_all_map_results.to_csv(\"outputs/ne_all_map_consistency_results.csv\", index=False)"
   ]
  }
 ],
 "metadata": {
  "kernelspec": {
   "display_name": "map_benchmark",
   "language": "python",
   "name": "python3"
  },
  "language_info": {
   "codemirror_mode": {
    "name": "ipython",
    "version": 3
   },
   "file_extension": ".py",
   "mimetype": "text/x-python",
   "name": "python",
   "nbconvert_exporter": "python",
   "pygments_lexer": "ipython3",
   "version": "3.10.13"
  }
 },
 "nbformat": 4,
 "nbformat_minor": 2
}
