{
 "cells": [
  {
   "cell_type": "markdown",
   "metadata": {},
   "source": [
    "## 3. Calculate mAP for bulk and single cell perturbseq data\n",
    "\n",
    "Also calculate UMAP embeddings for each perturbation at the same time."
   ]
  },
  {
   "cell_type": "code",
   "execution_count": 1,
   "metadata": {},
   "outputs": [],
   "source": [
    "import pathlib\n",
    "\n",
    "import umap\n",
    "import numpy as np\n",
    "import pandas as pd\n",
    "\n",
    "from map_utils.map import calculate_map"
   ]
  },
  {
   "cell_type": "code",
   "execution_count": 2,
   "metadata": {},
   "outputs": [],
   "source": [
    "np.random.seed(42)\n",
    "\n",
    "gse_id = \"GSE132080\"\n",
    "perturbseq_data_dir = pathlib.Path(\"data/\")\n",
    "perturbseq_screen_phenotypes = (\n",
    "    \"paper_supplement/Table_S16_perturb-seq_screen_phenotypes.txt\"\n",
    ")"
   ]
  },
  {
   "cell_type": "markdown",
   "metadata": {},
   "source": [
    "### Calculate mAP for bulk data"
   ]
  },
  {
   "cell_type": "code",
   "execution_count": 3,
   "metadata": {},
   "outputs": [
    {
     "name": "stdout",
     "output_type": "stream",
     "text": [
      "(128, 8)\n"
     ]
    },
    {
     "data": {
      "text/html": [
       "<div>\n",
       "<style scoped>\n",
       "    .dataframe tbody tr th:only-of-type {\n",
       "        vertical-align: middle;\n",
       "    }\n",
       "\n",
       "    .dataframe tbody tr th {\n",
       "        vertical-align: top;\n",
       "    }\n",
       "\n",
       "    .dataframe thead th {\n",
       "        text-align: right;\n",
       "    }\n",
       "</style>\n",
       "<table border=\"1\" class=\"dataframe\">\n",
       "  <thead>\n",
       "    <tr style=\"text-align: right;\">\n",
       "      <th></th>\n",
       "      <th>id</th>\n",
       "      <th>sequence</th>\n",
       "      <th>gene</th>\n",
       "      <th>gamma_day5</th>\n",
       "      <th>gamma_day10</th>\n",
       "      <th>relative_activity_day5</th>\n",
       "      <th>relative_activity_day10</th>\n",
       "      <th>perturbation</th>\n",
       "    </tr>\n",
       "  </thead>\n",
       "  <tbody>\n",
       "    <tr>\n",
       "      <th>0</th>\n",
       "      <td>ALDOA_+_30077139.23-P1P2_00</td>\n",
       "      <td>GGTCACCAGGACCCCTTCTG</td>\n",
       "      <td>ALDOA</td>\n",
       "      <td>-0.412746</td>\n",
       "      <td>-0.366469</td>\n",
       "      <td>1.000000</td>\n",
       "      <td>1.000000</td>\n",
       "      <td>ALDOA_ALDOA_+_30077139.23-P1P2_00</td>\n",
       "    </tr>\n",
       "    <tr>\n",
       "      <th>1</th>\n",
       "      <td>ALDOA_+_30077139.23-P1P2_06</td>\n",
       "      <td>GGTCACCAGGATCCCTTCTG</td>\n",
       "      <td>ALDOA</td>\n",
       "      <td>-0.396687</td>\n",
       "      <td>-0.348503</td>\n",
       "      <td>0.961091</td>\n",
       "      <td>0.950977</td>\n",
       "      <td>ALDOA_ALDOA_+_30077139.23-P1P2_06</td>\n",
       "    </tr>\n",
       "    <tr>\n",
       "      <th>2</th>\n",
       "      <td>ALDOA_+_30077139.23-P1P2_07</td>\n",
       "      <td>GGTCACCAGGCCCCCTTCTG</td>\n",
       "      <td>ALDOA</td>\n",
       "      <td>-0.360892</td>\n",
       "      <td>-0.335059</td>\n",
       "      <td>0.874369</td>\n",
       "      <td>0.914291</td>\n",
       "      <td>ALDOA_ALDOA_+_30077139.23-P1P2_07</td>\n",
       "    </tr>\n",
       "    <tr>\n",
       "      <th>3</th>\n",
       "      <td>ALDOA_+_30077139.23-P1P2_13</td>\n",
       "      <td>GGTCACCAGGACCCCTTTTG</td>\n",
       "      <td>ALDOA</td>\n",
       "      <td>0.017063</td>\n",
       "      <td>-0.000220</td>\n",
       "      <td>-0.041340</td>\n",
       "      <td>0.000601</td>\n",
       "      <td>ALDOA_ALDOA_+_30077139.23-P1P2_13</td>\n",
       "    </tr>\n",
       "    <tr>\n",
       "      <th>4</th>\n",
       "      <td>ALDOA_+_30077139.23-P1P2_14</td>\n",
       "      <td>GGTCACCAGGACCGCTTCTG</td>\n",
       "      <td>ALDOA</td>\n",
       "      <td>-0.175243</td>\n",
       "      <td>-0.156611</td>\n",
       "      <td>0.424579</td>\n",
       "      <td>0.427353</td>\n",
       "      <td>ALDOA_ALDOA_+_30077139.23-P1P2_14</td>\n",
       "    </tr>\n",
       "  </tbody>\n",
       "</table>\n",
       "</div>"
      ],
      "text/plain": [
       "                            id              sequence   gene  gamma_day5  \\\n",
       "0  ALDOA_+_30077139.23-P1P2_00  GGTCACCAGGACCCCTTCTG  ALDOA   -0.412746   \n",
       "1  ALDOA_+_30077139.23-P1P2_06  GGTCACCAGGATCCCTTCTG  ALDOA   -0.396687   \n",
       "2  ALDOA_+_30077139.23-P1P2_07  GGTCACCAGGCCCCCTTCTG  ALDOA   -0.360892   \n",
       "3  ALDOA_+_30077139.23-P1P2_13  GGTCACCAGGACCCCTTTTG  ALDOA    0.017063   \n",
       "4  ALDOA_+_30077139.23-P1P2_14  GGTCACCAGGACCGCTTCTG  ALDOA   -0.175243   \n",
       "\n",
       "   gamma_day10  relative_activity_day5  relative_activity_day10  \\\n",
       "0    -0.366469                1.000000                 1.000000   \n",
       "1    -0.348503                0.961091                 0.950977   \n",
       "2    -0.335059                0.874369                 0.914291   \n",
       "3    -0.000220               -0.041340                 0.000601   \n",
       "4    -0.156611                0.424579                 0.427353   \n",
       "\n",
       "                        perturbation  \n",
       "0  ALDOA_ALDOA_+_30077139.23-P1P2_00  \n",
       "1  ALDOA_ALDOA_+_30077139.23-P1P2_06  \n",
       "2  ALDOA_ALDOA_+_30077139.23-P1P2_07  \n",
       "3  ALDOA_ALDOA_+_30077139.23-P1P2_13  \n",
       "4  ALDOA_ALDOA_+_30077139.23-P1P2_14  "
      ]
     },
     "execution_count": 3,
     "metadata": {},
     "output_type": "execute_result"
    }
   ],
   "source": [
    "# Load activities results (bulk)\n",
    "file = perturbseq_data_dir / perturbseq_screen_phenotypes\n",
    "activity_df = pd.read_csv(file, sep=\"\\t\").rename({\"Unnamed: 0\": \"id\"}, axis=\"columns\")\n",
    "\n",
    "# Create a perturbation column to match with other IDs\n",
    "activity_df = activity_df.assign(perturbation=activity_df.gene + \"_\" + activity_df.id)\n",
    "\n",
    "print(activity_df.shape)\n",
    "activity_df.head()"
   ]
  },
  {
   "cell_type": "code",
   "execution_count": 4,
   "metadata": {},
   "outputs": [
    {
     "data": {
      "text/html": [
       "<div>\n",
       "<style scoped>\n",
       "    .dataframe tbody tr th:only-of-type {\n",
       "        vertical-align: middle;\n",
       "    }\n",
       "\n",
       "    .dataframe tbody tr th {\n",
       "        vertical-align: top;\n",
       "    }\n",
       "\n",
       "    .dataframe thead th {\n",
       "        text-align: right;\n",
       "    }\n",
       "</style>\n",
       "<table border=\"1\" class=\"dataframe\">\n",
       "  <thead>\n",
       "    <tr style=\"text-align: right;\">\n",
       "      <th></th>\n",
       "      <th>Metadata_guide_identity</th>\n",
       "      <th>Metadata_gene_identity</th>\n",
       "      <th>ABCA1</th>\n",
       "      <th>ABCC3</th>\n",
       "      <th>ABI3BP</th>\n",
       "      <th>AC002331.1</th>\n",
       "      <th>AC002480.3</th>\n",
       "      <th>AC003092.1</th>\n",
       "      <th>AC005616.2</th>\n",
       "      <th>AC006262.5</th>\n",
       "      <th>...</th>\n",
       "      <th>YPEL5</th>\n",
       "      <th>ZBTB38</th>\n",
       "      <th>ZFAS1</th>\n",
       "      <th>ZFP36L1</th>\n",
       "      <th>ZNF365</th>\n",
       "      <th>ZNF43</th>\n",
       "      <th>ZNF483</th>\n",
       "      <th>ZNF556</th>\n",
       "      <th>ZYX</th>\n",
       "      <th>Metadata_reference_index</th>\n",
       "    </tr>\n",
       "  </thead>\n",
       "  <tbody>\n",
       "    <tr>\n",
       "      <th>0</th>\n",
       "      <td>ALDOA_ALDOA_+_30077139.23-P1P2_00</td>\n",
       "      <td>ALDOA</td>\n",
       "      <td>-0.078689</td>\n",
       "      <td>-0.093494</td>\n",
       "      <td>-0.01406</td>\n",
       "      <td>-0.013653</td>\n",
       "      <td>-0.018973</td>\n",
       "      <td>-0.026806</td>\n",
       "      <td>-0.034066</td>\n",
       "      <td>-0.485621</td>\n",
       "      <td>...</td>\n",
       "      <td>-0.632468</td>\n",
       "      <td>-0.539091</td>\n",
       "      <td>-0.170790</td>\n",
       "      <td>0.014776</td>\n",
       "      <td>-0.012155</td>\n",
       "      <td>-0.017763</td>\n",
       "      <td>-0.026877</td>\n",
       "      <td>-0.0524</td>\n",
       "      <td>-0.452229</td>\n",
       "      <td>-1</td>\n",
       "    </tr>\n",
       "    <tr>\n",
       "      <th>1</th>\n",
       "      <td>ALDOA_ALDOA_+_30077139.23-P1P2_06</td>\n",
       "      <td>ALDOA</td>\n",
       "      <td>-0.078689</td>\n",
       "      <td>-0.093494</td>\n",
       "      <td>-0.01406</td>\n",
       "      <td>-0.013653</td>\n",
       "      <td>-0.018973</td>\n",
       "      <td>-0.026806</td>\n",
       "      <td>-0.034066</td>\n",
       "      <td>-0.485621</td>\n",
       "      <td>...</td>\n",
       "      <td>-0.632468</td>\n",
       "      <td>-0.539091</td>\n",
       "      <td>-0.045114</td>\n",
       "      <td>0.042050</td>\n",
       "      <td>-0.012155</td>\n",
       "      <td>-0.017763</td>\n",
       "      <td>-0.026877</td>\n",
       "      <td>-0.0524</td>\n",
       "      <td>-0.452229</td>\n",
       "      <td>-1</td>\n",
       "    </tr>\n",
       "    <tr>\n",
       "      <th>2</th>\n",
       "      <td>ALDOA_ALDOA_+_30077139.23-P1P2_07</td>\n",
       "      <td>ALDOA</td>\n",
       "      <td>-0.078689</td>\n",
       "      <td>-0.093494</td>\n",
       "      <td>-0.01406</td>\n",
       "      <td>-0.013653</td>\n",
       "      <td>-0.018973</td>\n",
       "      <td>-0.026806</td>\n",
       "      <td>-0.034066</td>\n",
       "      <td>-0.485621</td>\n",
       "      <td>...</td>\n",
       "      <td>-0.632468</td>\n",
       "      <td>-0.539091</td>\n",
       "      <td>-0.101183</td>\n",
       "      <td>0.027887</td>\n",
       "      <td>-0.012155</td>\n",
       "      <td>-0.017763</td>\n",
       "      <td>-0.026877</td>\n",
       "      <td>-0.0524</td>\n",
       "      <td>-0.452229</td>\n",
       "      <td>-1</td>\n",
       "    </tr>\n",
       "    <tr>\n",
       "      <th>3</th>\n",
       "      <td>ALDOA_ALDOA_+_30077139.23-P1P2_13</td>\n",
       "      <td>ALDOA</td>\n",
       "      <td>-0.078689</td>\n",
       "      <td>-0.093494</td>\n",
       "      <td>-0.01406</td>\n",
       "      <td>-0.013653</td>\n",
       "      <td>-0.018973</td>\n",
       "      <td>-0.026806</td>\n",
       "      <td>-0.034066</td>\n",
       "      <td>-0.485621</td>\n",
       "      <td>...</td>\n",
       "      <td>-0.632468</td>\n",
       "      <td>-0.539091</td>\n",
       "      <td>-0.050848</td>\n",
       "      <td>-0.107389</td>\n",
       "      <td>-0.012155</td>\n",
       "      <td>-0.017763</td>\n",
       "      <td>-0.026877</td>\n",
       "      <td>-0.0524</td>\n",
       "      <td>-0.452229</td>\n",
       "      <td>-1</td>\n",
       "    </tr>\n",
       "    <tr>\n",
       "      <th>4</th>\n",
       "      <td>ALDOA_ALDOA_+_30077139.23-P1P2_14</td>\n",
       "      <td>ALDOA</td>\n",
       "      <td>-0.078689</td>\n",
       "      <td>-0.093494</td>\n",
       "      <td>-0.01406</td>\n",
       "      <td>-0.013653</td>\n",
       "      <td>-0.018973</td>\n",
       "      <td>-0.026806</td>\n",
       "      <td>-0.034066</td>\n",
       "      <td>-0.485621</td>\n",
       "      <td>...</td>\n",
       "      <td>-0.632468</td>\n",
       "      <td>-0.539091</td>\n",
       "      <td>0.150701</td>\n",
       "      <td>0.051095</td>\n",
       "      <td>-0.012155</td>\n",
       "      <td>-0.017763</td>\n",
       "      <td>-0.026877</td>\n",
       "      <td>-0.0524</td>\n",
       "      <td>-0.452229</td>\n",
       "      <td>-1</td>\n",
       "    </tr>\n",
       "    <tr>\n",
       "      <th>...</th>\n",
       "      <td>...</td>\n",
       "      <td>...</td>\n",
       "      <td>...</td>\n",
       "      <td>...</td>\n",
       "      <td>...</td>\n",
       "      <td>...</td>\n",
       "      <td>...</td>\n",
       "      <td>...</td>\n",
       "      <td>...</td>\n",
       "      <td>...</td>\n",
       "      <td>...</td>\n",
       "      <td>...</td>\n",
       "      <td>...</td>\n",
       "      <td>...</td>\n",
       "      <td>...</td>\n",
       "      <td>...</td>\n",
       "      <td>...</td>\n",
       "      <td>...</td>\n",
       "      <td>...</td>\n",
       "      <td>...</td>\n",
       "      <td>...</td>\n",
       "    </tr>\n",
       "    <tr>\n",
       "      <th>133</th>\n",
       "      <td>neg_ctrl_non-targeting_00283</td>\n",
       "      <td>neg</td>\n",
       "      <td>-0.078689</td>\n",
       "      <td>-0.093494</td>\n",
       "      <td>-0.01406</td>\n",
       "      <td>-0.013653</td>\n",
       "      <td>-0.018973</td>\n",
       "      <td>-0.026806</td>\n",
       "      <td>-0.034066</td>\n",
       "      <td>-0.485621</td>\n",
       "      <td>...</td>\n",
       "      <td>-0.632468</td>\n",
       "      <td>-0.539091</td>\n",
       "      <td>-0.115780</td>\n",
       "      <td>-0.179220</td>\n",
       "      <td>-0.012155</td>\n",
       "      <td>-0.017763</td>\n",
       "      <td>-0.026877</td>\n",
       "      <td>-0.0524</td>\n",
       "      <td>-0.452229</td>\n",
       "      <td>133</td>\n",
       "    </tr>\n",
       "    <tr>\n",
       "      <th>134</th>\n",
       "      <td>neg_ctrl_non-targeting_00406</td>\n",
       "      <td>neg</td>\n",
       "      <td>-0.078689</td>\n",
       "      <td>-0.093494</td>\n",
       "      <td>-0.01406</td>\n",
       "      <td>-0.013653</td>\n",
       "      <td>-0.018973</td>\n",
       "      <td>-0.026806</td>\n",
       "      <td>-0.034066</td>\n",
       "      <td>-0.485621</td>\n",
       "      <td>...</td>\n",
       "      <td>-0.632468</td>\n",
       "      <td>-0.539091</td>\n",
       "      <td>-0.090275</td>\n",
       "      <td>-0.027992</td>\n",
       "      <td>-0.012155</td>\n",
       "      <td>-0.017763</td>\n",
       "      <td>-0.026877</td>\n",
       "      <td>-0.0524</td>\n",
       "      <td>-0.452229</td>\n",
       "      <td>134</td>\n",
       "    </tr>\n",
       "    <tr>\n",
       "      <th>135</th>\n",
       "      <td>neg_ctrl_non-targeting_00527</td>\n",
       "      <td>neg</td>\n",
       "      <td>-0.078689</td>\n",
       "      <td>-0.093494</td>\n",
       "      <td>-0.01406</td>\n",
       "      <td>-0.013653</td>\n",
       "      <td>-0.018973</td>\n",
       "      <td>-0.026806</td>\n",
       "      <td>-0.034066</td>\n",
       "      <td>-0.485621</td>\n",
       "      <td>...</td>\n",
       "      <td>-0.632468</td>\n",
       "      <td>-0.539091</td>\n",
       "      <td>-0.084769</td>\n",
       "      <td>-0.130657</td>\n",
       "      <td>-0.012155</td>\n",
       "      <td>-0.017763</td>\n",
       "      <td>-0.026877</td>\n",
       "      <td>-0.0524</td>\n",
       "      <td>-0.452229</td>\n",
       "      <td>135</td>\n",
       "    </tr>\n",
       "    <tr>\n",
       "      <th>136</th>\n",
       "      <td>neg_ctrl_non-targeting_00802</td>\n",
       "      <td>neg</td>\n",
       "      <td>-0.078689</td>\n",
       "      <td>-0.093494</td>\n",
       "      <td>-0.01406</td>\n",
       "      <td>-0.013653</td>\n",
       "      <td>-0.018973</td>\n",
       "      <td>-0.026806</td>\n",
       "      <td>-0.034066</td>\n",
       "      <td>-0.485621</td>\n",
       "      <td>...</td>\n",
       "      <td>-0.632468</td>\n",
       "      <td>-0.539091</td>\n",
       "      <td>-0.007599</td>\n",
       "      <td>-0.058443</td>\n",
       "      <td>-0.012155</td>\n",
       "      <td>-0.017763</td>\n",
       "      <td>-0.026877</td>\n",
       "      <td>-0.0524</td>\n",
       "      <td>-0.452229</td>\n",
       "      <td>136</td>\n",
       "    </tr>\n",
       "    <tr>\n",
       "      <th>137</th>\n",
       "      <td>neg_ctrl_non-targeting_01040</td>\n",
       "      <td>neg</td>\n",
       "      <td>-0.078689</td>\n",
       "      <td>-0.093494</td>\n",
       "      <td>-0.01406</td>\n",
       "      <td>-0.013653</td>\n",
       "      <td>-0.018973</td>\n",
       "      <td>-0.026806</td>\n",
       "      <td>-0.034066</td>\n",
       "      <td>-0.485621</td>\n",
       "      <td>...</td>\n",
       "      <td>-0.632468</td>\n",
       "      <td>-0.539091</td>\n",
       "      <td>-0.087552</td>\n",
       "      <td>-0.643785</td>\n",
       "      <td>-0.012155</td>\n",
       "      <td>-0.017763</td>\n",
       "      <td>-0.026877</td>\n",
       "      <td>-0.0524</td>\n",
       "      <td>-0.452229</td>\n",
       "      <td>137</td>\n",
       "    </tr>\n",
       "  </tbody>\n",
       "</table>\n",
       "<p>138 rows × 1003 columns</p>\n",
       "</div>"
      ],
      "text/plain": [
       "               Metadata_guide_identity Metadata_gene_identity     ABCA1  \\\n",
       "0    ALDOA_ALDOA_+_30077139.23-P1P2_00                  ALDOA -0.078689   \n",
       "1    ALDOA_ALDOA_+_30077139.23-P1P2_06                  ALDOA -0.078689   \n",
       "2    ALDOA_ALDOA_+_30077139.23-P1P2_07                  ALDOA -0.078689   \n",
       "3    ALDOA_ALDOA_+_30077139.23-P1P2_13                  ALDOA -0.078689   \n",
       "4    ALDOA_ALDOA_+_30077139.23-P1P2_14                  ALDOA -0.078689   \n",
       "..                                 ...                    ...       ...   \n",
       "133       neg_ctrl_non-targeting_00283                    neg -0.078689   \n",
       "134       neg_ctrl_non-targeting_00406                    neg -0.078689   \n",
       "135       neg_ctrl_non-targeting_00527                    neg -0.078689   \n",
       "136       neg_ctrl_non-targeting_00802                    neg -0.078689   \n",
       "137       neg_ctrl_non-targeting_01040                    neg -0.078689   \n",
       "\n",
       "        ABCC3   ABI3BP  AC002331.1  AC002480.3  AC003092.1  AC005616.2  \\\n",
       "0   -0.093494 -0.01406   -0.013653   -0.018973   -0.026806   -0.034066   \n",
       "1   -0.093494 -0.01406   -0.013653   -0.018973   -0.026806   -0.034066   \n",
       "2   -0.093494 -0.01406   -0.013653   -0.018973   -0.026806   -0.034066   \n",
       "3   -0.093494 -0.01406   -0.013653   -0.018973   -0.026806   -0.034066   \n",
       "4   -0.093494 -0.01406   -0.013653   -0.018973   -0.026806   -0.034066   \n",
       "..        ...      ...         ...         ...         ...         ...   \n",
       "133 -0.093494 -0.01406   -0.013653   -0.018973   -0.026806   -0.034066   \n",
       "134 -0.093494 -0.01406   -0.013653   -0.018973   -0.026806   -0.034066   \n",
       "135 -0.093494 -0.01406   -0.013653   -0.018973   -0.026806   -0.034066   \n",
       "136 -0.093494 -0.01406   -0.013653   -0.018973   -0.026806   -0.034066   \n",
       "137 -0.093494 -0.01406   -0.013653   -0.018973   -0.026806   -0.034066   \n",
       "\n",
       "     AC006262.5  ...     YPEL5    ZBTB38     ZFAS1   ZFP36L1    ZNF365  \\\n",
       "0     -0.485621  ... -0.632468 -0.539091 -0.170790  0.014776 -0.012155   \n",
       "1     -0.485621  ... -0.632468 -0.539091 -0.045114  0.042050 -0.012155   \n",
       "2     -0.485621  ... -0.632468 -0.539091 -0.101183  0.027887 -0.012155   \n",
       "3     -0.485621  ... -0.632468 -0.539091 -0.050848 -0.107389 -0.012155   \n",
       "4     -0.485621  ... -0.632468 -0.539091  0.150701  0.051095 -0.012155   \n",
       "..          ...  ...       ...       ...       ...       ...       ...   \n",
       "133   -0.485621  ... -0.632468 -0.539091 -0.115780 -0.179220 -0.012155   \n",
       "134   -0.485621  ... -0.632468 -0.539091 -0.090275 -0.027992 -0.012155   \n",
       "135   -0.485621  ... -0.632468 -0.539091 -0.084769 -0.130657 -0.012155   \n",
       "136   -0.485621  ... -0.632468 -0.539091 -0.007599 -0.058443 -0.012155   \n",
       "137   -0.485621  ... -0.632468 -0.539091 -0.087552 -0.643785 -0.012155   \n",
       "\n",
       "        ZNF43    ZNF483  ZNF556       ZYX  Metadata_reference_index  \n",
       "0   -0.017763 -0.026877 -0.0524 -0.452229                        -1  \n",
       "1   -0.017763 -0.026877 -0.0524 -0.452229                        -1  \n",
       "2   -0.017763 -0.026877 -0.0524 -0.452229                        -1  \n",
       "3   -0.017763 -0.026877 -0.0524 -0.452229                        -1  \n",
       "4   -0.017763 -0.026877 -0.0524 -0.452229                        -1  \n",
       "..        ...       ...     ...       ...                       ...  \n",
       "133 -0.017763 -0.026877 -0.0524 -0.452229                       133  \n",
       "134 -0.017763 -0.026877 -0.0524 -0.452229                       134  \n",
       "135 -0.017763 -0.026877 -0.0524 -0.452229                       135  \n",
       "136 -0.017763 -0.026877 -0.0524 -0.452229                       136  \n",
       "137 -0.017763 -0.026877 -0.0524 -0.452229                       137  \n",
       "\n",
       "[138 rows x 1003 columns]"
      ]
     },
     "execution_count": 4,
     "metadata": {},
     "output_type": "execute_result"
    }
   ],
   "source": [
    "bulk_file = pathlib.Path(f\"{perturbseq_data_dir}/{gse_id}_bulk_final_analytical.tsv.gz\")\n",
    "bulk_df = pd.read_csv(bulk_file, sep=\"\\t\")\n",
    "\n",
    "bulk_df = bulk_df.query(\"Metadata_gene_identity != '*'\").reset_index(drop=True)\n",
    "bulk_df[\"Metadata_reference_index\"] = np.where(\n",
    "    bulk_df[\"Metadata_gene_identity\"] == \"neg\", bulk_df.index, -1\n",
    ")\n",
    "bulk_df"
   ]
  },
  {
   "cell_type": "code",
   "execution_count": 5,
   "metadata": {},
   "outputs": [
    {
     "data": {
      "text/plain": [
       "['AC006262.5',\n",
       " 'AC016629.3',\n",
       " 'AC079466.1',\n",
       " 'ACP5',\n",
       " 'ACSM3',\n",
       " 'ACTB',\n",
       " 'ACTG1',\n",
       " 'AHNAK',\n",
       " 'AIF1',\n",
       " 'ALAS2',\n",
       " 'AMHR2',\n",
       " 'ANKRD10',\n",
       " 'ANXA2',\n",
       " 'ANXA2R',\n",
       " 'ANXA3',\n",
       " 'ANXA5',\n",
       " 'APOC1',\n",
       " 'APOE',\n",
       " 'AQP10',\n",
       " 'ARL6IP1',\n",
       " 'ARMCX3',\n",
       " 'ASNS',\n",
       " 'ASPM',\n",
       " 'ASS1',\n",
       " 'ATF4',\n",
       " 'ATF5',\n",
       " 'ATF7IP2',\n",
       " 'ATPIF1',\n",
       " 'AURKA',\n",
       " 'AURKB',\n",
       " 'BAG1',\n",
       " 'BBC3',\n",
       " 'BCYRN1',\n",
       " 'BEX2',\n",
       " 'BEX4',\n",
       " 'BEX5',\n",
       " 'BHLHE40',\n",
       " 'BIRC5',\n",
       " 'BLVRB',\n",
       " 'BRIX1',\n",
       " 'BST2',\n",
       " 'BTG1',\n",
       " 'BTG2',\n",
       " 'BUB1',\n",
       " 'C10orf128',\n",
       " 'C10orf54',\n",
       " 'C1orf61',\n",
       " 'C6orf48',\n",
       " 'CACYBP',\n",
       " 'CALM2',\n",
       " 'CALR',\n",
       " 'CARHSP1',\n",
       " 'CCDC71L',\n",
       " 'CCNA2',\n",
       " 'CCNB1',\n",
       " 'CCNB2',\n",
       " 'CCNE1',\n",
       " 'CCNF',\n",
       " 'CCPG1',\n",
       " 'CD47',\n",
       " 'CD52',\n",
       " 'CD53',\n",
       " 'CD7',\n",
       " 'CDC20',\n",
       " 'CDC42EP1',\n",
       " 'CDC45',\n",
       " 'CDCA3',\n",
       " 'CDCA8',\n",
       " 'CDK1',\n",
       " 'CDK2AP2',\n",
       " 'CDT1',\n",
       " 'CEBPB',\n",
       " 'CENPA',\n",
       " 'CENPE',\n",
       " 'CENPF',\n",
       " 'CFD',\n",
       " 'CHI3L2',\n",
       " 'CITED2',\n",
       " 'CKAP2',\n",
       " 'CKB',\n",
       " 'CKS1B',\n",
       " 'CKS2',\n",
       " 'CLDN6',\n",
       " 'CLEC2L',\n",
       " 'CLIC1',\n",
       " 'CLSPN',\n",
       " 'CLTA',\n",
       " 'COL2A1',\n",
       " 'COLGALT2',\n",
       " 'CORO1A',\n",
       " 'CR1L',\n",
       " 'CRELD2',\n",
       " 'CREM',\n",
       " 'CRYAB',\n",
       " 'CRYM',\n",
       " 'CSF3R',\n",
       " 'CTH',\n",
       " 'CTNNB1',\n",
       " 'CTSC',\n",
       " 'CTSL',\n",
       " 'CYCS',\n",
       " 'DDIT3',\n",
       " 'DDIT4',\n",
       " 'DENND2D',\n",
       " 'DEPDC1',\n",
       " 'DERL3',\n",
       " 'DHRS4L2',\n",
       " 'DLGAP5',\n",
       " 'DNAJA1',\n",
       " 'DNAJB11',\n",
       " 'DNAJB9',\n",
       " 'DNAJC3',\n",
       " 'DUT',\n",
       " 'EBNA1BP2',\n",
       " 'EEF2',\n",
       " 'EGFL7',\n",
       " 'EGLN3',\n",
       " 'EIF1',\n",
       " 'EIF2S3',\n",
       " 'EIF3L',\n",
       " 'EIF5',\n",
       " 'EMP2',\n",
       " 'EMP3',\n",
       " 'ESAM',\n",
       " 'EVI2B',\n",
       " 'EXOSC8',\n",
       " 'FABP5',\n",
       " 'FADS1',\n",
       " 'FAM178B',\n",
       " 'FAM19A2',\n",
       " 'FAM210B',\n",
       " 'FAM83A',\n",
       " 'FAM89A',\n",
       " 'FANCD2',\n",
       " 'FBXO5',\n",
       " 'FCER1G',\n",
       " 'FEZ1',\n",
       " 'GAL',\n",
       " 'GARS',\n",
       " 'GDF15',\n",
       " 'GINS2',\n",
       " 'GLRX',\n",
       " 'GMFG',\n",
       " 'GMPPA',\n",
       " 'GNB2L1',\n",
       " 'GPATCH4',\n",
       " 'GSN',\n",
       " 'GSTP1',\n",
       " 'GTSE1',\n",
       " 'GYPA',\n",
       " 'GYPB',\n",
       " 'H1FX',\n",
       " 'HBA1',\n",
       " 'HBA2',\n",
       " 'HBD',\n",
       " 'HBG1',\n",
       " 'HBG2',\n",
       " 'HBQ1',\n",
       " 'HBZ',\n",
       " 'HEMGN',\n",
       " 'HERPUD1',\n",
       " 'HES1',\n",
       " 'HES4',\n",
       " 'HES6',\n",
       " 'HIST1H1C',\n",
       " 'HIST1H1D',\n",
       " 'HIST1H1E',\n",
       " 'HIST1H2AC',\n",
       " 'HIST1H2BC',\n",
       " 'HIST1H2BD',\n",
       " 'HIST1H2BG',\n",
       " 'HIST1H2BH',\n",
       " 'HIST1H2BJ',\n",
       " 'HIST1H3H',\n",
       " 'HIST1H4C',\n",
       " 'HIST1H4H',\n",
       " 'HIST2H2AC',\n",
       " 'HIST3H2A',\n",
       " 'HLA-C',\n",
       " 'HMBS',\n",
       " 'HMGB2',\n",
       " 'HMGCS1',\n",
       " 'HMMR',\n",
       " 'HN1',\n",
       " 'HNRNPH1',\n",
       " 'HSP90AA1',\n",
       " 'HSP90AB1',\n",
       " 'HSP90B1',\n",
       " 'HSPA1A',\n",
       " 'HSPA5',\n",
       " 'HSPA8',\n",
       " 'HSPE1',\n",
       " 'HYOU1',\n",
       " 'ID1',\n",
       " 'ID3',\n",
       " 'IDH1',\n",
       " 'IER2',\n",
       " 'IFITM2',\n",
       " 'IGFBP2',\n",
       " 'ITGB2',\n",
       " 'JCHAIN',\n",
       " 'JUN',\n",
       " 'JUNB',\n",
       " 'KCNQ1OT1',\n",
       " 'KIAA0101',\n",
       " 'KIF14',\n",
       " 'KIF20B',\n",
       " 'KIF23',\n",
       " 'KIF2C',\n",
       " 'KIF4A',\n",
       " 'KIFC1',\n",
       " 'KLF1',\n",
       " 'KNSTRN',\n",
       " 'KPNA2',\n",
       " 'KRT18',\n",
       " 'KRT8',\n",
       " 'LAPTM5',\n",
       " 'LBH',\n",
       " 'LDHA',\n",
       " 'LGALS1',\n",
       " 'LINC00958',\n",
       " 'LINC01300',\n",
       " 'LINC01420',\n",
       " 'LMO2',\n",
       " 'LMO4',\n",
       " 'LST1',\n",
       " 'LTB',\n",
       " 'LYAR',\n",
       " 'MAD1L1',\n",
       " 'MALAT1',\n",
       " 'MANF',\n",
       " 'MAP1B',\n",
       " 'MAP1LC3B',\n",
       " 'MDK',\n",
       " 'MED10',\n",
       " 'MFGE8',\n",
       " 'MKI67',\n",
       " 'MLLT11',\n",
       " 'MPC2',\n",
       " 'MS4A3',\n",
       " 'MS4A4A',\n",
       " 'MT-ND6',\n",
       " 'MT1F',\n",
       " 'MTHFD2',\n",
       " 'MYC',\n",
       " 'MYDGF',\n",
       " 'MYL4',\n",
       " 'MYLIP',\n",
       " 'MYO1F',\n",
       " 'NANS',\n",
       " 'NCAPG',\n",
       " 'NCL',\n",
       " 'NDC80',\n",
       " 'NEAT1',\n",
       " 'NFKBIA',\n",
       " 'NKG7',\n",
       " 'NME1',\n",
       " 'NPM1',\n",
       " 'NPW',\n",
       " 'NUCB2',\n",
       " 'NUCKS1',\n",
       " 'NUDC',\n",
       " 'NUF2',\n",
       " 'NUSAP1',\n",
       " 'P4HB',\n",
       " 'PCAT14',\n",
       " 'PCK2',\n",
       " 'PCNA',\n",
       " 'PDIA3',\n",
       " 'PDIA4',\n",
       " 'PDIA6',\n",
       " 'PHACTR1',\n",
       " 'PHF19',\n",
       " 'PHGDH',\n",
       " 'PHLDA2',\n",
       " 'PIF1',\n",
       " 'PIM1',\n",
       " 'PITX1',\n",
       " 'PLAUR',\n",
       " 'PLK1',\n",
       " 'PNMT',\n",
       " 'PNRC1',\n",
       " 'PPIB',\n",
       " 'PPP1R15A',\n",
       " 'PRC1',\n",
       " 'PRDX1',\n",
       " 'PRR11',\n",
       " 'PRSS57',\n",
       " 'PSAT1',\n",
       " 'PSMA4',\n",
       " 'PSMC2',\n",
       " 'PSMD7',\n",
       " 'PSMG1',\n",
       " 'PSRC1',\n",
       " 'PTMA',\n",
       " 'PTPN7',\n",
       " 'PTPRS',\n",
       " 'PTRF',\n",
       " 'PTTG1',\n",
       " 'PVT1',\n",
       " 'RABAC1',\n",
       " 'RAC3',\n",
       " 'RANBP1',\n",
       " 'RFESD',\n",
       " 'RGCC',\n",
       " 'RGS16',\n",
       " 'RHCE',\n",
       " 'RNASE1',\n",
       " 'RNASET2',\n",
       " 'RP1-34B20.21',\n",
       " 'RP11-134O21.1',\n",
       " 'RP11-301G19.1',\n",
       " 'RP11-717F1.1',\n",
       " 'RP6-159A1.4',\n",
       " 'RPL22L1',\n",
       " 'RPL3',\n",
       " 'RPS6',\n",
       " 'RRM2',\n",
       " 'S100A1',\n",
       " 'S100A11',\n",
       " 'S100A13',\n",
       " 'S100A4',\n",
       " 'S100P',\n",
       " 'SAMSN1',\n",
       " 'SAT1',\n",
       " 'SAT2',\n",
       " 'SDF2L1',\n",
       " 'SEC11C',\n",
       " 'SELK',\n",
       " 'SELM',\n",
       " 'SEPP1',\n",
       " 'SERPINF1',\n",
       " 'SESN2',\n",
       " 'SET',\n",
       " 'SGOL1',\n",
       " 'SGOL2',\n",
       " 'SH3BGRL3',\n",
       " 'SHMT2',\n",
       " 'SLC20A1',\n",
       " 'SLC25A37',\n",
       " 'SLC25A6',\n",
       " 'SLC35B1',\n",
       " 'SLC3A2',\n",
       " 'SLC7A5',\n",
       " 'SLC7A8',\n",
       " 'SLIRP',\n",
       " 'SMAGP',\n",
       " 'SMC4',\n",
       " 'SMIM1',\n",
       " 'SMIM14',\n",
       " 'SMIM3',\n",
       " 'SMYD3',\n",
       " 'SNHG12',\n",
       " 'SNHG7',\n",
       " 'SOCS1',\n",
       " 'SPC24',\n",
       " 'SPC25',\n",
       " 'SPCS2',\n",
       " 'SPI1',\n",
       " 'SQLE',\n",
       " 'SQSTM1',\n",
       " 'SRM',\n",
       " 'SSB',\n",
       " 'SSR3',\n",
       " 'STAR',\n",
       " 'STOML2',\n",
       " 'STXBP6',\n",
       " 'SVIP',\n",
       " 'TAC3',\n",
       " 'TACC3',\n",
       " 'TES',\n",
       " 'TEX30',\n",
       " 'TIMP1',\n",
       " 'TK1',\n",
       " 'TMEM54',\n",
       " 'TMEM99',\n",
       " 'TMSB10',\n",
       " 'TMSB4X',\n",
       " 'TNFRSF12A',\n",
       " 'TNFSF10',\n",
       " 'TNNI3',\n",
       " 'TOP2A',\n",
       " 'TPX2',\n",
       " 'TRAPPC6A',\n",
       " 'TRIB3',\n",
       " 'TRPM4',\n",
       " 'TSC22D1',\n",
       " 'TSC22D3',\n",
       " 'TSPAN13',\n",
       " 'TSPAN32',\n",
       " 'TUBA1B',\n",
       " 'TUBA1C',\n",
       " 'TUBB',\n",
       " 'TUBB2A',\n",
       " 'TUBB2B',\n",
       " 'TUBB4B',\n",
       " 'TXNIP',\n",
       " 'TYROBP',\n",
       " 'UBB',\n",
       " 'UBC',\n",
       " 'UBE2L6',\n",
       " 'UBE2S',\n",
       " 'UBE2T',\n",
       " 'UFD1L',\n",
       " 'UNC5B',\n",
       " 'UQCC3',\n",
       " 'UROD',\n",
       " 'VIM',\n",
       " 'VIMP',\n",
       " 'WARS',\n",
       " 'WIPF3',\n",
       " 'WIPI1',\n",
       " 'XBP1',\n",
       " 'YPEL3',\n",
       " 'YPEL5',\n",
       " 'ZBTB38',\n",
       " 'ZFAS1',\n",
       " 'ZFP36L1']"
      ]
     },
     "execution_count": 5,
     "metadata": {},
     "output_type": "execute_result"
    }
   ],
   "source": [
    "genes_to_retain = (\n",
    "    pd.DataFrame(bulk_df.filter(regex=\"^(?!Metadata_)\").var() > 0.001)\n",
    "    .reset_index()\n",
    "    .rename({\"index\": \"gene\", 0: \"keep\"}, axis=\"columns\")\n",
    "    .query(\"keep\")\n",
    "    .gene.tolist()\n",
    ")\n",
    "genes_to_retain"
   ]
  },
  {
   "cell_type": "code",
   "execution_count": 6,
   "metadata": {},
   "outputs": [
    {
     "data": {
      "text/plain": [
       "['neg_ctrl_non-targeting_00001',\n",
       " 'neg_ctrl_non-targeting_00028',\n",
       " 'neg_ctrl_non-targeting_00054',\n",
       " 'neg_ctrl_non-targeting_00089',\n",
       " 'neg_ctrl_non-targeting_00217',\n",
       " 'neg_ctrl_non-targeting_00283',\n",
       " 'neg_ctrl_non-targeting_00406',\n",
       " 'neg_ctrl_non-targeting_00527',\n",
       " 'neg_ctrl_non-targeting_00802',\n",
       " 'neg_ctrl_non-targeting_01040']"
      ]
     },
     "execution_count": 6,
     "metadata": {},
     "output_type": "execute_result"
    }
   ],
   "source": [
    "barcode_col = \"Metadata_guide_identity\"\n",
    "gene_col = \"Metadata_gene_identity\"\n",
    "\n",
    "replicate_group = {\"profile_col\": barcode_col, \"replicate_group_col\": gene_col}\n",
    "\n",
    "neg_controls = [x for x in bulk_df.Metadata_guide_identity if \"neg_ctrl\" in x]\n",
    "neg_controls"
   ]
  },
  {
   "cell_type": "code",
   "execution_count": 7,
   "metadata": {},
   "outputs": [
    {
     "data": {
      "application/vnd.jupyter.widget-view+json": {
       "model_id": "649255eb48434c13b50635dcab1f35ad",
       "version_major": 2,
       "version_minor": 0
      },
      "text/plain": [
       "  0%|          | 0/1 [00:00<?, ?it/s]"
      ]
     },
     "metadata": {},
     "output_type": "display_data"
    },
    {
     "data": {
      "application/vnd.jupyter.widget-view+json": {
       "model_id": "eed4cb3487ee4d318b05d2685f340836",
       "version_major": 2,
       "version_minor": 0
      },
      "text/plain": [
       "  0%|          | 0/1 [00:00<?, ?it/s]"
      ]
     },
     "metadata": {},
     "output_type": "display_data"
    },
    {
     "name": "stderr",
     "output_type": "stream",
     "text": [
      "/dgx1nas1/storage/data/akalinin/miniconda3/envs/map_benchmark/lib/python3.10/site-packages/copairs/compute.py:152: RuntimeWarning: invalid value encountered in divide\n",
      "  ap_scores = np.add.reduceat(pr_k * rel_k_list, cutoffs) / num_pos\n"
     ]
    },
    {
     "data": {
      "application/vnd.jupyter.widget-view+json": {
       "model_id": "8c6b2bd537494788a87f1feb98059339",
       "version_major": 2,
       "version_minor": 0
      },
      "text/plain": [
       "  0%|          | 0/2 [00:00<?, ?it/s]"
      ]
     },
     "metadata": {},
     "output_type": "display_data"
    },
    {
     "data": {
      "application/vnd.jupyter.widget-view+json": {
       "model_id": "49eaee923039487cba33f47c1b59262f",
       "version_major": 2,
       "version_minor": 0
      },
      "text/plain": [
       "  0%|          | 0/128 [00:00<?, ?it/s]"
      ]
     },
     "metadata": {},
     "output_type": "display_data"
    },
    {
     "data": {
      "text/html": [
       "<div>\n",
       "<style scoped>\n",
       "    .dataframe tbody tr th:only-of-type {\n",
       "        vertical-align: middle;\n",
       "    }\n",
       "\n",
       "    .dataframe tbody tr th {\n",
       "        vertical-align: top;\n",
       "    }\n",
       "\n",
       "    .dataframe thead th {\n",
       "        text-align: right;\n",
       "    }\n",
       "</style>\n",
       "<table border=\"1\" class=\"dataframe\">\n",
       "  <thead>\n",
       "    <tr style=\"text-align: right;\">\n",
       "      <th></th>\n",
       "      <th>perturbation</th>\n",
       "      <th>group</th>\n",
       "      <th>mAP</th>\n",
       "      <th>p_value</th>\n",
       "      <th>corrected_p_value</th>\n",
       "      <th>below_p</th>\n",
       "      <th>p &lt; 0.05</th>\n",
       "      <th>-log10(mAP p-value)</th>\n",
       "    </tr>\n",
       "  </thead>\n",
       "  <tbody>\n",
       "    <tr>\n",
       "      <th>0</th>\n",
       "      <td>ALDOA_ALDOA_+_30077139.23-P1P2_00</td>\n",
       "      <td>ALDOA</td>\n",
       "      <td>0.701923</td>\n",
       "      <td>0.047928</td>\n",
       "      <td>0.074814</td>\n",
       "      <td>True</td>\n",
       "      <td>False</td>\n",
       "      <td>1.126015</td>\n",
       "    </tr>\n",
       "    <tr>\n",
       "      <th>1</th>\n",
       "      <td>ALDOA_ALDOA_+_30077139.23-P1P2_06</td>\n",
       "      <td>ALDOA</td>\n",
       "      <td>0.678571</td>\n",
       "      <td>0.062910</td>\n",
       "      <td>0.094735</td>\n",
       "      <td>False</td>\n",
       "      <td>False</td>\n",
       "      <td>1.023490</td>\n",
       "    </tr>\n",
       "    <tr>\n",
       "      <th>2</th>\n",
       "      <td>ALDOA_ALDOA_+_30077139.23-P1P2_07</td>\n",
       "      <td>ALDOA</td>\n",
       "      <td>0.678571</td>\n",
       "      <td>0.062910</td>\n",
       "      <td>0.094735</td>\n",
       "      <td>False</td>\n",
       "      <td>False</td>\n",
       "      <td>1.023490</td>\n",
       "    </tr>\n",
       "    <tr>\n",
       "      <th>3</th>\n",
       "      <td>ALDOA_ALDOA_+_30077139.23-P1P2_13</td>\n",
       "      <td>ALDOA</td>\n",
       "      <td>0.193515</td>\n",
       "      <td>0.999032</td>\n",
       "      <td>0.999656</td>\n",
       "      <td>False</td>\n",
       "      <td>False</td>\n",
       "      <td>0.000149</td>\n",
       "    </tr>\n",
       "    <tr>\n",
       "      <th>4</th>\n",
       "      <td>ALDOA_ALDOA_+_30077139.23-P1P2_14</td>\n",
       "      <td>ALDOA</td>\n",
       "      <td>0.241883</td>\n",
       "      <td>0.916268</td>\n",
       "      <td>0.999656</td>\n",
       "      <td>False</td>\n",
       "      <td>False</td>\n",
       "      <td>0.000149</td>\n",
       "    </tr>\n",
       "    <tr>\n",
       "      <th>...</th>\n",
       "      <td>...</td>\n",
       "      <td>...</td>\n",
       "      <td>...</td>\n",
       "      <td>...</td>\n",
       "      <td>...</td>\n",
       "      <td>...</td>\n",
       "      <td>...</td>\n",
       "      <td>...</td>\n",
       "    </tr>\n",
       "    <tr>\n",
       "      <th>123</th>\n",
       "      <td>TUBB_TUBB_+_30688126.23-P1_00</td>\n",
       "      <td>TUBB</td>\n",
       "      <td>1.000000</td>\n",
       "      <td>0.000002</td>\n",
       "      <td>0.000005</td>\n",
       "      <td>True</td>\n",
       "      <td>True</td>\n",
       "      <td>5.299331</td>\n",
       "    </tr>\n",
       "    <tr>\n",
       "      <th>124</th>\n",
       "      <td>TUBB_TUBB_+_30688126.23-P1_01</td>\n",
       "      <td>TUBB</td>\n",
       "      <td>1.000000</td>\n",
       "      <td>0.000002</td>\n",
       "      <td>0.000005</td>\n",
       "      <td>True</td>\n",
       "      <td>True</td>\n",
       "      <td>5.299331</td>\n",
       "    </tr>\n",
       "    <tr>\n",
       "      <th>125</th>\n",
       "      <td>TUBB_TUBB_+_30688126.23-P1_03</td>\n",
       "      <td>TUBB</td>\n",
       "      <td>1.000000</td>\n",
       "      <td>0.000002</td>\n",
       "      <td>0.000005</td>\n",
       "      <td>True</td>\n",
       "      <td>True</td>\n",
       "      <td>5.299331</td>\n",
       "    </tr>\n",
       "    <tr>\n",
       "      <th>126</th>\n",
       "      <td>TUBB_TUBB_+_30688126.23-P1_06</td>\n",
       "      <td>TUBB</td>\n",
       "      <td>1.000000</td>\n",
       "      <td>0.000002</td>\n",
       "      <td>0.000005</td>\n",
       "      <td>True</td>\n",
       "      <td>True</td>\n",
       "      <td>5.299331</td>\n",
       "    </tr>\n",
       "    <tr>\n",
       "      <th>127</th>\n",
       "      <td>TUBB_TUBB_+_30688126.23-P1_10</td>\n",
       "      <td>TUBB</td>\n",
       "      <td>0.205825</td>\n",
       "      <td>0.991832</td>\n",
       "      <td>0.999656</td>\n",
       "      <td>False</td>\n",
       "      <td>False</td>\n",
       "      <td>0.000149</td>\n",
       "    </tr>\n",
       "  </tbody>\n",
       "</table>\n",
       "<p>128 rows × 8 columns</p>\n",
       "</div>"
      ],
      "text/plain": [
       "                          perturbation  group       mAP   p_value  \\\n",
       "0    ALDOA_ALDOA_+_30077139.23-P1P2_00  ALDOA  0.701923  0.047928   \n",
       "1    ALDOA_ALDOA_+_30077139.23-P1P2_06  ALDOA  0.678571  0.062910   \n",
       "2    ALDOA_ALDOA_+_30077139.23-P1P2_07  ALDOA  0.678571  0.062910   \n",
       "3    ALDOA_ALDOA_+_30077139.23-P1P2_13  ALDOA  0.193515  0.999032   \n",
       "4    ALDOA_ALDOA_+_30077139.23-P1P2_14  ALDOA  0.241883  0.916268   \n",
       "..                                 ...    ...       ...       ...   \n",
       "123      TUBB_TUBB_+_30688126.23-P1_00   TUBB  1.000000  0.000002   \n",
       "124      TUBB_TUBB_+_30688126.23-P1_01   TUBB  1.000000  0.000002   \n",
       "125      TUBB_TUBB_+_30688126.23-P1_03   TUBB  1.000000  0.000002   \n",
       "126      TUBB_TUBB_+_30688126.23-P1_06   TUBB  1.000000  0.000002   \n",
       "127      TUBB_TUBB_+_30688126.23-P1_10   TUBB  0.205825  0.991832   \n",
       "\n",
       "     corrected_p_value  below_p  p < 0.05  -log10(mAP p-value)  \n",
       "0             0.074814     True     False             1.126015  \n",
       "1             0.094735    False     False             1.023490  \n",
       "2             0.094735    False     False             1.023490  \n",
       "3             0.999656    False     False             0.000149  \n",
       "4             0.999656    False     False             0.000149  \n",
       "..                 ...      ...       ...                  ...  \n",
       "123           0.000005     True      True             5.299331  \n",
       "124           0.000005     True      True             5.299331  \n",
       "125           0.000005     True      True             5.299331  \n",
       "126           0.000005     True      True             5.299331  \n",
       "127           0.999656    False     False             0.000149  \n",
       "\n",
       "[128 rows x 8 columns]"
      ]
     },
     "execution_count": 7,
     "metadata": {},
     "output_type": "execute_result"
    }
   ],
   "source": [
    "pair_config = {\n",
    "    \"pos_sameby\": {\n",
    "        \"all\": [\"Metadata_gene_identity\", \"Metadata_reference_index\"],\n",
    "        \"any\": [],\n",
    "    },\n",
    "    \"pos_diffby\": {\"all\": [], \"any\": []},\n",
    "    \"neg_sameby\": {\"all\": [], \"any\": []},\n",
    "    \"neg_diffby\": {\n",
    "        \"all\": [\"Metadata_gene_identity\", \"Metadata_reference_index\"],\n",
    "        \"any\": [],\n",
    "    },\n",
    "}\n",
    "\n",
    "map_config = {\n",
    "    \"null_size\": 500000,\n",
    "    \"groupby_columns\": [\"Metadata_guide_identity\", \"Metadata_gene_identity\"],\n",
    "}\n",
    "\n",
    "metadata_cols = bulk_df.filter(regex=\"Metadata_\").columns.tolist()\n",
    "map_results = calculate_map(\n",
    "    bulk_df.loc[:, metadata_cols + genes_to_retain], pair_config, map_config\n",
    ")\n",
    "\n",
    "map_results.rename(\n",
    "    {\"Metadata_guide_identity\": \"perturbation\", \"Metadata_gene_identity\": \"group\"},\n",
    "    axis=\"columns\",\n",
    "    inplace=True,\n",
    ")\n",
    "map_results"
   ]
  },
  {
   "cell_type": "code",
   "execution_count": 8,
   "metadata": {},
   "outputs": [
    {
     "name": "stdout",
     "output_type": "stream",
     "text": [
      "(128, 15)\n"
     ]
    },
    {
     "data": {
      "text/html": [
       "<div>\n",
       "<style scoped>\n",
       "    .dataframe tbody tr th:only-of-type {\n",
       "        vertical-align: middle;\n",
       "    }\n",
       "\n",
       "    .dataframe tbody tr th {\n",
       "        vertical-align: top;\n",
       "    }\n",
       "\n",
       "    .dataframe thead th {\n",
       "        text-align: right;\n",
       "    }\n",
       "</style>\n",
       "<table border=\"1\" class=\"dataframe\">\n",
       "  <thead>\n",
       "    <tr style=\"text-align: right;\">\n",
       "      <th></th>\n",
       "      <th>perturbation</th>\n",
       "      <th>group</th>\n",
       "      <th>mAP</th>\n",
       "      <th>p_value</th>\n",
       "      <th>corrected_p_value</th>\n",
       "      <th>below_p</th>\n",
       "      <th>p &lt; 0.05</th>\n",
       "      <th>-log10(mAP p-value)</th>\n",
       "      <th>id</th>\n",
       "      <th>sequence</th>\n",
       "      <th>gene</th>\n",
       "      <th>gamma_day5</th>\n",
       "      <th>gamma_day10</th>\n",
       "      <th>relative_activity_day5</th>\n",
       "      <th>relative_activity_day10</th>\n",
       "    </tr>\n",
       "  </thead>\n",
       "  <tbody>\n",
       "    <tr>\n",
       "      <th>0</th>\n",
       "      <td>ALDOA_ALDOA_+_30077139.23-P1P2_00</td>\n",
       "      <td>ALDOA</td>\n",
       "      <td>0.701923</td>\n",
       "      <td>0.047928</td>\n",
       "      <td>0.074814</td>\n",
       "      <td>True</td>\n",
       "      <td>False</td>\n",
       "      <td>1.126015</td>\n",
       "      <td>ALDOA_+_30077139.23-P1P2_00</td>\n",
       "      <td>GGTCACCAGGACCCCTTCTG</td>\n",
       "      <td>ALDOA</td>\n",
       "      <td>-0.412746</td>\n",
       "      <td>-0.366469</td>\n",
       "      <td>1.000000</td>\n",
       "      <td>1.000000</td>\n",
       "    </tr>\n",
       "    <tr>\n",
       "      <th>1</th>\n",
       "      <td>ALDOA_ALDOA_+_30077139.23-P1P2_06</td>\n",
       "      <td>ALDOA</td>\n",
       "      <td>0.678571</td>\n",
       "      <td>0.062910</td>\n",
       "      <td>0.094735</td>\n",
       "      <td>False</td>\n",
       "      <td>False</td>\n",
       "      <td>1.023490</td>\n",
       "      <td>ALDOA_+_30077139.23-P1P2_06</td>\n",
       "      <td>GGTCACCAGGATCCCTTCTG</td>\n",
       "      <td>ALDOA</td>\n",
       "      <td>-0.396687</td>\n",
       "      <td>-0.348503</td>\n",
       "      <td>0.961091</td>\n",
       "      <td>0.950977</td>\n",
       "    </tr>\n",
       "    <tr>\n",
       "      <th>2</th>\n",
       "      <td>ALDOA_ALDOA_+_30077139.23-P1P2_07</td>\n",
       "      <td>ALDOA</td>\n",
       "      <td>0.678571</td>\n",
       "      <td>0.062910</td>\n",
       "      <td>0.094735</td>\n",
       "      <td>False</td>\n",
       "      <td>False</td>\n",
       "      <td>1.023490</td>\n",
       "      <td>ALDOA_+_30077139.23-P1P2_07</td>\n",
       "      <td>GGTCACCAGGCCCCCTTCTG</td>\n",
       "      <td>ALDOA</td>\n",
       "      <td>-0.360892</td>\n",
       "      <td>-0.335059</td>\n",
       "      <td>0.874369</td>\n",
       "      <td>0.914291</td>\n",
       "    </tr>\n",
       "  </tbody>\n",
       "</table>\n",
       "</div>"
      ],
      "text/plain": [
       "                        perturbation  group       mAP   p_value  \\\n",
       "0  ALDOA_ALDOA_+_30077139.23-P1P2_00  ALDOA  0.701923  0.047928   \n",
       "1  ALDOA_ALDOA_+_30077139.23-P1P2_06  ALDOA  0.678571  0.062910   \n",
       "2  ALDOA_ALDOA_+_30077139.23-P1P2_07  ALDOA  0.678571  0.062910   \n",
       "\n",
       "   corrected_p_value  below_p  p < 0.05  -log10(mAP p-value)  \\\n",
       "0           0.074814     True     False             1.126015   \n",
       "1           0.094735    False     False             1.023490   \n",
       "2           0.094735    False     False             1.023490   \n",
       "\n",
       "                            id              sequence   gene  gamma_day5  \\\n",
       "0  ALDOA_+_30077139.23-P1P2_00  GGTCACCAGGACCCCTTCTG  ALDOA   -0.412746   \n",
       "1  ALDOA_+_30077139.23-P1P2_06  GGTCACCAGGATCCCTTCTG  ALDOA   -0.396687   \n",
       "2  ALDOA_+_30077139.23-P1P2_07  GGTCACCAGGCCCCCTTCTG  ALDOA   -0.360892   \n",
       "\n",
       "   gamma_day10  relative_activity_day5  relative_activity_day10  \n",
       "0    -0.366469                1.000000                 1.000000  \n",
       "1    -0.348503                0.961091                 0.950977  \n",
       "2    -0.335059                0.874369                 0.914291  "
      ]
     },
     "execution_count": 8,
     "metadata": {},
     "output_type": "execute_result"
    }
   ],
   "source": [
    "# Merge with activity results and output file\n",
    "output_results_file = pathlib.Path(f\"results/{gse_id}_map.tsv\")\n",
    "\n",
    "result = map_results.merge(activity_df, left_on=\"perturbation\", right_on=\"perturbation\")\n",
    "\n",
    "result.to_csv(output_results_file, sep=\"\\t\", index=False)\n",
    "\n",
    "print(result.shape)\n",
    "result.head(3)"
   ]
  },
  {
   "cell_type": "markdown",
   "metadata": {},
   "source": [
    "### Calculate mAP for single-cell data"
   ]
  },
  {
   "cell_type": "code",
   "execution_count": 9,
   "metadata": {},
   "outputs": [
    {
     "name": "stderr",
     "output_type": "stream",
     "text": [
      "/tmp/ipykernel_39672/545283870.py:4: DtypeWarning: Columns (7) have mixed types. Specify dtype option on import or set low_memory=False.\n",
      "  sc_gene_exp_df = pd.read_csv(gene_exp_file, sep=\"\\t\")\n"
     ]
    },
    {
     "name": "stdout",
     "output_type": "stream",
     "text": [
      "(23537, 1012)\n"
     ]
    },
    {
     "data": {
      "text/html": [
       "<div>\n",
       "<style scoped>\n",
       "    .dataframe tbody tr th:only-of-type {\n",
       "        vertical-align: middle;\n",
       "    }\n",
       "\n",
       "    .dataframe tbody tr th {\n",
       "        vertical-align: top;\n",
       "    }\n",
       "\n",
       "    .dataframe thead th {\n",
       "        text-align: right;\n",
       "    }\n",
       "</style>\n",
       "<table border=\"1\" class=\"dataframe\">\n",
       "  <thead>\n",
       "    <tr style=\"text-align: right;\">\n",
       "      <th></th>\n",
       "      <th>Metadata_cell_identity</th>\n",
       "      <th>Metadata_cell_barcode</th>\n",
       "      <th>Metadata_guide_identity</th>\n",
       "      <th>Metadata_read_count</th>\n",
       "      <th>Metadata_UMI_count</th>\n",
       "      <th>Metadata_coverage</th>\n",
       "      <th>Metadata_gemgroup</th>\n",
       "      <th>Metadata_good_coverage</th>\n",
       "      <th>Metadata_number_of_cells</th>\n",
       "      <th>Metadata_gene_identity</th>\n",
       "      <th>...</th>\n",
       "      <th>YPEL4</th>\n",
       "      <th>YPEL5</th>\n",
       "      <th>ZBTB38</th>\n",
       "      <th>ZFAS1</th>\n",
       "      <th>ZFP36L1</th>\n",
       "      <th>ZNF365</th>\n",
       "      <th>ZNF43</th>\n",
       "      <th>ZNF483</th>\n",
       "      <th>ZNF556</th>\n",
       "      <th>ZYX</th>\n",
       "    </tr>\n",
       "  </thead>\n",
       "  <tbody>\n",
       "    <tr>\n",
       "      <th>0</th>\n",
       "      <td>sc_profile_0</td>\n",
       "      <td>AAACCTGAGAGTAATC-1</td>\n",
       "      <td>RAN_RAN_+_131356438.23-P1P2_12</td>\n",
       "      <td>544.0</td>\n",
       "      <td>34.0</td>\n",
       "      <td>16.000000</td>\n",
       "      <td>1.0</td>\n",
       "      <td>True</td>\n",
       "      <td>1.0</td>\n",
       "      <td>RAN</td>\n",
       "      <td>...</td>\n",
       "      <td>-0.09309</td>\n",
       "      <td>-0.632468</td>\n",
       "      <td>-0.539091</td>\n",
       "      <td>-1.633805</td>\n",
       "      <td>-0.876912</td>\n",
       "      <td>-0.012155</td>\n",
       "      <td>-0.017763</td>\n",
       "      <td>-0.026877</td>\n",
       "      <td>-0.0524</td>\n",
       "      <td>-0.452229</td>\n",
       "    </tr>\n",
       "    <tr>\n",
       "      <th>1</th>\n",
       "      <td>sc_profile_1</td>\n",
       "      <td>AAACCTGAGGGATCTG-1</td>\n",
       "      <td>neg_ctrl_non-targeting_00089</td>\n",
       "      <td>267.0</td>\n",
       "      <td>19.0</td>\n",
       "      <td>14.052632</td>\n",
       "      <td>1.0</td>\n",
       "      <td>True</td>\n",
       "      <td>1.0</td>\n",
       "      <td>neg</td>\n",
       "      <td>...</td>\n",
       "      <td>-0.09309</td>\n",
       "      <td>-0.632468</td>\n",
       "      <td>-0.539091</td>\n",
       "      <td>1.610220</td>\n",
       "      <td>1.322265</td>\n",
       "      <td>-0.012155</td>\n",
       "      <td>-0.017763</td>\n",
       "      <td>-0.026877</td>\n",
       "      <td>-0.0524</td>\n",
       "      <td>-0.452229</td>\n",
       "    </tr>\n",
       "    <tr>\n",
       "      <th>2</th>\n",
       "      <td>sc_profile_2</td>\n",
       "      <td>AAACCTGAGGTCATCT-1</td>\n",
       "      <td>POLR2H_POLR2H_+_184081251.23-P1P2_08</td>\n",
       "      <td>622.0</td>\n",
       "      <td>34.0</td>\n",
       "      <td>18.294118</td>\n",
       "      <td>1.0</td>\n",
       "      <td>True</td>\n",
       "      <td>1.0</td>\n",
       "      <td>POLR2H</td>\n",
       "      <td>...</td>\n",
       "      <td>-0.09309</td>\n",
       "      <td>-0.632468</td>\n",
       "      <td>-0.539091</td>\n",
       "      <td>-0.567252</td>\n",
       "      <td>0.057540</td>\n",
       "      <td>-0.012155</td>\n",
       "      <td>-0.017763</td>\n",
       "      <td>-0.026877</td>\n",
       "      <td>-0.0524</td>\n",
       "      <td>-0.452229</td>\n",
       "    </tr>\n",
       "    <tr>\n",
       "      <th>3</th>\n",
       "      <td>sc_profile_3</td>\n",
       "      <td>AAACCTGCAATGGAGC-1</td>\n",
       "      <td>TUBB_TUBB_+_30688126.23-P1_03</td>\n",
       "      <td>433.0</td>\n",
       "      <td>20.0</td>\n",
       "      <td>21.650000</td>\n",
       "      <td>1.0</td>\n",
       "      <td>True</td>\n",
       "      <td>1.0</td>\n",
       "      <td>TUBB</td>\n",
       "      <td>...</td>\n",
       "      <td>-0.09309</td>\n",
       "      <td>1.765279</td>\n",
       "      <td>-0.539091</td>\n",
       "      <td>-1.659420</td>\n",
       "      <td>-0.876912</td>\n",
       "      <td>-0.012155</td>\n",
       "      <td>-0.017763</td>\n",
       "      <td>-0.026877</td>\n",
       "      <td>-0.0524</td>\n",
       "      <td>-0.452229</td>\n",
       "    </tr>\n",
       "    <tr>\n",
       "      <th>4</th>\n",
       "      <td>sc_profile_4</td>\n",
       "      <td>AAACCTGCACCAGGCT-1</td>\n",
       "      <td>CDC23_CDC23_-_137548987.23-P1P2_04</td>\n",
       "      <td>136.0</td>\n",
       "      <td>8.0</td>\n",
       "      <td>17.000000</td>\n",
       "      <td>1.0</td>\n",
       "      <td>True</td>\n",
       "      <td>1.0</td>\n",
       "      <td>CDC23</td>\n",
       "      <td>...</td>\n",
       "      <td>-0.09309</td>\n",
       "      <td>0.686753</td>\n",
       "      <td>-0.539091</td>\n",
       "      <td>0.541260</td>\n",
       "      <td>0.934539</td>\n",
       "      <td>-0.012155</td>\n",
       "      <td>-0.017763</td>\n",
       "      <td>-0.026877</td>\n",
       "      <td>-0.0524</td>\n",
       "      <td>1.406718</td>\n",
       "    </tr>\n",
       "    <tr>\n",
       "      <th>...</th>\n",
       "      <td>...</td>\n",
       "      <td>...</td>\n",
       "      <td>...</td>\n",
       "      <td>...</td>\n",
       "      <td>...</td>\n",
       "      <td>...</td>\n",
       "      <td>...</td>\n",
       "      <td>...</td>\n",
       "      <td>...</td>\n",
       "      <td>...</td>\n",
       "      <td>...</td>\n",
       "      <td>...</td>\n",
       "      <td>...</td>\n",
       "      <td>...</td>\n",
       "      <td>...</td>\n",
       "      <td>...</td>\n",
       "      <td>...</td>\n",
       "      <td>...</td>\n",
       "      <td>...</td>\n",
       "      <td>...</td>\n",
       "      <td>...</td>\n",
       "    </tr>\n",
       "    <tr>\n",
       "      <th>23532</th>\n",
       "      <td>sc_profile_23532</td>\n",
       "      <td>TTTGTCAGTTTGACTG-3</td>\n",
       "      <td>CDC23_CDC23_-_137548987.23-P1P2_11</td>\n",
       "      <td>1509.0</td>\n",
       "      <td>106.0</td>\n",
       "      <td>14.235849</td>\n",
       "      <td>3.0</td>\n",
       "      <td>True</td>\n",
       "      <td>3.0</td>\n",
       "      <td>CDC23</td>\n",
       "      <td>...</td>\n",
       "      <td>-0.09309</td>\n",
       "      <td>0.207130</td>\n",
       "      <td>-0.539091</td>\n",
       "      <td>-0.772589</td>\n",
       "      <td>-0.876912</td>\n",
       "      <td>-0.012155</td>\n",
       "      <td>-0.017763</td>\n",
       "      <td>-0.026877</td>\n",
       "      <td>-0.0524</td>\n",
       "      <td>-0.452229</td>\n",
       "    </tr>\n",
       "    <tr>\n",
       "      <th>23533</th>\n",
       "      <td>sc_profile_23533</td>\n",
       "      <td>TTTGTCAGTTTGTTGG-3</td>\n",
       "      <td>ATP5E_ATP5E_-_57607036.23-P1P2_16</td>\n",
       "      <td>1207.0</td>\n",
       "      <td>73.0</td>\n",
       "      <td>16.534247</td>\n",
       "      <td>3.0</td>\n",
       "      <td>True</td>\n",
       "      <td>1.0</td>\n",
       "      <td>ATP5E</td>\n",
       "      <td>...</td>\n",
       "      <td>-0.09309</td>\n",
       "      <td>-0.632468</td>\n",
       "      <td>-0.539091</td>\n",
       "      <td>-0.539488</td>\n",
       "      <td>-0.876912</td>\n",
       "      <td>-0.012155</td>\n",
       "      <td>-0.017763</td>\n",
       "      <td>-0.026877</td>\n",
       "      <td>-0.0524</td>\n",
       "      <td>-0.452229</td>\n",
       "    </tr>\n",
       "    <tr>\n",
       "      <th>23534</th>\n",
       "      <td>sc_profile_23534</td>\n",
       "      <td>TTTGTCATCACAAACC-3</td>\n",
       "      <td>HSPE1_HSPE1_+_198365089.23-P1P2_01</td>\n",
       "      <td>378.0</td>\n",
       "      <td>25.0</td>\n",
       "      <td>15.120000</td>\n",
       "      <td>3.0</td>\n",
       "      <td>True</td>\n",
       "      <td>1.0</td>\n",
       "      <td>HSPE1</td>\n",
       "      <td>...</td>\n",
       "      <td>-0.09309</td>\n",
       "      <td>-0.632468</td>\n",
       "      <td>0.738755</td>\n",
       "      <td>-0.341440</td>\n",
       "      <td>-0.876912</td>\n",
       "      <td>-0.012155</td>\n",
       "      <td>-0.017763</td>\n",
       "      <td>-0.026877</td>\n",
       "      <td>-0.0524</td>\n",
       "      <td>-0.452229</td>\n",
       "    </tr>\n",
       "    <tr>\n",
       "      <th>23535</th>\n",
       "      <td>sc_profile_23535</td>\n",
       "      <td>TTTGTCATCAGCATGT-3</td>\n",
       "      <td>neg_ctrl_non-targeting_00028</td>\n",
       "      <td>856.0</td>\n",
       "      <td>53.0</td>\n",
       "      <td>16.150943</td>\n",
       "      <td>3.0</td>\n",
       "      <td>True</td>\n",
       "      <td>1.0</td>\n",
       "      <td>neg</td>\n",
       "      <td>...</td>\n",
       "      <td>-0.09309</td>\n",
       "      <td>0.379025</td>\n",
       "      <td>0.571873</td>\n",
       "      <td>0.294543</td>\n",
       "      <td>-0.876912</td>\n",
       "      <td>-0.012155</td>\n",
       "      <td>-0.017763</td>\n",
       "      <td>-0.026877</td>\n",
       "      <td>-0.0524</td>\n",
       "      <td>-0.452229</td>\n",
       "    </tr>\n",
       "    <tr>\n",
       "      <th>23536</th>\n",
       "      <td>sc_profile_23536</td>\n",
       "      <td>TTTGTCATCTTAGAGC-3</td>\n",
       "      <td>CAD_CAD_+_27440280.23-P1P2_07</td>\n",
       "      <td>352.0</td>\n",
       "      <td>21.0</td>\n",
       "      <td>16.761905</td>\n",
       "      <td>3.0</td>\n",
       "      <td>True</td>\n",
       "      <td>2.0</td>\n",
       "      <td>CAD</td>\n",
       "      <td>...</td>\n",
       "      <td>-0.09309</td>\n",
       "      <td>-0.632468</td>\n",
       "      <td>-0.539091</td>\n",
       "      <td>-0.397055</td>\n",
       "      <td>1.748824</td>\n",
       "      <td>-0.012155</td>\n",
       "      <td>-0.017763</td>\n",
       "      <td>-0.026877</td>\n",
       "      <td>-0.0524</td>\n",
       "      <td>-0.452229</td>\n",
       "    </tr>\n",
       "  </tbody>\n",
       "</table>\n",
       "<p>23537 rows × 1012 columns</p>\n",
       "</div>"
      ],
      "text/plain": [
       "      Metadata_cell_identity Metadata_cell_barcode  \\\n",
       "0               sc_profile_0    AAACCTGAGAGTAATC-1   \n",
       "1               sc_profile_1    AAACCTGAGGGATCTG-1   \n",
       "2               sc_profile_2    AAACCTGAGGTCATCT-1   \n",
       "3               sc_profile_3    AAACCTGCAATGGAGC-1   \n",
       "4               sc_profile_4    AAACCTGCACCAGGCT-1   \n",
       "...                      ...                   ...   \n",
       "23532       sc_profile_23532    TTTGTCAGTTTGACTG-3   \n",
       "23533       sc_profile_23533    TTTGTCAGTTTGTTGG-3   \n",
       "23534       sc_profile_23534    TTTGTCATCACAAACC-3   \n",
       "23535       sc_profile_23535    TTTGTCATCAGCATGT-3   \n",
       "23536       sc_profile_23536    TTTGTCATCTTAGAGC-3   \n",
       "\n",
       "                    Metadata_guide_identity  Metadata_read_count  \\\n",
       "0            RAN_RAN_+_131356438.23-P1P2_12                544.0   \n",
       "1              neg_ctrl_non-targeting_00089                267.0   \n",
       "2      POLR2H_POLR2H_+_184081251.23-P1P2_08                622.0   \n",
       "3             TUBB_TUBB_+_30688126.23-P1_03                433.0   \n",
       "4        CDC23_CDC23_-_137548987.23-P1P2_04                136.0   \n",
       "...                                     ...                  ...   \n",
       "23532    CDC23_CDC23_-_137548987.23-P1P2_11               1509.0   \n",
       "23533     ATP5E_ATP5E_-_57607036.23-P1P2_16               1207.0   \n",
       "23534    HSPE1_HSPE1_+_198365089.23-P1P2_01                378.0   \n",
       "23535          neg_ctrl_non-targeting_00028                856.0   \n",
       "23536         CAD_CAD_+_27440280.23-P1P2_07                352.0   \n",
       "\n",
       "       Metadata_UMI_count  Metadata_coverage  Metadata_gemgroup  \\\n",
       "0                    34.0          16.000000                1.0   \n",
       "1                    19.0          14.052632                1.0   \n",
       "2                    34.0          18.294118                1.0   \n",
       "3                    20.0          21.650000                1.0   \n",
       "4                     8.0          17.000000                1.0   \n",
       "...                   ...                ...                ...   \n",
       "23532               106.0          14.235849                3.0   \n",
       "23533                73.0          16.534247                3.0   \n",
       "23534                25.0          15.120000                3.0   \n",
       "23535                53.0          16.150943                3.0   \n",
       "23536                21.0          16.761905                3.0   \n",
       "\n",
       "      Metadata_good_coverage  Metadata_number_of_cells Metadata_gene_identity  \\\n",
       "0                       True                       1.0                    RAN   \n",
       "1                       True                       1.0                    neg   \n",
       "2                       True                       1.0                 POLR2H   \n",
       "3                       True                       1.0                   TUBB   \n",
       "4                       True                       1.0                  CDC23   \n",
       "...                      ...                       ...                    ...   \n",
       "23532                   True                       3.0                  CDC23   \n",
       "23533                   True                       1.0                  ATP5E   \n",
       "23534                   True                       1.0                  HSPE1   \n",
       "23535                   True                       1.0                    neg   \n",
       "23536                   True                       2.0                    CAD   \n",
       "\n",
       "       ...    YPEL4     YPEL5    ZBTB38     ZFAS1   ZFP36L1    ZNF365  \\\n",
       "0      ... -0.09309 -0.632468 -0.539091 -1.633805 -0.876912 -0.012155   \n",
       "1      ... -0.09309 -0.632468 -0.539091  1.610220  1.322265 -0.012155   \n",
       "2      ... -0.09309 -0.632468 -0.539091 -0.567252  0.057540 -0.012155   \n",
       "3      ... -0.09309  1.765279 -0.539091 -1.659420 -0.876912 -0.012155   \n",
       "4      ... -0.09309  0.686753 -0.539091  0.541260  0.934539 -0.012155   \n",
       "...    ...      ...       ...       ...       ...       ...       ...   \n",
       "23532  ... -0.09309  0.207130 -0.539091 -0.772589 -0.876912 -0.012155   \n",
       "23533  ... -0.09309 -0.632468 -0.539091 -0.539488 -0.876912 -0.012155   \n",
       "23534  ... -0.09309 -0.632468  0.738755 -0.341440 -0.876912 -0.012155   \n",
       "23535  ... -0.09309  0.379025  0.571873  0.294543 -0.876912 -0.012155   \n",
       "23536  ... -0.09309 -0.632468 -0.539091 -0.397055  1.748824 -0.012155   \n",
       "\n",
       "          ZNF43    ZNF483  ZNF556       ZYX  \n",
       "0     -0.017763 -0.026877 -0.0524 -0.452229  \n",
       "1     -0.017763 -0.026877 -0.0524 -0.452229  \n",
       "2     -0.017763 -0.026877 -0.0524 -0.452229  \n",
       "3     -0.017763 -0.026877 -0.0524 -0.452229  \n",
       "4     -0.017763 -0.026877 -0.0524  1.406718  \n",
       "...         ...       ...     ...       ...  \n",
       "23532 -0.017763 -0.026877 -0.0524 -0.452229  \n",
       "23533 -0.017763 -0.026877 -0.0524 -0.452229  \n",
       "23534 -0.017763 -0.026877 -0.0524 -0.452229  \n",
       "23535 -0.017763 -0.026877 -0.0524 -0.452229  \n",
       "23536 -0.017763 -0.026877 -0.0524 -0.452229  \n",
       "\n",
       "[23537 rows x 1012 columns]"
      ]
     },
     "execution_count": 9,
     "metadata": {},
     "output_type": "execute_result"
    }
   ],
   "source": [
    "# Load finalized single cell perturbseq data\n",
    "gene_exp_file = pathlib.Path(f\"{perturbseq_data_dir}/{gse_id}_final_analytical.tsv.gz\")\n",
    "\n",
    "sc_gene_exp_df = pd.read_csv(gene_exp_file, sep=\"\\t\")\n",
    "gene_features = [x for x in sc_gene_exp_df if not x.startswith(\"Metadata_\")]\n",
    "\n",
    "print(sc_gene_exp_df.shape)\n",
    "sc_gene_exp_df"
   ]
  },
  {
   "cell_type": "code",
   "execution_count": 10,
   "metadata": {},
   "outputs": [
    {
     "data": {
      "text/html": [
       "<div>\n",
       "<style scoped>\n",
       "    .dataframe tbody tr th:only-of-type {\n",
       "        vertical-align: middle;\n",
       "    }\n",
       "\n",
       "    .dataframe tbody tr th {\n",
       "        vertical-align: top;\n",
       "    }\n",
       "\n",
       "    .dataframe thead th {\n",
       "        text-align: right;\n",
       "    }\n",
       "</style>\n",
       "<table border=\"1\" class=\"dataframe\">\n",
       "  <thead>\n",
       "    <tr style=\"text-align: right;\">\n",
       "      <th></th>\n",
       "      <th>Metadata_cell_identity</th>\n",
       "      <th>Metadata_cell_barcode</th>\n",
       "      <th>Metadata_guide_identity</th>\n",
       "      <th>Metadata_read_count</th>\n",
       "      <th>Metadata_UMI_count</th>\n",
       "      <th>Metadata_coverage</th>\n",
       "      <th>Metadata_gemgroup</th>\n",
       "      <th>Metadata_good_coverage</th>\n",
       "      <th>Metadata_number_of_cells</th>\n",
       "      <th>Metadata_gene_identity</th>\n",
       "      <th>...</th>\n",
       "      <th>YPEL5</th>\n",
       "      <th>ZBTB38</th>\n",
       "      <th>ZFAS1</th>\n",
       "      <th>ZFP36L1</th>\n",
       "      <th>ZNF365</th>\n",
       "      <th>ZNF43</th>\n",
       "      <th>ZNF483</th>\n",
       "      <th>ZNF556</th>\n",
       "      <th>ZYX</th>\n",
       "      <th>Metadata_reference_index</th>\n",
       "    </tr>\n",
       "  </thead>\n",
       "  <tbody>\n",
       "    <tr>\n",
       "      <th>0</th>\n",
       "      <td>sc_profile_0</td>\n",
       "      <td>AAACCTGAGAGTAATC-1</td>\n",
       "      <td>RAN_RAN_+_131356438.23-P1P2_12</td>\n",
       "      <td>544.0</td>\n",
       "      <td>34.0</td>\n",
       "      <td>16.000000</td>\n",
       "      <td>1.0</td>\n",
       "      <td>True</td>\n",
       "      <td>1.0</td>\n",
       "      <td>RAN</td>\n",
       "      <td>...</td>\n",
       "      <td>-0.632468</td>\n",
       "      <td>-0.539091</td>\n",
       "      <td>-1.633805</td>\n",
       "      <td>-0.876912</td>\n",
       "      <td>-0.012155</td>\n",
       "      <td>-0.017763</td>\n",
       "      <td>-0.026877</td>\n",
       "      <td>-0.0524</td>\n",
       "      <td>-0.452229</td>\n",
       "      <td>-1</td>\n",
       "    </tr>\n",
       "    <tr>\n",
       "      <th>1</th>\n",
       "      <td>sc_profile_1</td>\n",
       "      <td>AAACCTGAGGGATCTG-1</td>\n",
       "      <td>neg_ctrl_non-targeting_00089</td>\n",
       "      <td>267.0</td>\n",
       "      <td>19.0</td>\n",
       "      <td>14.052632</td>\n",
       "      <td>1.0</td>\n",
       "      <td>True</td>\n",
       "      <td>1.0</td>\n",
       "      <td>neg</td>\n",
       "      <td>...</td>\n",
       "      <td>-0.632468</td>\n",
       "      <td>-0.539091</td>\n",
       "      <td>1.610220</td>\n",
       "      <td>1.322265</td>\n",
       "      <td>-0.012155</td>\n",
       "      <td>-0.017763</td>\n",
       "      <td>-0.026877</td>\n",
       "      <td>-0.0524</td>\n",
       "      <td>-0.452229</td>\n",
       "      <td>1</td>\n",
       "    </tr>\n",
       "    <tr>\n",
       "      <th>2</th>\n",
       "      <td>sc_profile_2</td>\n",
       "      <td>AAACCTGAGGTCATCT-1</td>\n",
       "      <td>POLR2H_POLR2H_+_184081251.23-P1P2_08</td>\n",
       "      <td>622.0</td>\n",
       "      <td>34.0</td>\n",
       "      <td>18.294118</td>\n",
       "      <td>1.0</td>\n",
       "      <td>True</td>\n",
       "      <td>1.0</td>\n",
       "      <td>POLR2H</td>\n",
       "      <td>...</td>\n",
       "      <td>-0.632468</td>\n",
       "      <td>-0.539091</td>\n",
       "      <td>-0.567252</td>\n",
       "      <td>0.057540</td>\n",
       "      <td>-0.012155</td>\n",
       "      <td>-0.017763</td>\n",
       "      <td>-0.026877</td>\n",
       "      <td>-0.0524</td>\n",
       "      <td>-0.452229</td>\n",
       "      <td>-1</td>\n",
       "    </tr>\n",
       "    <tr>\n",
       "      <th>3</th>\n",
       "      <td>sc_profile_3</td>\n",
       "      <td>AAACCTGCAATGGAGC-1</td>\n",
       "      <td>TUBB_TUBB_+_30688126.23-P1_03</td>\n",
       "      <td>433.0</td>\n",
       "      <td>20.0</td>\n",
       "      <td>21.650000</td>\n",
       "      <td>1.0</td>\n",
       "      <td>True</td>\n",
       "      <td>1.0</td>\n",
       "      <td>TUBB</td>\n",
       "      <td>...</td>\n",
       "      <td>1.765279</td>\n",
       "      <td>-0.539091</td>\n",
       "      <td>-1.659420</td>\n",
       "      <td>-0.876912</td>\n",
       "      <td>-0.012155</td>\n",
       "      <td>-0.017763</td>\n",
       "      <td>-0.026877</td>\n",
       "      <td>-0.0524</td>\n",
       "      <td>-0.452229</td>\n",
       "      <td>-1</td>\n",
       "    </tr>\n",
       "    <tr>\n",
       "      <th>4</th>\n",
       "      <td>sc_profile_4</td>\n",
       "      <td>AAACCTGCACCAGGCT-1</td>\n",
       "      <td>CDC23_CDC23_-_137548987.23-P1P2_04</td>\n",
       "      <td>136.0</td>\n",
       "      <td>8.0</td>\n",
       "      <td>17.000000</td>\n",
       "      <td>1.0</td>\n",
       "      <td>True</td>\n",
       "      <td>1.0</td>\n",
       "      <td>CDC23</td>\n",
       "      <td>...</td>\n",
       "      <td>0.686753</td>\n",
       "      <td>-0.539091</td>\n",
       "      <td>0.541260</td>\n",
       "      <td>0.934539</td>\n",
       "      <td>-0.012155</td>\n",
       "      <td>-0.017763</td>\n",
       "      <td>-0.026877</td>\n",
       "      <td>-0.0524</td>\n",
       "      <td>1.406718</td>\n",
       "      <td>-1</td>\n",
       "    </tr>\n",
       "    <tr>\n",
       "      <th>...</th>\n",
       "      <td>...</td>\n",
       "      <td>...</td>\n",
       "      <td>...</td>\n",
       "      <td>...</td>\n",
       "      <td>...</td>\n",
       "      <td>...</td>\n",
       "      <td>...</td>\n",
       "      <td>...</td>\n",
       "      <td>...</td>\n",
       "      <td>...</td>\n",
       "      <td>...</td>\n",
       "      <td>...</td>\n",
       "      <td>...</td>\n",
       "      <td>...</td>\n",
       "      <td>...</td>\n",
       "      <td>...</td>\n",
       "      <td>...</td>\n",
       "      <td>...</td>\n",
       "      <td>...</td>\n",
       "      <td>...</td>\n",
       "      <td>...</td>\n",
       "    </tr>\n",
       "    <tr>\n",
       "      <th>22256</th>\n",
       "      <td>sc_profile_23532</td>\n",
       "      <td>TTTGTCAGTTTGACTG-3</td>\n",
       "      <td>CDC23_CDC23_-_137548987.23-P1P2_11</td>\n",
       "      <td>1509.0</td>\n",
       "      <td>106.0</td>\n",
       "      <td>14.235849</td>\n",
       "      <td>3.0</td>\n",
       "      <td>True</td>\n",
       "      <td>3.0</td>\n",
       "      <td>CDC23</td>\n",
       "      <td>...</td>\n",
       "      <td>0.207130</td>\n",
       "      <td>-0.539091</td>\n",
       "      <td>-0.772589</td>\n",
       "      <td>-0.876912</td>\n",
       "      <td>-0.012155</td>\n",
       "      <td>-0.017763</td>\n",
       "      <td>-0.026877</td>\n",
       "      <td>-0.0524</td>\n",
       "      <td>-0.452229</td>\n",
       "      <td>-1</td>\n",
       "    </tr>\n",
       "    <tr>\n",
       "      <th>22257</th>\n",
       "      <td>sc_profile_23533</td>\n",
       "      <td>TTTGTCAGTTTGTTGG-3</td>\n",
       "      <td>ATP5E_ATP5E_-_57607036.23-P1P2_16</td>\n",
       "      <td>1207.0</td>\n",
       "      <td>73.0</td>\n",
       "      <td>16.534247</td>\n",
       "      <td>3.0</td>\n",
       "      <td>True</td>\n",
       "      <td>1.0</td>\n",
       "      <td>ATP5E</td>\n",
       "      <td>...</td>\n",
       "      <td>-0.632468</td>\n",
       "      <td>-0.539091</td>\n",
       "      <td>-0.539488</td>\n",
       "      <td>-0.876912</td>\n",
       "      <td>-0.012155</td>\n",
       "      <td>-0.017763</td>\n",
       "      <td>-0.026877</td>\n",
       "      <td>-0.0524</td>\n",
       "      <td>-0.452229</td>\n",
       "      <td>-1</td>\n",
       "    </tr>\n",
       "    <tr>\n",
       "      <th>22258</th>\n",
       "      <td>sc_profile_23534</td>\n",
       "      <td>TTTGTCATCACAAACC-3</td>\n",
       "      <td>HSPE1_HSPE1_+_198365089.23-P1P2_01</td>\n",
       "      <td>378.0</td>\n",
       "      <td>25.0</td>\n",
       "      <td>15.120000</td>\n",
       "      <td>3.0</td>\n",
       "      <td>True</td>\n",
       "      <td>1.0</td>\n",
       "      <td>HSPE1</td>\n",
       "      <td>...</td>\n",
       "      <td>-0.632468</td>\n",
       "      <td>0.738755</td>\n",
       "      <td>-0.341440</td>\n",
       "      <td>-0.876912</td>\n",
       "      <td>-0.012155</td>\n",
       "      <td>-0.017763</td>\n",
       "      <td>-0.026877</td>\n",
       "      <td>-0.0524</td>\n",
       "      <td>-0.452229</td>\n",
       "      <td>-1</td>\n",
       "    </tr>\n",
       "    <tr>\n",
       "      <th>22259</th>\n",
       "      <td>sc_profile_23535</td>\n",
       "      <td>TTTGTCATCAGCATGT-3</td>\n",
       "      <td>neg_ctrl_non-targeting_00028</td>\n",
       "      <td>856.0</td>\n",
       "      <td>53.0</td>\n",
       "      <td>16.150943</td>\n",
       "      <td>3.0</td>\n",
       "      <td>True</td>\n",
       "      <td>1.0</td>\n",
       "      <td>neg</td>\n",
       "      <td>...</td>\n",
       "      <td>0.379025</td>\n",
       "      <td>0.571873</td>\n",
       "      <td>0.294543</td>\n",
       "      <td>-0.876912</td>\n",
       "      <td>-0.012155</td>\n",
       "      <td>-0.017763</td>\n",
       "      <td>-0.026877</td>\n",
       "      <td>-0.0524</td>\n",
       "      <td>-0.452229</td>\n",
       "      <td>22259</td>\n",
       "    </tr>\n",
       "    <tr>\n",
       "      <th>22260</th>\n",
       "      <td>sc_profile_23536</td>\n",
       "      <td>TTTGTCATCTTAGAGC-3</td>\n",
       "      <td>CAD_CAD_+_27440280.23-P1P2_07</td>\n",
       "      <td>352.0</td>\n",
       "      <td>21.0</td>\n",
       "      <td>16.761905</td>\n",
       "      <td>3.0</td>\n",
       "      <td>True</td>\n",
       "      <td>2.0</td>\n",
       "      <td>CAD</td>\n",
       "      <td>...</td>\n",
       "      <td>-0.632468</td>\n",
       "      <td>-0.539091</td>\n",
       "      <td>-0.397055</td>\n",
       "      <td>1.748824</td>\n",
       "      <td>-0.012155</td>\n",
       "      <td>-0.017763</td>\n",
       "      <td>-0.026877</td>\n",
       "      <td>-0.0524</td>\n",
       "      <td>-0.452229</td>\n",
       "      <td>-1</td>\n",
       "    </tr>\n",
       "  </tbody>\n",
       "</table>\n",
       "<p>22261 rows × 1013 columns</p>\n",
       "</div>"
      ],
      "text/plain": [
       "      Metadata_cell_identity Metadata_cell_barcode  \\\n",
       "0               sc_profile_0    AAACCTGAGAGTAATC-1   \n",
       "1               sc_profile_1    AAACCTGAGGGATCTG-1   \n",
       "2               sc_profile_2    AAACCTGAGGTCATCT-1   \n",
       "3               sc_profile_3    AAACCTGCAATGGAGC-1   \n",
       "4               sc_profile_4    AAACCTGCACCAGGCT-1   \n",
       "...                      ...                   ...   \n",
       "22256       sc_profile_23532    TTTGTCAGTTTGACTG-3   \n",
       "22257       sc_profile_23533    TTTGTCAGTTTGTTGG-3   \n",
       "22258       sc_profile_23534    TTTGTCATCACAAACC-3   \n",
       "22259       sc_profile_23535    TTTGTCATCAGCATGT-3   \n",
       "22260       sc_profile_23536    TTTGTCATCTTAGAGC-3   \n",
       "\n",
       "                    Metadata_guide_identity  Metadata_read_count  \\\n",
       "0            RAN_RAN_+_131356438.23-P1P2_12                544.0   \n",
       "1              neg_ctrl_non-targeting_00089                267.0   \n",
       "2      POLR2H_POLR2H_+_184081251.23-P1P2_08                622.0   \n",
       "3             TUBB_TUBB_+_30688126.23-P1_03                433.0   \n",
       "4        CDC23_CDC23_-_137548987.23-P1P2_04                136.0   \n",
       "...                                     ...                  ...   \n",
       "22256    CDC23_CDC23_-_137548987.23-P1P2_11               1509.0   \n",
       "22257     ATP5E_ATP5E_-_57607036.23-P1P2_16               1207.0   \n",
       "22258    HSPE1_HSPE1_+_198365089.23-P1P2_01                378.0   \n",
       "22259          neg_ctrl_non-targeting_00028                856.0   \n",
       "22260         CAD_CAD_+_27440280.23-P1P2_07                352.0   \n",
       "\n",
       "       Metadata_UMI_count  Metadata_coverage  Metadata_gemgroup  \\\n",
       "0                    34.0          16.000000                1.0   \n",
       "1                    19.0          14.052632                1.0   \n",
       "2                    34.0          18.294118                1.0   \n",
       "3                    20.0          21.650000                1.0   \n",
       "4                     8.0          17.000000                1.0   \n",
       "...                   ...                ...                ...   \n",
       "22256               106.0          14.235849                3.0   \n",
       "22257                73.0          16.534247                3.0   \n",
       "22258                25.0          15.120000                3.0   \n",
       "22259                53.0          16.150943                3.0   \n",
       "22260                21.0          16.761905                3.0   \n",
       "\n",
       "      Metadata_good_coverage  Metadata_number_of_cells Metadata_gene_identity  \\\n",
       "0                       True                       1.0                    RAN   \n",
       "1                       True                       1.0                    neg   \n",
       "2                       True                       1.0                 POLR2H   \n",
       "3                       True                       1.0                   TUBB   \n",
       "4                       True                       1.0                  CDC23   \n",
       "...                      ...                       ...                    ...   \n",
       "22256                   True                       3.0                  CDC23   \n",
       "22257                   True                       1.0                  ATP5E   \n",
       "22258                   True                       1.0                  HSPE1   \n",
       "22259                   True                       1.0                    neg   \n",
       "22260                   True                       2.0                    CAD   \n",
       "\n",
       "       ...     YPEL5    ZBTB38     ZFAS1   ZFP36L1    ZNF365     ZNF43  \\\n",
       "0      ... -0.632468 -0.539091 -1.633805 -0.876912 -0.012155 -0.017763   \n",
       "1      ... -0.632468 -0.539091  1.610220  1.322265 -0.012155 -0.017763   \n",
       "2      ... -0.632468 -0.539091 -0.567252  0.057540 -0.012155 -0.017763   \n",
       "3      ...  1.765279 -0.539091 -1.659420 -0.876912 -0.012155 -0.017763   \n",
       "4      ...  0.686753 -0.539091  0.541260  0.934539 -0.012155 -0.017763   \n",
       "...    ...       ...       ...       ...       ...       ...       ...   \n",
       "22256  ...  0.207130 -0.539091 -0.772589 -0.876912 -0.012155 -0.017763   \n",
       "22257  ... -0.632468 -0.539091 -0.539488 -0.876912 -0.012155 -0.017763   \n",
       "22258  ... -0.632468  0.738755 -0.341440 -0.876912 -0.012155 -0.017763   \n",
       "22259  ...  0.379025  0.571873  0.294543 -0.876912 -0.012155 -0.017763   \n",
       "22260  ... -0.632468 -0.539091 -0.397055  1.748824 -0.012155 -0.017763   \n",
       "\n",
       "         ZNF483  ZNF556       ZYX  Metadata_reference_index  \n",
       "0     -0.026877 -0.0524 -0.452229                        -1  \n",
       "1     -0.026877 -0.0524 -0.452229                         1  \n",
       "2     -0.026877 -0.0524 -0.452229                        -1  \n",
       "3     -0.026877 -0.0524 -0.452229                        -1  \n",
       "4     -0.026877 -0.0524  1.406718                        -1  \n",
       "...         ...     ...       ...                       ...  \n",
       "22256 -0.026877 -0.0524 -0.452229                        -1  \n",
       "22257 -0.026877 -0.0524 -0.452229                        -1  \n",
       "22258 -0.026877 -0.0524 -0.452229                        -1  \n",
       "22259 -0.026877 -0.0524 -0.452229                     22259  \n",
       "22260 -0.026877 -0.0524 -0.452229                        -1  \n",
       "\n",
       "[22261 rows x 1013 columns]"
      ]
     },
     "execution_count": 10,
     "metadata": {},
     "output_type": "execute_result"
    }
   ],
   "source": [
    "sc_gene_exp_df = (\n",
    "    sc_gene_exp_df.query(\"Metadata_gene_identity != '*'\")\n",
    "    .query(\"Metadata_good_coverage == True\")\n",
    "    .reset_index(drop=True)\n",
    ")\n",
    "sc_gene_exp_df[\"Metadata_reference_index\"] = np.where(\n",
    "    sc_gene_exp_df[\"Metadata_gene_identity\"] == \"neg\", sc_gene_exp_df.index, -1\n",
    ")\n",
    "sc_gene_exp_df"
   ]
  },
  {
   "cell_type": "code",
   "execution_count": 11,
   "metadata": {},
   "outputs": [],
   "source": [
    "# Determine a proportion of negative control guide population\n",
    "sc_neg_controls_df = sc_gene_exp_df.query(\n",
    "    \"Metadata_guide_identity in @neg_controls\"\n",
    ").sample(frac=0.2)\n",
    "\n",
    "sc_neg_controls = sc_neg_controls_df.query(\n",
    "    \"Metadata_guide_identity in @neg_controls\"\n",
    ").Metadata_cell_identity.tolist()\n",
    "\n",
    "replicate_group = {\n",
    "    \"profile_col\": \"Metadata_cell_identity\",\n",
    "    \"replicate_group_col\": \"Metadata_guide_identity\",\n",
    "}"
   ]
  },
  {
   "cell_type": "code",
   "execution_count": 12,
   "metadata": {},
   "outputs": [],
   "source": [
    "pair_config = {\n",
    "    \"pos_sameby\": {\n",
    "        \"all\": [\"Metadata_guide_identity\", \"Metadata_reference_index\"],\n",
    "        \"any\": [],\n",
    "    },\n",
    "    \"pos_diffby\": {\"all\": [], \"any\": []},\n",
    "    \"neg_sameby\": {\"all\": [], \"any\": []},\n",
    "    \"neg_diffby\": {\n",
    "        \"all\": [\"Metadata_guide_identity\", \"Metadata_reference_index\"],\n",
    "        \"any\": [],\n",
    "    },\n",
    "}\n",
    "\n",
    "map_config = {\n",
    "    \"null_size\": 500000,\n",
    "    \"groupby_columns\": [\"Metadata_guide_identity\", \"Metadata_cell_identity\"],\n",
    "}"
   ]
  },
  {
   "cell_type": "code",
   "execution_count": 13,
   "metadata": {},
   "outputs": [
    {
     "name": "stdout",
     "output_type": "stream",
     "text": [
      "Now analyzing RAN...\n"
     ]
    },
    {
     "data": {
      "application/vnd.jupyter.widget-view+json": {
       "model_id": "e56137d242f24c5d9efae241f4d48655",
       "version_major": 2,
       "version_minor": 0
      },
      "text/plain": [
       "  0%|          | 0/1 [00:00<?, ?it/s]"
      ]
     },
     "metadata": {},
     "output_type": "display_data"
    },
    {
     "data": {
      "application/vnd.jupyter.widget-view+json": {
       "model_id": "217a6b950f634218ab285a647d81c76f",
       "version_major": 2,
       "version_minor": 0
      },
      "text/plain": [
       "  0%|          | 0/10 [00:00<?, ?it/s]"
      ]
     },
     "metadata": {},
     "output_type": "display_data"
    },
    {
     "name": "stderr",
     "output_type": "stream",
     "text": [
      "/dgx1nas1/storage/data/akalinin/miniconda3/envs/map_benchmark/lib/python3.10/site-packages/copairs/compute.py:152: RuntimeWarning: invalid value encountered in divide\n",
      "  ap_scores = np.add.reduceat(pr_k * rel_k_list, cutoffs) / num_pos\n"
     ]
    },
    {
     "data": {
      "application/vnd.jupyter.widget-view+json": {
       "model_id": "1ff73494f8d04ea590aba3b14ca196d9",
       "version_major": 2,
       "version_minor": 0
      },
      "text/plain": [
       "  0%|          | 0/1 [00:00<?, ?it/s]"
      ]
     },
     "metadata": {},
     "output_type": "display_data"
    },
    {
     "data": {
      "application/vnd.jupyter.widget-view+json": {
       "model_id": "aa77afc9acc0484c81dd32a7c1da1b1e",
       "version_major": 2,
       "version_minor": 0
      },
      "text/plain": [
       "  0%|          | 0/193 [00:00<?, ?it/s]"
      ]
     },
     "metadata": {},
     "output_type": "display_data"
    },
    {
     "data": {
      "application/vnd.jupyter.widget-view+json": {
       "model_id": "59eb1bf3309a4277a1867adb6ef4a013",
       "version_major": 2,
       "version_minor": 0
      },
      "text/plain": [
       "  0%|          | 0/1 [00:00<?, ?it/s]"
      ]
     },
     "metadata": {},
     "output_type": "display_data"
    },
    {
     "data": {
      "application/vnd.jupyter.widget-view+json": {
       "model_id": "34331637a8014c2e883c95037e889855",
       "version_major": 2,
       "version_minor": 0
      },
      "text/plain": [
       "  0%|          | 0/8 [00:00<?, ?it/s]"
      ]
     },
     "metadata": {},
     "output_type": "display_data"
    },
    {
     "name": "stderr",
     "output_type": "stream",
     "text": [
      "/dgx1nas1/storage/data/akalinin/miniconda3/envs/map_benchmark/lib/python3.10/site-packages/copairs/compute.py:152: RuntimeWarning: invalid value encountered in divide\n",
      "  ap_scores = np.add.reduceat(pr_k * rel_k_list, cutoffs) / num_pos\n"
     ]
    },
    {
     "data": {
      "application/vnd.jupyter.widget-view+json": {
       "model_id": "d32b7ee9ec9149e28748fde8a2d16340",
       "version_major": 2,
       "version_minor": 0
      },
      "text/plain": [
       "  0%|          | 0/1 [00:00<?, ?it/s]"
      ]
     },
     "metadata": {},
     "output_type": "display_data"
    },
    {
     "data": {
      "application/vnd.jupyter.widget-view+json": {
       "model_id": "4c53527fcc3c4dc58605171a5118df89",
       "version_major": 2,
       "version_minor": 0
      },
      "text/plain": [
       "  0%|          | 0/112 [00:00<?, ?it/s]"
      ]
     },
     "metadata": {},
     "output_type": "display_data"
    },
    {
     "data": {
      "application/vnd.jupyter.widget-view+json": {
       "model_id": "3400bee1f4cc475081f71964a7070e42",
       "version_major": 2,
       "version_minor": 0
      },
      "text/plain": [
       "  0%|          | 0/1 [00:00<?, ?it/s]"
      ]
     },
     "metadata": {},
     "output_type": "display_data"
    },
    {
     "data": {
      "application/vnd.jupyter.widget-view+json": {
       "model_id": "fabf87861544466188bdeb0f220af453",
       "version_major": 2,
       "version_minor": 0
      },
      "text/plain": [
       "  0%|          | 0/9 [00:00<?, ?it/s]"
      ]
     },
     "metadata": {},
     "output_type": "display_data"
    },
    {
     "name": "stderr",
     "output_type": "stream",
     "text": [
      "/dgx1nas1/storage/data/akalinin/miniconda3/envs/map_benchmark/lib/python3.10/site-packages/copairs/compute.py:152: RuntimeWarning: invalid value encountered in divide\n",
      "  ap_scores = np.add.reduceat(pr_k * rel_k_list, cutoffs) / num_pos\n"
     ]
    },
    {
     "data": {
      "application/vnd.jupyter.widget-view+json": {
       "model_id": "291d1d6138fb4382adaa1dae7647dda7",
       "version_major": 2,
       "version_minor": 0
      },
      "text/plain": [
       "  0%|          | 0/1 [00:00<?, ?it/s]"
      ]
     },
     "metadata": {},
     "output_type": "display_data"
    },
    {
     "data": {
      "application/vnd.jupyter.widget-view+json": {
       "model_id": "848077c1245245f1a33cd13131423b0e",
       "version_major": 2,
       "version_minor": 0
      },
      "text/plain": [
       "  0%|          | 0/156 [00:00<?, ?it/s]"
      ]
     },
     "metadata": {},
     "output_type": "display_data"
    },
    {
     "data": {
      "application/vnd.jupyter.widget-view+json": {
       "model_id": "75fc0235d9c94d149b9460e24c75cb59",
       "version_major": 2,
       "version_minor": 0
      },
      "text/plain": [
       "  0%|          | 0/2 [00:00<?, ?it/s]"
      ]
     },
     "metadata": {},
     "output_type": "display_data"
    },
    {
     "data": {
      "application/vnd.jupyter.widget-view+json": {
       "model_id": "f3f5d73e65d9498088be6bcaf2825fdf",
       "version_major": 2,
       "version_minor": 0
      },
      "text/plain": [
       "  0%|          | 0/12 [00:00<?, ?it/s]"
      ]
     },
     "metadata": {},
     "output_type": "display_data"
    },
    {
     "name": "stderr",
     "output_type": "stream",
     "text": [
      "/dgx1nas1/storage/data/akalinin/miniconda3/envs/map_benchmark/lib/python3.10/site-packages/copairs/compute.py:152: RuntimeWarning: invalid value encountered in divide\n",
      "  ap_scores = np.add.reduceat(pr_k * rel_k_list, cutoffs) / num_pos\n"
     ]
    },
    {
     "data": {
      "application/vnd.jupyter.widget-view+json": {
       "model_id": "8996f1f53e4e430dbca86173ec42a9db",
       "version_major": 2,
       "version_minor": 0
      },
      "text/plain": [
       "  0%|          | 0/1 [00:00<?, ?it/s]"
      ]
     },
     "metadata": {},
     "output_type": "display_data"
    },
    {
     "data": {
      "application/vnd.jupyter.widget-view+json": {
       "model_id": "8d98f1e5a5ef4e749f4dcc5dd0cc8238",
       "version_major": 2,
       "version_minor": 0
      },
      "text/plain": [
       "  0%|          | 0/259 [00:00<?, ?it/s]"
      ]
     },
     "metadata": {},
     "output_type": "display_data"
    },
    {
     "data": {
      "application/vnd.jupyter.widget-view+json": {
       "model_id": "3b37dd80159140ef8026fa5b25dd30d6",
       "version_major": 2,
       "version_minor": 0
      },
      "text/plain": [
       "  0%|          | 0/1 [00:00<?, ?it/s]"
      ]
     },
     "metadata": {},
     "output_type": "display_data"
    },
    {
     "data": {
      "application/vnd.jupyter.widget-view+json": {
       "model_id": "a8e0549133794a788520a93906de4010",
       "version_major": 2,
       "version_minor": 0
      },
      "text/plain": [
       "  0%|          | 0/8 [00:00<?, ?it/s]"
      ]
     },
     "metadata": {},
     "output_type": "display_data"
    },
    {
     "name": "stderr",
     "output_type": "stream",
     "text": [
      "/dgx1nas1/storage/data/akalinin/miniconda3/envs/map_benchmark/lib/python3.10/site-packages/copairs/compute.py:152: RuntimeWarning: invalid value encountered in divide\n",
      "  ap_scores = np.add.reduceat(pr_k * rel_k_list, cutoffs) / num_pos\n"
     ]
    },
    {
     "data": {
      "application/vnd.jupyter.widget-view+json": {
       "model_id": "3568d05c38654c04a1ca05630c74cb9f",
       "version_major": 2,
       "version_minor": 0
      },
      "text/plain": [
       "  0%|          | 0/1 [00:00<?, ?it/s]"
      ]
     },
     "metadata": {},
     "output_type": "display_data"
    },
    {
     "data": {
      "application/vnd.jupyter.widget-view+json": {
       "model_id": "3d43423e2f094d61bdb4e8fb50b4428a",
       "version_major": 2,
       "version_minor": 0
      },
      "text/plain": [
       "  0%|          | 0/120 [00:00<?, ?it/s]"
      ]
     },
     "metadata": {},
     "output_type": "display_data"
    },
    {
     "name": "stdout",
     "output_type": "stream",
     "text": [
      "Now analyzing POLR2H...\n"
     ]
    },
    {
     "data": {
      "application/vnd.jupyter.widget-view+json": {
       "model_id": "611ea262c51f4c8cbc1fde3252901186",
       "version_major": 2,
       "version_minor": 0
      },
      "text/plain": [
       "  0%|          | 0/1 [00:00<?, ?it/s]"
      ]
     },
     "metadata": {},
     "output_type": "display_data"
    },
    {
     "data": {
      "application/vnd.jupyter.widget-view+json": {
       "model_id": "2d29db88d50948f291879bfa4edc029c",
       "version_major": 2,
       "version_minor": 0
      },
      "text/plain": [
       "  0%|          | 0/8 [00:00<?, ?it/s]"
      ]
     },
     "metadata": {},
     "output_type": "display_data"
    },
    {
     "name": "stderr",
     "output_type": "stream",
     "text": [
      "/dgx1nas1/storage/data/akalinin/miniconda3/envs/map_benchmark/lib/python3.10/site-packages/copairs/compute.py:152: RuntimeWarning: invalid value encountered in divide\n",
      "  ap_scores = np.add.reduceat(pr_k * rel_k_list, cutoffs) / num_pos\n"
     ]
    },
    {
     "data": {
      "application/vnd.jupyter.widget-view+json": {
       "model_id": "e819951594414ce4bc1a20da0f6d41f1",
       "version_major": 2,
       "version_minor": 0
      },
      "text/plain": [
       "  0%|          | 0/1 [00:00<?, ?it/s]"
      ]
     },
     "metadata": {},
     "output_type": "display_data"
    },
    {
     "data": {
      "application/vnd.jupyter.widget-view+json": {
       "model_id": "e485b98cc93d486a89f7057300c7058a",
       "version_major": 2,
       "version_minor": 0
      },
      "text/plain": [
       "  0%|          | 0/90 [00:00<?, ?it/s]"
      ]
     },
     "metadata": {},
     "output_type": "display_data"
    },
    {
     "data": {
      "application/vnd.jupyter.widget-view+json": {
       "model_id": "7f40435c6c4b4125be2ba07a83fbd75d",
       "version_major": 2,
       "version_minor": 0
      },
      "text/plain": [
       "  0%|          | 0/1 [00:00<?, ?it/s]"
      ]
     },
     "metadata": {},
     "output_type": "display_data"
    },
    {
     "data": {
      "application/vnd.jupyter.widget-view+json": {
       "model_id": "114913515678413e99a2c1fc99aa6d41",
       "version_major": 2,
       "version_minor": 0
      },
      "text/plain": [
       "  0%|          | 0/8 [00:00<?, ?it/s]"
      ]
     },
     "metadata": {},
     "output_type": "display_data"
    },
    {
     "name": "stderr",
     "output_type": "stream",
     "text": [
      "/dgx1nas1/storage/data/akalinin/miniconda3/envs/map_benchmark/lib/python3.10/site-packages/copairs/compute.py:152: RuntimeWarning: invalid value encountered in divide\n",
      "  ap_scores = np.add.reduceat(pr_k * rel_k_list, cutoffs) / num_pos\n"
     ]
    },
    {
     "data": {
      "application/vnd.jupyter.widget-view+json": {
       "model_id": "328466a233764080b2c8a800bd0a129b",
       "version_major": 2,
       "version_minor": 0
      },
      "text/plain": [
       "  0%|          | 0/1 [00:00<?, ?it/s]"
      ]
     },
     "metadata": {},
     "output_type": "display_data"
    },
    {
     "data": {
      "application/vnd.jupyter.widget-view+json": {
       "model_id": "1a9342da361c4e359230ed5aff2067b2",
       "version_major": 2,
       "version_minor": 0
      },
      "text/plain": [
       "  0%|          | 0/98 [00:00<?, ?it/s]"
      ]
     },
     "metadata": {},
     "output_type": "display_data"
    },
    {
     "data": {
      "application/vnd.jupyter.widget-view+json": {
       "model_id": "7892202b31084d63a94b37b3b4c8a7b6",
       "version_major": 2,
       "version_minor": 0
      },
      "text/plain": [
       "  0%|          | 0/1 [00:00<?, ?it/s]"
      ]
     },
     "metadata": {},
     "output_type": "display_data"
    },
    {
     "data": {
      "application/vnd.jupyter.widget-view+json": {
       "model_id": "db8cef486e144a3688e578ccb909542e",
       "version_major": 2,
       "version_minor": 0
      },
      "text/plain": [
       "  0%|          | 0/8 [00:00<?, ?it/s]"
      ]
     },
     "metadata": {},
     "output_type": "display_data"
    },
    {
     "name": "stderr",
     "output_type": "stream",
     "text": [
      "/dgx1nas1/storage/data/akalinin/miniconda3/envs/map_benchmark/lib/python3.10/site-packages/copairs/compute.py:152: RuntimeWarning: invalid value encountered in divide\n",
      "  ap_scores = np.add.reduceat(pr_k * rel_k_list, cutoffs) / num_pos\n"
     ]
    },
    {
     "data": {
      "application/vnd.jupyter.widget-view+json": {
       "model_id": "a5ccba781c3c42ed87c54a3b84c7fa6d",
       "version_major": 2,
       "version_minor": 0
      },
      "text/plain": [
       "  0%|          | 0/1 [00:00<?, ?it/s]"
      ]
     },
     "metadata": {},
     "output_type": "display_data"
    },
    {
     "data": {
      "application/vnd.jupyter.widget-view+json": {
       "model_id": "fc60bdb10cab4426b06dc52d348f860f",
       "version_major": 2,
       "version_minor": 0
      },
      "text/plain": [
       "  0%|          | 0/102 [00:00<?, ?it/s]"
      ]
     },
     "metadata": {},
     "output_type": "display_data"
    },
    {
     "data": {
      "application/vnd.jupyter.widget-view+json": {
       "model_id": "2ec9d9382c614454a76b16866adb370d",
       "version_major": 2,
       "version_minor": 0
      },
      "text/plain": [
       "  0%|          | 0/1 [00:00<?, ?it/s]"
      ]
     },
     "metadata": {},
     "output_type": "display_data"
    },
    {
     "data": {
      "application/vnd.jupyter.widget-view+json": {
       "model_id": "ae9d333d6ee84b5c93426c4bd9b0d5d1",
       "version_major": 2,
       "version_minor": 0
      },
      "text/plain": [
       "  0%|          | 0/8 [00:00<?, ?it/s]"
      ]
     },
     "metadata": {},
     "output_type": "display_data"
    },
    {
     "name": "stderr",
     "output_type": "stream",
     "text": [
      "/dgx1nas1/storage/data/akalinin/miniconda3/envs/map_benchmark/lib/python3.10/site-packages/copairs/compute.py:152: RuntimeWarning: invalid value encountered in divide\n",
      "  ap_scores = np.add.reduceat(pr_k * rel_k_list, cutoffs) / num_pos\n"
     ]
    },
    {
     "data": {
      "application/vnd.jupyter.widget-view+json": {
       "model_id": "f283a119dc724b77ad67b5886e4b8563",
       "version_major": 2,
       "version_minor": 0
      },
      "text/plain": [
       "  0%|          | 0/1 [00:00<?, ?it/s]"
      ]
     },
     "metadata": {},
     "output_type": "display_data"
    },
    {
     "data": {
      "application/vnd.jupyter.widget-view+json": {
       "model_id": "2219f76b675d4e42a0b51812a5293e84",
       "version_major": 2,
       "version_minor": 0
      },
      "text/plain": [
       "  0%|          | 0/91 [00:00<?, ?it/s]"
      ]
     },
     "metadata": {},
     "output_type": "display_data"
    },
    {
     "data": {
      "application/vnd.jupyter.widget-view+json": {
       "model_id": "c67d9abd63ac45e7b75cbe74a051ef19",
       "version_major": 2,
       "version_minor": 0
      },
      "text/plain": [
       "  0%|          | 0/1 [00:00<?, ?it/s]"
      ]
     },
     "metadata": {},
     "output_type": "display_data"
    },
    {
     "data": {
      "application/vnd.jupyter.widget-view+json": {
       "model_id": "566acc4ec1914238bbdb3719364234c1",
       "version_major": 2,
       "version_minor": 0
      },
      "text/plain": [
       "  0%|          | 0/7 [00:00<?, ?it/s]"
      ]
     },
     "metadata": {},
     "output_type": "display_data"
    },
    {
     "name": "stderr",
     "output_type": "stream",
     "text": [
      "/dgx1nas1/storage/data/akalinin/miniconda3/envs/map_benchmark/lib/python3.10/site-packages/copairs/compute.py:152: RuntimeWarning: invalid value encountered in divide\n",
      "  ap_scores = np.add.reduceat(pr_k * rel_k_list, cutoffs) / num_pos\n"
     ]
    },
    {
     "data": {
      "application/vnd.jupyter.widget-view+json": {
       "model_id": "7240b10358714c77b389c8cb6ec5b890",
       "version_major": 2,
       "version_minor": 0
      },
      "text/plain": [
       "  0%|          | 0/1 [00:00<?, ?it/s]"
      ]
     },
     "metadata": {},
     "output_type": "display_data"
    },
    {
     "data": {
      "application/vnd.jupyter.widget-view+json": {
       "model_id": "92094fffb75f4356b03025d394ba1562",
       "version_major": 2,
       "version_minor": 0
      },
      "text/plain": [
       "  0%|          | 0/77 [00:00<?, ?it/s]"
      ]
     },
     "metadata": {},
     "output_type": "display_data"
    },
    {
     "name": "stdout",
     "output_type": "stream",
     "text": [
      "Now analyzing TUBB...\n"
     ]
    },
    {
     "data": {
      "application/vnd.jupyter.widget-view+json": {
       "model_id": "daa1286fb1eb40ae86861d1eb1d809b6",
       "version_major": 2,
       "version_minor": 0
      },
      "text/plain": [
       "  0%|          | 0/1 [00:00<?, ?it/s]"
      ]
     },
     "metadata": {},
     "output_type": "display_data"
    },
    {
     "data": {
      "application/vnd.jupyter.widget-view+json": {
       "model_id": "84e188d1c05c4c84a20e69a5245ce965",
       "version_major": 2,
       "version_minor": 0
      },
      "text/plain": [
       "  0%|          | 0/7 [00:00<?, ?it/s]"
      ]
     },
     "metadata": {},
     "output_type": "display_data"
    },
    {
     "name": "stderr",
     "output_type": "stream",
     "text": [
      "/dgx1nas1/storage/data/akalinin/miniconda3/envs/map_benchmark/lib/python3.10/site-packages/copairs/compute.py:152: RuntimeWarning: invalid value encountered in divide\n",
      "  ap_scores = np.add.reduceat(pr_k * rel_k_list, cutoffs) / num_pos\n"
     ]
    },
    {
     "data": {
      "application/vnd.jupyter.widget-view+json": {
       "model_id": "31a93d9430c24ffba920c633f275011e",
       "version_major": 2,
       "version_minor": 0
      },
      "text/plain": [
       "  0%|          | 0/1 [00:00<?, ?it/s]"
      ]
     },
     "metadata": {},
     "output_type": "display_data"
    },
    {
     "data": {
      "application/vnd.jupyter.widget-view+json": {
       "model_id": "f9dabee2cee947bfbdbcb61271bb1eb6",
       "version_major": 2,
       "version_minor": 0
      },
      "text/plain": [
       "  0%|          | 0/85 [00:00<?, ?it/s]"
      ]
     },
     "metadata": {},
     "output_type": "display_data"
    },
    {
     "data": {
      "application/vnd.jupyter.widget-view+json": {
       "model_id": "022277738507445f80990f8deb952309",
       "version_major": 2,
       "version_minor": 0
      },
      "text/plain": [
       "  0%|          | 0/1 [00:00<?, ?it/s]"
      ]
     },
     "metadata": {},
     "output_type": "display_data"
    },
    {
     "data": {
      "application/vnd.jupyter.widget-view+json": {
       "model_id": "822d13fbc5c94a0fba0760fd67f83bac",
       "version_major": 2,
       "version_minor": 0
      },
      "text/plain": [
       "  0%|          | 0/8 [00:00<?, ?it/s]"
      ]
     },
     "metadata": {},
     "output_type": "display_data"
    },
    {
     "name": "stderr",
     "output_type": "stream",
     "text": [
      "/dgx1nas1/storage/data/akalinin/miniconda3/envs/map_benchmark/lib/python3.10/site-packages/copairs/compute.py:152: RuntimeWarning: invalid value encountered in divide\n",
      "  ap_scores = np.add.reduceat(pr_k * rel_k_list, cutoffs) / num_pos\n"
     ]
    },
    {
     "data": {
      "application/vnd.jupyter.widget-view+json": {
       "model_id": "ac47e50c0a514174aae3f008939179bf",
       "version_major": 2,
       "version_minor": 0
      },
      "text/plain": [
       "  0%|          | 0/1 [00:00<?, ?it/s]"
      ]
     },
     "metadata": {},
     "output_type": "display_data"
    },
    {
     "data": {
      "application/vnd.jupyter.widget-view+json": {
       "model_id": "0b85c5b10c1b4ab8af75df76f8b039c4",
       "version_major": 2,
       "version_minor": 0
      },
      "text/plain": [
       "  0%|          | 0/95 [00:00<?, ?it/s]"
      ]
     },
     "metadata": {},
     "output_type": "display_data"
    },
    {
     "data": {
      "application/vnd.jupyter.widget-view+json": {
       "model_id": "377a732003744fffa8acae8035dbba7f",
       "version_major": 2,
       "version_minor": 0
      },
      "text/plain": [
       "  0%|          | 0/1 [00:00<?, ?it/s]"
      ]
     },
     "metadata": {},
     "output_type": "display_data"
    },
    {
     "data": {
      "application/vnd.jupyter.widget-view+json": {
       "model_id": "820ec524597b4aaa880843c1fb0a0861",
       "version_major": 2,
       "version_minor": 0
      },
      "text/plain": [
       "  0%|          | 0/10 [00:00<?, ?it/s]"
      ]
     },
     "metadata": {},
     "output_type": "display_data"
    },
    {
     "name": "stderr",
     "output_type": "stream",
     "text": [
      "/dgx1nas1/storage/data/akalinin/miniconda3/envs/map_benchmark/lib/python3.10/site-packages/copairs/compute.py:152: RuntimeWarning: invalid value encountered in divide\n",
      "  ap_scores = np.add.reduceat(pr_k * rel_k_list, cutoffs) / num_pos\n"
     ]
    },
    {
     "data": {
      "application/vnd.jupyter.widget-view+json": {
       "model_id": "895a3d4141e240179966987a88ee58f4",
       "version_major": 2,
       "version_minor": 0
      },
      "text/plain": [
       "  0%|          | 0/1 [00:00<?, ?it/s]"
      ]
     },
     "metadata": {},
     "output_type": "display_data"
    },
    {
     "data": {
      "application/vnd.jupyter.widget-view+json": {
       "model_id": "66e8338116fb4099b82f8a2b2d39cf40",
       "version_major": 2,
       "version_minor": 0
      },
      "text/plain": [
       "  0%|          | 0/196 [00:00<?, ?it/s]"
      ]
     },
     "metadata": {},
     "output_type": "display_data"
    },
    {
     "data": {
      "application/vnd.jupyter.widget-view+json": {
       "model_id": "f15affa905b1463691c57607a316e84d",
       "version_major": 2,
       "version_minor": 0
      },
      "text/plain": [
       "  0%|          | 0/1 [00:00<?, ?it/s]"
      ]
     },
     "metadata": {},
     "output_type": "display_data"
    },
    {
     "data": {
      "application/vnd.jupyter.widget-view+json": {
       "model_id": "c4d3c2c7e1aa4fd39d44363a26a76a5b",
       "version_major": 2,
       "version_minor": 0
      },
      "text/plain": [
       "  0%|          | 0/9 [00:00<?, ?it/s]"
      ]
     },
     "metadata": {},
     "output_type": "display_data"
    },
    {
     "name": "stderr",
     "output_type": "stream",
     "text": [
      "/dgx1nas1/storage/data/akalinin/miniconda3/envs/map_benchmark/lib/python3.10/site-packages/copairs/compute.py:152: RuntimeWarning: invalid value encountered in divide\n",
      "  ap_scores = np.add.reduceat(pr_k * rel_k_list, cutoffs) / num_pos\n"
     ]
    },
    {
     "data": {
      "application/vnd.jupyter.widget-view+json": {
       "model_id": "b4ed5d751dee4b5ba836d379897df0e2",
       "version_major": 2,
       "version_minor": 0
      },
      "text/plain": [
       "  0%|          | 0/1 [00:00<?, ?it/s]"
      ]
     },
     "metadata": {},
     "output_type": "display_data"
    },
    {
     "data": {
      "application/vnd.jupyter.widget-view+json": {
       "model_id": "5a169014782140619460d74350fa2386",
       "version_major": 2,
       "version_minor": 0
      },
      "text/plain": [
       "  0%|          | 0/159 [00:00<?, ?it/s]"
      ]
     },
     "metadata": {},
     "output_type": "display_data"
    },
    {
     "data": {
      "application/vnd.jupyter.widget-view+json": {
       "model_id": "a956948798fd4db2a6f2cd4776086565",
       "version_major": 2,
       "version_minor": 0
      },
      "text/plain": [
       "  0%|          | 0/1 [00:00<?, ?it/s]"
      ]
     },
     "metadata": {},
     "output_type": "display_data"
    },
    {
     "data": {
      "application/vnd.jupyter.widget-view+json": {
       "model_id": "37f5fc67b2684d66a72e4a600c1da0dc",
       "version_major": 2,
       "version_minor": 0
      },
      "text/plain": [
       "  0%|          | 0/8 [00:00<?, ?it/s]"
      ]
     },
     "metadata": {},
     "output_type": "display_data"
    },
    {
     "name": "stderr",
     "output_type": "stream",
     "text": [
      "/dgx1nas1/storage/data/akalinin/miniconda3/envs/map_benchmark/lib/python3.10/site-packages/copairs/compute.py:152: RuntimeWarning: invalid value encountered in divide\n",
      "  ap_scores = np.add.reduceat(pr_k * rel_k_list, cutoffs) / num_pos\n"
     ]
    },
    {
     "data": {
      "application/vnd.jupyter.widget-view+json": {
       "model_id": "a303877049a540b1b2cdf6b65174ddda",
       "version_major": 2,
       "version_minor": 0
      },
      "text/plain": [
       "  0%|          | 0/1 [00:00<?, ?it/s]"
      ]
     },
     "metadata": {},
     "output_type": "display_data"
    },
    {
     "data": {
      "application/vnd.jupyter.widget-view+json": {
       "model_id": "269602f2ec06426fb9ba600a35f74c9e",
       "version_major": 2,
       "version_minor": 0
      },
      "text/plain": [
       "  0%|          | 0/108 [00:00<?, ?it/s]"
      ]
     },
     "metadata": {},
     "output_type": "display_data"
    },
    {
     "name": "stdout",
     "output_type": "stream",
     "text": [
      "Now analyzing CDC23...\n"
     ]
    },
    {
     "data": {
      "application/vnd.jupyter.widget-view+json": {
       "model_id": "a27b90c19bed452ea45f480910e56bba",
       "version_major": 2,
       "version_minor": 0
      },
      "text/plain": [
       "  0%|          | 0/1 [00:00<?, ?it/s]"
      ]
     },
     "metadata": {},
     "output_type": "display_data"
    },
    {
     "data": {
      "application/vnd.jupyter.widget-view+json": {
       "model_id": "ee834bfbaddb411596ba65fda996bf42",
       "version_major": 2,
       "version_minor": 0
      },
      "text/plain": [
       "  0%|          | 0/9 [00:00<?, ?it/s]"
      ]
     },
     "metadata": {},
     "output_type": "display_data"
    },
    {
     "name": "stderr",
     "output_type": "stream",
     "text": [
      "/dgx1nas1/storage/data/akalinin/miniconda3/envs/map_benchmark/lib/python3.10/site-packages/copairs/compute.py:152: RuntimeWarning: invalid value encountered in divide\n",
      "  ap_scores = np.add.reduceat(pr_k * rel_k_list, cutoffs) / num_pos\n"
     ]
    },
    {
     "data": {
      "application/vnd.jupyter.widget-view+json": {
       "model_id": "3585336417954832a2b48d552b224fd4",
       "version_major": 2,
       "version_minor": 0
      },
      "text/plain": [
       "  0%|          | 0/1 [00:00<?, ?it/s]"
      ]
     },
     "metadata": {},
     "output_type": "display_data"
    },
    {
     "data": {
      "application/vnd.jupyter.widget-view+json": {
       "model_id": "28312329a7e9400a9ae345f9a3f23382",
       "version_major": 2,
       "version_minor": 0
      },
      "text/plain": [
       "  0%|          | 0/139 [00:00<?, ?it/s]"
      ]
     },
     "metadata": {},
     "output_type": "display_data"
    },
    {
     "data": {
      "application/vnd.jupyter.widget-view+json": {
       "model_id": "d90821288166405e990fc851857c1a60",
       "version_major": 2,
       "version_minor": 0
      },
      "text/plain": [
       "  0%|          | 0/1 [00:00<?, ?it/s]"
      ]
     },
     "metadata": {},
     "output_type": "display_data"
    },
    {
     "data": {
      "application/vnd.jupyter.widget-view+json": {
       "model_id": "fa62b51f0ec14834b424670bda9a38ab",
       "version_major": 2,
       "version_minor": 0
      },
      "text/plain": [
       "  0%|          | 0/9 [00:00<?, ?it/s]"
      ]
     },
     "metadata": {},
     "output_type": "display_data"
    },
    {
     "name": "stderr",
     "output_type": "stream",
     "text": [
      "/dgx1nas1/storage/data/akalinin/miniconda3/envs/map_benchmark/lib/python3.10/site-packages/copairs/compute.py:152: RuntimeWarning: invalid value encountered in divide\n",
      "  ap_scores = np.add.reduceat(pr_k * rel_k_list, cutoffs) / num_pos\n"
     ]
    },
    {
     "data": {
      "application/vnd.jupyter.widget-view+json": {
       "model_id": "4fbc0c1fc93545288d0e18aeaac9982b",
       "version_major": 2,
       "version_minor": 0
      },
      "text/plain": [
       "  0%|          | 0/1 [00:00<?, ?it/s]"
      ]
     },
     "metadata": {},
     "output_type": "display_data"
    },
    {
     "data": {
      "application/vnd.jupyter.widget-view+json": {
       "model_id": "2334409dd07846a0b15dcfa2e94b0c59",
       "version_major": 2,
       "version_minor": 0
      },
      "text/plain": [
       "  0%|          | 0/149 [00:00<?, ?it/s]"
      ]
     },
     "metadata": {},
     "output_type": "display_data"
    },
    {
     "data": {
      "application/vnd.jupyter.widget-view+json": {
       "model_id": "b7d97cf45e8b4a0e9c423784089a85cb",
       "version_major": 2,
       "version_minor": 0
      },
      "text/plain": [
       "  0%|          | 0/1 [00:00<?, ?it/s]"
      ]
     },
     "metadata": {},
     "output_type": "display_data"
    },
    {
     "data": {
      "application/vnd.jupyter.widget-view+json": {
       "model_id": "262ee9671a7c4db4ab54c524978a49c7",
       "version_major": 2,
       "version_minor": 0
      },
      "text/plain": [
       "  0%|          | 0/8 [00:00<?, ?it/s]"
      ]
     },
     "metadata": {},
     "output_type": "display_data"
    },
    {
     "name": "stderr",
     "output_type": "stream",
     "text": [
      "/dgx1nas1/storage/data/akalinin/miniconda3/envs/map_benchmark/lib/python3.10/site-packages/copairs/compute.py:152: RuntimeWarning: invalid value encountered in divide\n",
      "  ap_scores = np.add.reduceat(pr_k * rel_k_list, cutoffs) / num_pos\n"
     ]
    },
    {
     "data": {
      "application/vnd.jupyter.widget-view+json": {
       "model_id": "4568dfae9c8943a58edf4c0e62c870a8",
       "version_major": 2,
       "version_minor": 0
      },
      "text/plain": [
       "  0%|          | 0/1 [00:00<?, ?it/s]"
      ]
     },
     "metadata": {},
     "output_type": "display_data"
    },
    {
     "data": {
      "application/vnd.jupyter.widget-view+json": {
       "model_id": "8ed5e01cbd414ac787b08b23d08ef471",
       "version_major": 2,
       "version_minor": 0
      },
      "text/plain": [
       "  0%|          | 0/115 [00:00<?, ?it/s]"
      ]
     },
     "metadata": {},
     "output_type": "display_data"
    },
    {
     "data": {
      "application/vnd.jupyter.widget-view+json": {
       "model_id": "bea0416a7e4a4e1a83ef5064cdd5bfbe",
       "version_major": 2,
       "version_minor": 0
      },
      "text/plain": [
       "  0%|          | 0/3 [00:00<?, ?it/s]"
      ]
     },
     "metadata": {},
     "output_type": "display_data"
    },
    {
     "data": {
      "application/vnd.jupyter.widget-view+json": {
       "model_id": "7d6f3b0014244294b8bbe62971f30f7b",
       "version_major": 2,
       "version_minor": 0
      },
      "text/plain": [
       "  0%|          | 0/13 [00:00<?, ?it/s]"
      ]
     },
     "metadata": {},
     "output_type": "display_data"
    },
    {
     "name": "stderr",
     "output_type": "stream",
     "text": [
      "/dgx1nas1/storage/data/akalinin/miniconda3/envs/map_benchmark/lib/python3.10/site-packages/copairs/compute.py:152: RuntimeWarning: invalid value encountered in divide\n",
      "  ap_scores = np.add.reduceat(pr_k * rel_k_list, cutoffs) / num_pos\n"
     ]
    },
    {
     "data": {
      "application/vnd.jupyter.widget-view+json": {
       "model_id": "b1b9ebcf957542adb751bc60bdfe8e5d",
       "version_major": 2,
       "version_minor": 0
      },
      "text/plain": [
       "  0%|          | 0/1 [00:00<?, ?it/s]"
      ]
     },
     "metadata": {},
     "output_type": "display_data"
    },
    {
     "data": {
      "application/vnd.jupyter.widget-view+json": {
       "model_id": "f025c02220af40e99857ca40f1381ece",
       "version_major": 2,
       "version_minor": 0
      },
      "text/plain": [
       "  0%|          | 0/309 [00:00<?, ?it/s]"
      ]
     },
     "metadata": {},
     "output_type": "display_data"
    },
    {
     "data": {
      "application/vnd.jupyter.widget-view+json": {
       "model_id": "1190aaa2093140ae830ff6398b93537a",
       "version_major": 2,
       "version_minor": 0
      },
      "text/plain": [
       "  0%|          | 0/1 [00:00<?, ?it/s]"
      ]
     },
     "metadata": {},
     "output_type": "display_data"
    },
    {
     "data": {
      "application/vnd.jupyter.widget-view+json": {
       "model_id": "3b645dcb9f234ed081aa2236871014fe",
       "version_major": 2,
       "version_minor": 0
      },
      "text/plain": [
       "  0%|          | 0/7 [00:00<?, ?it/s]"
      ]
     },
     "metadata": {},
     "output_type": "display_data"
    },
    {
     "name": "stderr",
     "output_type": "stream",
     "text": [
      "/dgx1nas1/storage/data/akalinin/miniconda3/envs/map_benchmark/lib/python3.10/site-packages/copairs/compute.py:152: RuntimeWarning: invalid value encountered in divide\n",
      "  ap_scores = np.add.reduceat(pr_k * rel_k_list, cutoffs) / num_pos\n"
     ]
    },
    {
     "data": {
      "application/vnd.jupyter.widget-view+json": {
       "model_id": "cd8e822b2cb6482fa8e6a620bdc282c9",
       "version_major": 2,
       "version_minor": 0
      },
      "text/plain": [
       "  0%|          | 0/1 [00:00<?, ?it/s]"
      ]
     },
     "metadata": {},
     "output_type": "display_data"
    },
    {
     "data": {
      "application/vnd.jupyter.widget-view+json": {
       "model_id": "0654ba7cdd734e42b160ef38df813ec6",
       "version_major": 2,
       "version_minor": 0
      },
      "text/plain": [
       "  0%|          | 0/84 [00:00<?, ?it/s]"
      ]
     },
     "metadata": {},
     "output_type": "display_data"
    },
    {
     "name": "stdout",
     "output_type": "stream",
     "text": [
      "Now analyzing DUT...\n"
     ]
    },
    {
     "data": {
      "application/vnd.jupyter.widget-view+json": {
       "model_id": "17f8d905801c472d97f71737b21575b8",
       "version_major": 2,
       "version_minor": 0
      },
      "text/plain": [
       "  0%|          | 0/5 [00:00<?, ?it/s]"
      ]
     },
     "metadata": {},
     "output_type": "display_data"
    },
    {
     "data": {
      "application/vnd.jupyter.widget-view+json": {
       "model_id": "24d024a74beb4c4ba58611a484fb7a70",
       "version_major": 2,
       "version_minor": 0
      },
      "text/plain": [
       "  0%|          | 0/16 [00:00<?, ?it/s]"
      ]
     },
     "metadata": {},
     "output_type": "display_data"
    },
    {
     "name": "stderr",
     "output_type": "stream",
     "text": [
      "/dgx1nas1/storage/data/akalinin/miniconda3/envs/map_benchmark/lib/python3.10/site-packages/copairs/compute.py:152: RuntimeWarning: invalid value encountered in divide\n",
      "  ap_scores = np.add.reduceat(pr_k * rel_k_list, cutoffs) / num_pos\n"
     ]
    },
    {
     "data": {
      "application/vnd.jupyter.widget-view+json": {
       "model_id": "92d1e532d3a34962bbbb97a3991bf1a1",
       "version_major": 2,
       "version_minor": 0
      },
      "text/plain": [
       "  0%|          | 0/1 [00:00<?, ?it/s]"
      ]
     },
     "metadata": {},
     "output_type": "display_data"
    },
    {
     "data": {
      "application/vnd.jupyter.widget-view+json": {
       "model_id": "489e62db56154bb89635e7dbafb1b938",
       "version_major": 2,
       "version_minor": 0
      },
      "text/plain": [
       "  0%|          | 0/440 [00:00<?, ?it/s]"
      ]
     },
     "metadata": {},
     "output_type": "display_data"
    },
    {
     "data": {
      "application/vnd.jupyter.widget-view+json": {
       "model_id": "809a310c3e234f9eb44092326196f4fd",
       "version_major": 2,
       "version_minor": 0
      },
      "text/plain": [
       "  0%|          | 0/3 [00:00<?, ?it/s]"
      ]
     },
     "metadata": {},
     "output_type": "display_data"
    },
    {
     "data": {
      "application/vnd.jupyter.widget-view+json": {
       "model_id": "da91ecf3c3a340f5ba1224b0be2aa018",
       "version_major": 2,
       "version_minor": 0
      },
      "text/plain": [
       "  0%|          | 0/13 [00:00<?, ?it/s]"
      ]
     },
     "metadata": {},
     "output_type": "display_data"
    },
    {
     "name": "stderr",
     "output_type": "stream",
     "text": [
      "/dgx1nas1/storage/data/akalinin/miniconda3/envs/map_benchmark/lib/python3.10/site-packages/copairs/compute.py:152: RuntimeWarning: invalid value encountered in divide\n",
      "  ap_scores = np.add.reduceat(pr_k * rel_k_list, cutoffs) / num_pos\n"
     ]
    },
    {
     "data": {
      "application/vnd.jupyter.widget-view+json": {
       "model_id": "1a2238c861fe4ca784a01ebdfe821795",
       "version_major": 2,
       "version_minor": 0
      },
      "text/plain": [
       "  0%|          | 0/1 [00:00<?, ?it/s]"
      ]
     },
     "metadata": {},
     "output_type": "display_data"
    },
    {
     "data": {
      "application/vnd.jupyter.widget-view+json": {
       "model_id": "94dd8eabf45d44b599d172ff256fec9a",
       "version_major": 2,
       "version_minor": 0
      },
      "text/plain": [
       "  0%|          | 0/304 [00:00<?, ?it/s]"
      ]
     },
     "metadata": {},
     "output_type": "display_data"
    },
    {
     "data": {
      "application/vnd.jupyter.widget-view+json": {
       "model_id": "61a1a4ea4a1f4047b044228717e4279d",
       "version_major": 2,
       "version_minor": 0
      },
      "text/plain": [
       "  0%|          | 0/2 [00:00<?, ?it/s]"
      ]
     },
     "metadata": {},
     "output_type": "display_data"
    },
    {
     "data": {
      "application/vnd.jupyter.widget-view+json": {
       "model_id": "cd61b5f22ae942dca3ee43c3565bf8b0",
       "version_major": 2,
       "version_minor": 0
      },
      "text/plain": [
       "  0%|          | 0/11 [00:00<?, ?it/s]"
      ]
     },
     "metadata": {},
     "output_type": "display_data"
    },
    {
     "name": "stderr",
     "output_type": "stream",
     "text": [
      "/dgx1nas1/storage/data/akalinin/miniconda3/envs/map_benchmark/lib/python3.10/site-packages/copairs/compute.py:152: RuntimeWarning: invalid value encountered in divide\n",
      "  ap_scores = np.add.reduceat(pr_k * rel_k_list, cutoffs) / num_pos\n"
     ]
    },
    {
     "data": {
      "application/vnd.jupyter.widget-view+json": {
       "model_id": "0b2484bc957146f2bb1f5e1172a412cd",
       "version_major": 2,
       "version_minor": 0
      },
      "text/plain": [
       "  0%|          | 0/1 [00:00<?, ?it/s]"
      ]
     },
     "metadata": {},
     "output_type": "display_data"
    },
    {
     "data": {
      "application/vnd.jupyter.widget-view+json": {
       "model_id": "f119836a6b064a85a923d2aeca4c393f",
       "version_major": 2,
       "version_minor": 0
      },
      "text/plain": [
       "  0%|          | 0/246 [00:00<?, ?it/s]"
      ]
     },
     "metadata": {},
     "output_type": "display_data"
    },
    {
     "data": {
      "application/vnd.jupyter.widget-view+json": {
       "model_id": "a09d0986be8a4bc3b5a9df44bc941eaa",
       "version_major": 2,
       "version_minor": 0
      },
      "text/plain": [
       "  0%|          | 0/1 [00:00<?, ?it/s]"
      ]
     },
     "metadata": {},
     "output_type": "display_data"
    },
    {
     "data": {
      "application/vnd.jupyter.widget-view+json": {
       "model_id": "a0c7562690ca42edac8593ffa3e93f78",
       "version_major": 2,
       "version_minor": 0
      },
      "text/plain": [
       "  0%|          | 0/7 [00:00<?, ?it/s]"
      ]
     },
     "metadata": {},
     "output_type": "display_data"
    },
    {
     "name": "stderr",
     "output_type": "stream",
     "text": [
      "/dgx1nas1/storage/data/akalinin/miniconda3/envs/map_benchmark/lib/python3.10/site-packages/copairs/compute.py:152: RuntimeWarning: invalid value encountered in divide\n",
      "  ap_scores = np.add.reduceat(pr_k * rel_k_list, cutoffs) / num_pos\n"
     ]
    },
    {
     "data": {
      "application/vnd.jupyter.widget-view+json": {
       "model_id": "96c153e13fb64eb5885fbc1fef00f7b9",
       "version_major": 2,
       "version_minor": 0
      },
      "text/plain": [
       "  0%|          | 0/1 [00:00<?, ?it/s]"
      ]
     },
     "metadata": {},
     "output_type": "display_data"
    },
    {
     "data": {
      "application/vnd.jupyter.widget-view+json": {
       "model_id": "8f789d531bc94cc39125702d3db7dda5",
       "version_major": 2,
       "version_minor": 0
      },
      "text/plain": [
       "  0%|          | 0/76 [00:00<?, ?it/s]"
      ]
     },
     "metadata": {},
     "output_type": "display_data"
    },
    {
     "data": {
      "application/vnd.jupyter.widget-view+json": {
       "model_id": "02702467454040cbbb534fc54f61cf0b",
       "version_major": 2,
       "version_minor": 0
      },
      "text/plain": [
       "  0%|          | 0/1 [00:00<?, ?it/s]"
      ]
     },
     "metadata": {},
     "output_type": "display_data"
    },
    {
     "data": {
      "application/vnd.jupyter.widget-view+json": {
       "model_id": "e0ceed5df837433aa02973a58ce6f444",
       "version_major": 2,
       "version_minor": 0
      },
      "text/plain": [
       "  0%|          | 0/9 [00:00<?, ?it/s]"
      ]
     },
     "metadata": {},
     "output_type": "display_data"
    },
    {
     "name": "stderr",
     "output_type": "stream",
     "text": [
      "/dgx1nas1/storage/data/akalinin/miniconda3/envs/map_benchmark/lib/python3.10/site-packages/copairs/compute.py:152: RuntimeWarning: invalid value encountered in divide\n",
      "  ap_scores = np.add.reduceat(pr_k * rel_k_list, cutoffs) / num_pos\n"
     ]
    },
    {
     "data": {
      "application/vnd.jupyter.widget-view+json": {
       "model_id": "9e72e161f51a4246bab6a11f09c8e73c",
       "version_major": 2,
       "version_minor": 0
      },
      "text/plain": [
       "  0%|          | 0/1 [00:00<?, ?it/s]"
      ]
     },
     "metadata": {},
     "output_type": "display_data"
    },
    {
     "data": {
      "application/vnd.jupyter.widget-view+json": {
       "model_id": "df29b8e8e6514123a041f7380b678db0",
       "version_major": 2,
       "version_minor": 0
      },
      "text/plain": [
       "  0%|          | 0/142 [00:00<?, ?it/s]"
      ]
     },
     "metadata": {},
     "output_type": "display_data"
    },
    {
     "name": "stdout",
     "output_type": "stream",
     "text": [
      "Now analyzing HSPA5...\n"
     ]
    },
    {
     "data": {
      "application/vnd.jupyter.widget-view+json": {
       "model_id": "556aeeb5e176466780ecfa35cec461f8",
       "version_major": 2,
       "version_minor": 0
      },
      "text/plain": [
       "  0%|          | 0/1 [00:00<?, ?it/s]"
      ]
     },
     "metadata": {},
     "output_type": "display_data"
    },
    {
     "data": {
      "application/vnd.jupyter.widget-view+json": {
       "model_id": "e9899087901a449c9a0291193ea6ec74",
       "version_major": 2,
       "version_minor": 0
      },
      "text/plain": [
       "  0%|          | 0/8 [00:00<?, ?it/s]"
      ]
     },
     "metadata": {},
     "output_type": "display_data"
    },
    {
     "name": "stderr",
     "output_type": "stream",
     "text": [
      "/dgx1nas1/storage/data/akalinin/miniconda3/envs/map_benchmark/lib/python3.10/site-packages/copairs/compute.py:152: RuntimeWarning: invalid value encountered in divide\n",
      "  ap_scores = np.add.reduceat(pr_k * rel_k_list, cutoffs) / num_pos\n"
     ]
    },
    {
     "data": {
      "application/vnd.jupyter.widget-view+json": {
       "model_id": "bcde43ed180a44ee951290f48d1f567b",
       "version_major": 2,
       "version_minor": 0
      },
      "text/plain": [
       "  0%|          | 0/1 [00:00<?, ?it/s]"
      ]
     },
     "metadata": {},
     "output_type": "display_data"
    },
    {
     "data": {
      "application/vnd.jupyter.widget-view+json": {
       "model_id": "c28a01eb691b4f48afd2caab7413c457",
       "version_major": 2,
       "version_minor": 0
      },
      "text/plain": [
       "  0%|          | 0/87 [00:00<?, ?it/s]"
      ]
     },
     "metadata": {},
     "output_type": "display_data"
    },
    {
     "data": {
      "application/vnd.jupyter.widget-view+json": {
       "model_id": "da89430032e641b0a683d3f4b6205f2f",
       "version_major": 2,
       "version_minor": 0
      },
      "text/plain": [
       "  0%|          | 0/1 [00:00<?, ?it/s]"
      ]
     },
     "metadata": {},
     "output_type": "display_data"
    },
    {
     "data": {
      "application/vnd.jupyter.widget-view+json": {
       "model_id": "3fab887fcb9c4150873406a884110834",
       "version_major": 2,
       "version_minor": 0
      },
      "text/plain": [
       "  0%|          | 0/9 [00:00<?, ?it/s]"
      ]
     },
     "metadata": {},
     "output_type": "display_data"
    },
    {
     "name": "stderr",
     "output_type": "stream",
     "text": [
      "/dgx1nas1/storage/data/akalinin/miniconda3/envs/map_benchmark/lib/python3.10/site-packages/copairs/compute.py:152: RuntimeWarning: invalid value encountered in divide\n",
      "  ap_scores = np.add.reduceat(pr_k * rel_k_list, cutoffs) / num_pos\n"
     ]
    },
    {
     "data": {
      "application/vnd.jupyter.widget-view+json": {
       "model_id": "c0bd66c03fd54f5687fbe9bd90a58dc5",
       "version_major": 2,
       "version_minor": 0
      },
      "text/plain": [
       "  0%|          | 0/1 [00:00<?, ?it/s]"
      ]
     },
     "metadata": {},
     "output_type": "display_data"
    },
    {
     "data": {
      "application/vnd.jupyter.widget-view+json": {
       "model_id": "41f7a38d64ee432896f460456878a6c1",
       "version_major": 2,
       "version_minor": 0
      },
      "text/plain": [
       "  0%|          | 0/163 [00:00<?, ?it/s]"
      ]
     },
     "metadata": {},
     "output_type": "display_data"
    },
    {
     "data": {
      "application/vnd.jupyter.widget-view+json": {
       "model_id": "01ceeb9ac1014885a4479405c8eb57f7",
       "version_major": 2,
       "version_minor": 0
      },
      "text/plain": [
       "  0%|          | 0/1 [00:00<?, ?it/s]"
      ]
     },
     "metadata": {},
     "output_type": "display_data"
    },
    {
     "data": {
      "application/vnd.jupyter.widget-view+json": {
       "model_id": "67bf8eb8f3174aae9d3dfa9b1ce3adcb",
       "version_major": 2,
       "version_minor": 0
      },
      "text/plain": [
       "  0%|          | 0/9 [00:00<?, ?it/s]"
      ]
     },
     "metadata": {},
     "output_type": "display_data"
    },
    {
     "name": "stderr",
     "output_type": "stream",
     "text": [
      "/dgx1nas1/storage/data/akalinin/miniconda3/envs/map_benchmark/lib/python3.10/site-packages/copairs/compute.py:152: RuntimeWarning: invalid value encountered in divide\n",
      "  ap_scores = np.add.reduceat(pr_k * rel_k_list, cutoffs) / num_pos\n"
     ]
    },
    {
     "data": {
      "application/vnd.jupyter.widget-view+json": {
       "model_id": "4cd241a80eed4ca3912d6ec8aecd6bc8",
       "version_major": 2,
       "version_minor": 0
      },
      "text/plain": [
       "  0%|          | 0/1 [00:00<?, ?it/s]"
      ]
     },
     "metadata": {},
     "output_type": "display_data"
    },
    {
     "data": {
      "application/vnd.jupyter.widget-view+json": {
       "model_id": "962e542b442b47cb93bef85d89668a48",
       "version_major": 2,
       "version_minor": 0
      },
      "text/plain": [
       "  0%|          | 0/133 [00:00<?, ?it/s]"
      ]
     },
     "metadata": {},
     "output_type": "display_data"
    },
    {
     "data": {
      "application/vnd.jupyter.widget-view+json": {
       "model_id": "699a38c370fa4491bc7a2699b1630a29",
       "version_major": 2,
       "version_minor": 0
      },
      "text/plain": [
       "  0%|          | 0/2 [00:00<?, ?it/s]"
      ]
     },
     "metadata": {},
     "output_type": "display_data"
    },
    {
     "data": {
      "application/vnd.jupyter.widget-view+json": {
       "model_id": "aed38af0ad904dbeadc07fb75ab324ca",
       "version_major": 2,
       "version_minor": 0
      },
      "text/plain": [
       "  0%|          | 0/11 [00:00<?, ?it/s]"
      ]
     },
     "metadata": {},
     "output_type": "display_data"
    },
    {
     "name": "stderr",
     "output_type": "stream",
     "text": [
      "/dgx1nas1/storage/data/akalinin/miniconda3/envs/map_benchmark/lib/python3.10/site-packages/copairs/compute.py:152: RuntimeWarning: invalid value encountered in divide\n",
      "  ap_scores = np.add.reduceat(pr_k * rel_k_list, cutoffs) / num_pos\n"
     ]
    },
    {
     "data": {
      "application/vnd.jupyter.widget-view+json": {
       "model_id": "d92d9f7dbb564e4b9daa0c12a1301337",
       "version_major": 2,
       "version_minor": 0
      },
      "text/plain": [
       "  0%|          | 0/1 [00:00<?, ?it/s]"
      ]
     },
     "metadata": {},
     "output_type": "display_data"
    },
    {
     "data": {
      "application/vnd.jupyter.widget-view+json": {
       "model_id": "eeb6fdcf4bbc4da7a07bed3615a62c57",
       "version_major": 2,
       "version_minor": 0
      },
      "text/plain": [
       "  0%|          | 0/226 [00:00<?, ?it/s]"
      ]
     },
     "metadata": {},
     "output_type": "display_data"
    },
    {
     "data": {
      "application/vnd.jupyter.widget-view+json": {
       "model_id": "6df3637b75054945a4fc9254c7058fdd",
       "version_major": 2,
       "version_minor": 0
      },
      "text/plain": [
       "  0%|          | 0/1 [00:00<?, ?it/s]"
      ]
     },
     "metadata": {},
     "output_type": "display_data"
    },
    {
     "data": {
      "application/vnd.jupyter.widget-view+json": {
       "model_id": "9c0c96186c5840f187b2205161b613d5",
       "version_major": 2,
       "version_minor": 0
      },
      "text/plain": [
       "  0%|          | 0/8 [00:00<?, ?it/s]"
      ]
     },
     "metadata": {},
     "output_type": "display_data"
    },
    {
     "name": "stderr",
     "output_type": "stream",
     "text": [
      "/dgx1nas1/storage/data/akalinin/miniconda3/envs/map_benchmark/lib/python3.10/site-packages/copairs/compute.py:152: RuntimeWarning: invalid value encountered in divide\n",
      "  ap_scores = np.add.reduceat(pr_k * rel_k_list, cutoffs) / num_pos\n"
     ]
    },
    {
     "data": {
      "application/vnd.jupyter.widget-view+json": {
       "model_id": "00e3e7ec2e494118824d9ba0d6b85cb8",
       "version_major": 2,
       "version_minor": 0
      },
      "text/plain": [
       "  0%|          | 0/1 [00:00<?, ?it/s]"
      ]
     },
     "metadata": {},
     "output_type": "display_data"
    },
    {
     "data": {
      "application/vnd.jupyter.widget-view+json": {
       "model_id": "3fa60c6e03fd440ea37732bb6269ff2b",
       "version_major": 2,
       "version_minor": 0
      },
      "text/plain": [
       "  0%|          | 0/108 [00:00<?, ?it/s]"
      ]
     },
     "metadata": {},
     "output_type": "display_data"
    },
    {
     "name": "stdout",
     "output_type": "stream",
     "text": [
      "Now analyzing MTOR...\n"
     ]
    },
    {
     "data": {
      "application/vnd.jupyter.widget-view+json": {
       "model_id": "7df2f93b0cd049ae9703dd830529102d",
       "version_major": 2,
       "version_minor": 0
      },
      "text/plain": [
       "  0%|          | 0/1 [00:00<?, ?it/s]"
      ]
     },
     "metadata": {},
     "output_type": "display_data"
    },
    {
     "data": {
      "application/vnd.jupyter.widget-view+json": {
       "model_id": "b6c969ac55654c00b159d3b28f9b1cc4",
       "version_major": 2,
       "version_minor": 0
      },
      "text/plain": [
       "  0%|          | 0/9 [00:00<?, ?it/s]"
      ]
     },
     "metadata": {},
     "output_type": "display_data"
    },
    {
     "name": "stderr",
     "output_type": "stream",
     "text": [
      "/dgx1nas1/storage/data/akalinin/miniconda3/envs/map_benchmark/lib/python3.10/site-packages/copairs/compute.py:152: RuntimeWarning: invalid value encountered in divide\n",
      "  ap_scores = np.add.reduceat(pr_k * rel_k_list, cutoffs) / num_pos\n"
     ]
    },
    {
     "data": {
      "application/vnd.jupyter.widget-view+json": {
       "model_id": "647625de845542a99f5bda200c155e93",
       "version_major": 2,
       "version_minor": 0
      },
      "text/plain": [
       "  0%|          | 0/1 [00:00<?, ?it/s]"
      ]
     },
     "metadata": {},
     "output_type": "display_data"
    },
    {
     "data": {
      "application/vnd.jupyter.widget-view+json": {
       "model_id": "9791ec3855fb4e6cb44af962ceedcd64",
       "version_major": 2,
       "version_minor": 0
      },
      "text/plain": [
       "  0%|          | 0/144 [00:00<?, ?it/s]"
      ]
     },
     "metadata": {},
     "output_type": "display_data"
    },
    {
     "data": {
      "application/vnd.jupyter.widget-view+json": {
       "model_id": "8b4b77d964c4405cb5686116f34861ea",
       "version_major": 2,
       "version_minor": 0
      },
      "text/plain": [
       "  0%|          | 0/1 [00:00<?, ?it/s]"
      ]
     },
     "metadata": {},
     "output_type": "display_data"
    },
    {
     "data": {
      "application/vnd.jupyter.widget-view+json": {
       "model_id": "56e38287081147f7a00c7712438e1641",
       "version_major": 2,
       "version_minor": 0
      },
      "text/plain": [
       "  0%|          | 0/8 [00:00<?, ?it/s]"
      ]
     },
     "metadata": {},
     "output_type": "display_data"
    },
    {
     "name": "stderr",
     "output_type": "stream",
     "text": [
      "/dgx1nas1/storage/data/akalinin/miniconda3/envs/map_benchmark/lib/python3.10/site-packages/copairs/compute.py:152: RuntimeWarning: invalid value encountered in divide\n",
      "  ap_scores = np.add.reduceat(pr_k * rel_k_list, cutoffs) / num_pos\n"
     ]
    },
    {
     "data": {
      "application/vnd.jupyter.widget-view+json": {
       "model_id": "9ab30c0d255749f4857c2242f33f9f43",
       "version_major": 2,
       "version_minor": 0
      },
      "text/plain": [
       "  0%|          | 0/1 [00:00<?, ?it/s]"
      ]
     },
     "metadata": {},
     "output_type": "display_data"
    },
    {
     "data": {
      "application/vnd.jupyter.widget-view+json": {
       "model_id": "a61545441672433390fb2e07bb1bd1fe",
       "version_major": 2,
       "version_minor": 0
      },
      "text/plain": [
       "  0%|          | 0/98 [00:00<?, ?it/s]"
      ]
     },
     "metadata": {},
     "output_type": "display_data"
    },
    {
     "data": {
      "application/vnd.jupyter.widget-view+json": {
       "model_id": "944f301231114ee69bd3aff9aea8f63c",
       "version_major": 2,
       "version_minor": 0
      },
      "text/plain": [
       "  0%|          | 0/4 [00:00<?, ?it/s]"
      ]
     },
     "metadata": {},
     "output_type": "display_data"
    },
    {
     "data": {
      "application/vnd.jupyter.widget-view+json": {
       "model_id": "0d82402934a243338ba7005dfc135d3f",
       "version_major": 2,
       "version_minor": 0
      },
      "text/plain": [
       "  0%|          | 0/15 [00:00<?, ?it/s]"
      ]
     },
     "metadata": {},
     "output_type": "display_data"
    },
    {
     "name": "stderr",
     "output_type": "stream",
     "text": [
      "/dgx1nas1/storage/data/akalinin/miniconda3/envs/map_benchmark/lib/python3.10/site-packages/copairs/compute.py:152: RuntimeWarning: invalid value encountered in divide\n",
      "  ap_scores = np.add.reduceat(pr_k * rel_k_list, cutoffs) / num_pos\n"
     ]
    },
    {
     "data": {
      "application/vnd.jupyter.widget-view+json": {
       "model_id": "1b32ce4adad64a3f946a0a27fa8aa9e5",
       "version_major": 2,
       "version_minor": 0
      },
      "text/plain": [
       "  0%|          | 0/1 [00:00<?, ?it/s]"
      ]
     },
     "metadata": {},
     "output_type": "display_data"
    },
    {
     "data": {
      "application/vnd.jupyter.widget-view+json": {
       "model_id": "a38fc6a022514d17b63cd835310eba09",
       "version_major": 2,
       "version_minor": 0
      },
      "text/plain": [
       "  0%|          | 0/398 [00:00<?, ?it/s]"
      ]
     },
     "metadata": {},
     "output_type": "display_data"
    },
    {
     "data": {
      "application/vnd.jupyter.widget-view+json": {
       "model_id": "fd4fd1d2ef92414b98769ebc2d047e60",
       "version_major": 2,
       "version_minor": 0
      },
      "text/plain": [
       "  0%|          | 0/1 [00:00<?, ?it/s]"
      ]
     },
     "metadata": {},
     "output_type": "display_data"
    },
    {
     "data": {
      "application/vnd.jupyter.widget-view+json": {
       "model_id": "35db32056be14ff795c8a3c14c843661",
       "version_major": 2,
       "version_minor": 0
      },
      "text/plain": [
       "  0%|          | 0/9 [00:00<?, ?it/s]"
      ]
     },
     "metadata": {},
     "output_type": "display_data"
    },
    {
     "name": "stderr",
     "output_type": "stream",
     "text": [
      "/dgx1nas1/storage/data/akalinin/miniconda3/envs/map_benchmark/lib/python3.10/site-packages/copairs/compute.py:152: RuntimeWarning: invalid value encountered in divide\n",
      "  ap_scores = np.add.reduceat(pr_k * rel_k_list, cutoffs) / num_pos\n"
     ]
    },
    {
     "data": {
      "application/vnd.jupyter.widget-view+json": {
       "model_id": "4b2f77b71f3d4460a6edecb171a12347",
       "version_major": 2,
       "version_minor": 0
      },
      "text/plain": [
       "  0%|          | 0/1 [00:00<?, ?it/s]"
      ]
     },
     "metadata": {},
     "output_type": "display_data"
    },
    {
     "data": {
      "application/vnd.jupyter.widget-view+json": {
       "model_id": "76fcda34e1ee406c8a5697cdbd3a032a",
       "version_major": 2,
       "version_minor": 0
      },
      "text/plain": [
       "  0%|          | 0/145 [00:00<?, ?it/s]"
      ]
     },
     "metadata": {},
     "output_type": "display_data"
    },
    {
     "data": {
      "application/vnd.jupyter.widget-view+json": {
       "model_id": "385c715bef9a49ca8543960dbb40d254",
       "version_major": 2,
       "version_minor": 0
      },
      "text/plain": [
       "  0%|          | 0/1 [00:00<?, ?it/s]"
      ]
     },
     "metadata": {},
     "output_type": "display_data"
    },
    {
     "data": {
      "application/vnd.jupyter.widget-view+json": {
       "model_id": "0d0179b16c3b486a9c9aa83869647d73",
       "version_major": 2,
       "version_minor": 0
      },
      "text/plain": [
       "  0%|          | 0/9 [00:00<?, ?it/s]"
      ]
     },
     "metadata": {},
     "output_type": "display_data"
    },
    {
     "name": "stderr",
     "output_type": "stream",
     "text": [
      "/dgx1nas1/storage/data/akalinin/miniconda3/envs/map_benchmark/lib/python3.10/site-packages/copairs/compute.py:152: RuntimeWarning: invalid value encountered in divide\n",
      "  ap_scores = np.add.reduceat(pr_k * rel_k_list, cutoffs) / num_pos\n"
     ]
    },
    {
     "data": {
      "application/vnd.jupyter.widget-view+json": {
       "model_id": "98be65f1093647d9b31d31c16f88653d",
       "version_major": 2,
       "version_minor": 0
      },
      "text/plain": [
       "  0%|          | 0/1 [00:00<?, ?it/s]"
      ]
     },
     "metadata": {},
     "output_type": "display_data"
    },
    {
     "data": {
      "application/vnd.jupyter.widget-view+json": {
       "model_id": "3ffb6259163a4503b488a4e3f8aa7304",
       "version_major": 2,
       "version_minor": 0
      },
      "text/plain": [
       "  0%|          | 0/151 [00:00<?, ?it/s]"
      ]
     },
     "metadata": {},
     "output_type": "display_data"
    },
    {
     "name": "stdout",
     "output_type": "stream",
     "text": [
      "Now analyzing GATA1...\n"
     ]
    },
    {
     "data": {
      "application/vnd.jupyter.widget-view+json": {
       "model_id": "81f1f26e78ba422cbf152865b73fed88",
       "version_major": 2,
       "version_minor": 0
      },
      "text/plain": [
       "  0%|          | 0/1 [00:00<?, ?it/s]"
      ]
     },
     "metadata": {},
     "output_type": "display_data"
    },
    {
     "data": {
      "application/vnd.jupyter.widget-view+json": {
       "model_id": "560928b10508493d9d6c4576141c8a34",
       "version_major": 2,
       "version_minor": 0
      },
      "text/plain": [
       "  0%|          | 0/8 [00:00<?, ?it/s]"
      ]
     },
     "metadata": {},
     "output_type": "display_data"
    },
    {
     "name": "stderr",
     "output_type": "stream",
     "text": [
      "/dgx1nas1/storage/data/akalinin/miniconda3/envs/map_benchmark/lib/python3.10/site-packages/copairs/compute.py:152: RuntimeWarning: invalid value encountered in divide\n",
      "  ap_scores = np.add.reduceat(pr_k * rel_k_list, cutoffs) / num_pos\n"
     ]
    },
    {
     "data": {
      "application/vnd.jupyter.widget-view+json": {
       "model_id": "9af4eeac02f84d70b8921c33566a5daa",
       "version_major": 2,
       "version_minor": 0
      },
      "text/plain": [
       "  0%|          | 0/1 [00:00<?, ?it/s]"
      ]
     },
     "metadata": {},
     "output_type": "display_data"
    },
    {
     "data": {
      "application/vnd.jupyter.widget-view+json": {
       "model_id": "d78e621602a6402d99bdcad5638f4321",
       "version_major": 2,
       "version_minor": 0
      },
      "text/plain": [
       "  0%|          | 0/103 [00:00<?, ?it/s]"
      ]
     },
     "metadata": {},
     "output_type": "display_data"
    },
    {
     "data": {
      "application/vnd.jupyter.widget-view+json": {
       "model_id": "2ccd92d11716439689985ec4f7ed53d3",
       "version_major": 2,
       "version_minor": 0
      },
      "text/plain": [
       "  0%|          | 0/1 [00:00<?, ?it/s]"
      ]
     },
     "metadata": {},
     "output_type": "display_data"
    },
    {
     "data": {
      "application/vnd.jupyter.widget-view+json": {
       "model_id": "3c121a67ccee4faea72aee863f65187e",
       "version_major": 2,
       "version_minor": 0
      },
      "text/plain": [
       "  0%|          | 0/8 [00:00<?, ?it/s]"
      ]
     },
     "metadata": {},
     "output_type": "display_data"
    },
    {
     "name": "stderr",
     "output_type": "stream",
     "text": [
      "/dgx1nas1/storage/data/akalinin/miniconda3/envs/map_benchmark/lib/python3.10/site-packages/copairs/compute.py:152: RuntimeWarning: invalid value encountered in divide\n",
      "  ap_scores = np.add.reduceat(pr_k * rel_k_list, cutoffs) / num_pos\n"
     ]
    },
    {
     "data": {
      "application/vnd.jupyter.widget-view+json": {
       "model_id": "beb25f9c5c264a7ebd3799e96a92f20b",
       "version_major": 2,
       "version_minor": 0
      },
      "text/plain": [
       "  0%|          | 0/1 [00:00<?, ?it/s]"
      ]
     },
     "metadata": {},
     "output_type": "display_data"
    },
    {
     "data": {
      "application/vnd.jupyter.widget-view+json": {
       "model_id": "9ba9a523fb154ac7a0cfa6d603c5c558",
       "version_major": 2,
       "version_minor": 0
      },
      "text/plain": [
       "  0%|          | 0/112 [00:00<?, ?it/s]"
      ]
     },
     "metadata": {},
     "output_type": "display_data"
    },
    {
     "data": {
      "application/vnd.jupyter.widget-view+json": {
       "model_id": "75e9fabaccc341a99136e164fa49f05d",
       "version_major": 2,
       "version_minor": 0
      },
      "text/plain": [
       "  0%|          | 0/1 [00:00<?, ?it/s]"
      ]
     },
     "metadata": {},
     "output_type": "display_data"
    },
    {
     "data": {
      "application/vnd.jupyter.widget-view+json": {
       "model_id": "bad85560c2094d07ad18a44f322b386f",
       "version_major": 2,
       "version_minor": 0
      },
      "text/plain": [
       "  0%|          | 0/7 [00:00<?, ?it/s]"
      ]
     },
     "metadata": {},
     "output_type": "display_data"
    },
    {
     "name": "stderr",
     "output_type": "stream",
     "text": [
      "/dgx1nas1/storage/data/akalinin/miniconda3/envs/map_benchmark/lib/python3.10/site-packages/copairs/compute.py:152: RuntimeWarning: invalid value encountered in divide\n",
      "  ap_scores = np.add.reduceat(pr_k * rel_k_list, cutoffs) / num_pos\n"
     ]
    },
    {
     "data": {
      "application/vnd.jupyter.widget-view+json": {
       "model_id": "b9da8fa4fa2e4cb2b62003f9ef7fbf81",
       "version_major": 2,
       "version_minor": 0
      },
      "text/plain": [
       "  0%|          | 0/1 [00:00<?, ?it/s]"
      ]
     },
     "metadata": {},
     "output_type": "display_data"
    },
    {
     "data": {
      "application/vnd.jupyter.widget-view+json": {
       "model_id": "69eb8393db7f456d8220a7c083eda248",
       "version_major": 2,
       "version_minor": 0
      },
      "text/plain": [
       "  0%|          | 0/60 [00:00<?, ?it/s]"
      ]
     },
     "metadata": {},
     "output_type": "display_data"
    },
    {
     "data": {
      "application/vnd.jupyter.widget-view+json": {
       "model_id": "6b68248daad844cc90c66e746dd7c1e5",
       "version_major": 2,
       "version_minor": 0
      },
      "text/plain": [
       "  0%|          | 0/1 [00:00<?, ?it/s]"
      ]
     },
     "metadata": {},
     "output_type": "display_data"
    },
    {
     "data": {
      "application/vnd.jupyter.widget-view+json": {
       "model_id": "b0b3eee2bba342fca4f4e194c7bb683d",
       "version_major": 2,
       "version_minor": 0
      },
      "text/plain": [
       "  0%|          | 0/8 [00:00<?, ?it/s]"
      ]
     },
     "metadata": {},
     "output_type": "display_data"
    },
    {
     "name": "stderr",
     "output_type": "stream",
     "text": [
      "/dgx1nas1/storage/data/akalinin/miniconda3/envs/map_benchmark/lib/python3.10/site-packages/copairs/compute.py:152: RuntimeWarning: invalid value encountered in divide\n",
      "  ap_scores = np.add.reduceat(pr_k * rel_k_list, cutoffs) / num_pos\n"
     ]
    },
    {
     "data": {
      "application/vnd.jupyter.widget-view+json": {
       "model_id": "acf0827b275d46829f0b9212d158bcfc",
       "version_major": 2,
       "version_minor": 0
      },
      "text/plain": [
       "  0%|          | 0/1 [00:00<?, ?it/s]"
      ]
     },
     "metadata": {},
     "output_type": "display_data"
    },
    {
     "data": {
      "application/vnd.jupyter.widget-view+json": {
       "model_id": "93cfc890a3d64f1cb9b361630e728448",
       "version_major": 2,
       "version_minor": 0
      },
      "text/plain": [
       "  0%|          | 0/121 [00:00<?, ?it/s]"
      ]
     },
     "metadata": {},
     "output_type": "display_data"
    },
    {
     "data": {
      "application/vnd.jupyter.widget-view+json": {
       "model_id": "bef8e1588f60474db32466ee20f77f03",
       "version_major": 2,
       "version_minor": 0
      },
      "text/plain": [
       "  0%|          | 0/1 [00:00<?, ?it/s]"
      ]
     },
     "metadata": {},
     "output_type": "display_data"
    },
    {
     "data": {
      "application/vnd.jupyter.widget-view+json": {
       "model_id": "bada3b0018704d51849272859be15485",
       "version_major": 2,
       "version_minor": 0
      },
      "text/plain": [
       "  0%|          | 0/6 [00:00<?, ?it/s]"
      ]
     },
     "metadata": {},
     "output_type": "display_data"
    },
    {
     "name": "stderr",
     "output_type": "stream",
     "text": [
      "/dgx1nas1/storage/data/akalinin/miniconda3/envs/map_benchmark/lib/python3.10/site-packages/copairs/compute.py:152: RuntimeWarning: invalid value encountered in divide\n",
      "  ap_scores = np.add.reduceat(pr_k * rel_k_list, cutoffs) / num_pos\n"
     ]
    },
    {
     "data": {
      "application/vnd.jupyter.widget-view+json": {
       "model_id": "2f0805c3c5d64c14807a74dc9426c06f",
       "version_major": 2,
       "version_minor": 0
      },
      "text/plain": [
       "  0%|          | 0/1 [00:00<?, ?it/s]"
      ]
     },
     "metadata": {},
     "output_type": "display_data"
    },
    {
     "data": {
      "application/vnd.jupyter.widget-view+json": {
       "model_id": "473fef149eae4663906fc58f7b1a62d3",
       "version_major": 2,
       "version_minor": 0
      },
      "text/plain": [
       "  0%|          | 0/42 [00:00<?, ?it/s]"
      ]
     },
     "metadata": {},
     "output_type": "display_data"
    },
    {
     "data": {
      "application/vnd.jupyter.widget-view+json": {
       "model_id": "5b482ccd94144f8f8f98db63123e3208",
       "version_major": 2,
       "version_minor": 0
      },
      "text/plain": [
       "  0%|          | 0/1 [00:00<?, ?it/s]"
      ]
     },
     "metadata": {},
     "output_type": "display_data"
    },
    {
     "data": {
      "application/vnd.jupyter.widget-view+json": {
       "model_id": "67cf93166e2246c39c3291b9db33f6cc",
       "version_major": 2,
       "version_minor": 0
      },
      "text/plain": [
       "  0%|          | 0/6 [00:00<?, ?it/s]"
      ]
     },
     "metadata": {},
     "output_type": "display_data"
    },
    {
     "name": "stderr",
     "output_type": "stream",
     "text": [
      "/dgx1nas1/storage/data/akalinin/miniconda3/envs/map_benchmark/lib/python3.10/site-packages/copairs/compute.py:152: RuntimeWarning: invalid value encountered in divide\n",
      "  ap_scores = np.add.reduceat(pr_k * rel_k_list, cutoffs) / num_pos\n"
     ]
    },
    {
     "data": {
      "application/vnd.jupyter.widget-view+json": {
       "model_id": "41d51b89cedb424fa1c698c9ef679e0c",
       "version_major": 2,
       "version_minor": 0
      },
      "text/plain": [
       "  0%|          | 0/1 [00:00<?, ?it/s]"
      ]
     },
     "metadata": {},
     "output_type": "display_data"
    },
    {
     "data": {
      "application/vnd.jupyter.widget-view+json": {
       "model_id": "d0d85f7546a34605a449bb8ce201119a",
       "version_major": 2,
       "version_minor": 0
      },
      "text/plain": [
       "  0%|          | 0/41 [00:00<?, ?it/s]"
      ]
     },
     "metadata": {},
     "output_type": "display_data"
    },
    {
     "name": "stdout",
     "output_type": "stream",
     "text": [
      "Now analyzing GINS1...\n"
     ]
    },
    {
     "data": {
      "application/vnd.jupyter.widget-view+json": {
       "model_id": "d5af3bb13c03414a9d66cfe2ae044111",
       "version_major": 2,
       "version_minor": 0
      },
      "text/plain": [
       "  0%|          | 0/3 [00:00<?, ?it/s]"
      ]
     },
     "metadata": {},
     "output_type": "display_data"
    },
    {
     "data": {
      "application/vnd.jupyter.widget-view+json": {
       "model_id": "c7f88338a30e4196a36935090f2d3eb0",
       "version_major": 2,
       "version_minor": 0
      },
      "text/plain": [
       "  0%|          | 0/13 [00:00<?, ?it/s]"
      ]
     },
     "metadata": {},
     "output_type": "display_data"
    },
    {
     "name": "stderr",
     "output_type": "stream",
     "text": [
      "/dgx1nas1/storage/data/akalinin/miniconda3/envs/map_benchmark/lib/python3.10/site-packages/copairs/compute.py:152: RuntimeWarning: invalid value encountered in divide\n",
      "  ap_scores = np.add.reduceat(pr_k * rel_k_list, cutoffs) / num_pos\n"
     ]
    },
    {
     "data": {
      "application/vnd.jupyter.widget-view+json": {
       "model_id": "3251c159a16945078392890e222a310a",
       "version_major": 2,
       "version_minor": 0
      },
      "text/plain": [
       "  0%|          | 0/1 [00:00<?, ?it/s]"
      ]
     },
     "metadata": {},
     "output_type": "display_data"
    },
    {
     "data": {
      "application/vnd.jupyter.widget-view+json": {
       "model_id": "6392fabf7f9248cf9470b3aa367a1c80",
       "version_major": 2,
       "version_minor": 0
      },
      "text/plain": [
       "  0%|          | 0/315 [00:00<?, ?it/s]"
      ]
     },
     "metadata": {},
     "output_type": "display_data"
    },
    {
     "data": {
      "application/vnd.jupyter.widget-view+json": {
       "model_id": "5fe51b928e544ff088f03b838c5ec172",
       "version_major": 2,
       "version_minor": 0
      },
      "text/plain": [
       "  0%|          | 0/2 [00:00<?, ?it/s]"
      ]
     },
     "metadata": {},
     "output_type": "display_data"
    },
    {
     "data": {
      "application/vnd.jupyter.widget-view+json": {
       "model_id": "80f557d70d2d46b7ab28c4df01dd7198",
       "version_major": 2,
       "version_minor": 0
      },
      "text/plain": [
       "  0%|          | 0/10 [00:00<?, ?it/s]"
      ]
     },
     "metadata": {},
     "output_type": "display_data"
    },
    {
     "name": "stderr",
     "output_type": "stream",
     "text": [
      "/dgx1nas1/storage/data/akalinin/miniconda3/envs/map_benchmark/lib/python3.10/site-packages/copairs/compute.py:152: RuntimeWarning: invalid value encountered in divide\n",
      "  ap_scores = np.add.reduceat(pr_k * rel_k_list, cutoffs) / num_pos\n"
     ]
    },
    {
     "data": {
      "application/vnd.jupyter.widget-view+json": {
       "model_id": "f4296726e2e946ecae3c46153ae41754",
       "version_major": 2,
       "version_minor": 0
      },
      "text/plain": [
       "  0%|          | 0/1 [00:00<?, ?it/s]"
      ]
     },
     "metadata": {},
     "output_type": "display_data"
    },
    {
     "data": {
      "application/vnd.jupyter.widget-view+json": {
       "model_id": "486bb56e60ff43a7aec4ea95238254f2",
       "version_major": 2,
       "version_minor": 0
      },
      "text/plain": [
       "  0%|          | 0/208 [00:00<?, ?it/s]"
      ]
     },
     "metadata": {},
     "output_type": "display_data"
    },
    {
     "data": {
      "application/vnd.jupyter.widget-view+json": {
       "model_id": "bacfe4468f004b6c9b59eba1fc161fc0",
       "version_major": 2,
       "version_minor": 0
      },
      "text/plain": [
       "  0%|          | 0/1 [00:00<?, ?it/s]"
      ]
     },
     "metadata": {},
     "output_type": "display_data"
    },
    {
     "data": {
      "application/vnd.jupyter.widget-view+json": {
       "model_id": "53c5ea743f25451088ac9394f58d2b28",
       "version_major": 2,
       "version_minor": 0
      },
      "text/plain": [
       "  0%|          | 0/9 [00:00<?, ?it/s]"
      ]
     },
     "metadata": {},
     "output_type": "display_data"
    },
    {
     "name": "stderr",
     "output_type": "stream",
     "text": [
      "/dgx1nas1/storage/data/akalinin/miniconda3/envs/map_benchmark/lib/python3.10/site-packages/copairs/compute.py:152: RuntimeWarning: invalid value encountered in divide\n",
      "  ap_scores = np.add.reduceat(pr_k * rel_k_list, cutoffs) / num_pos\n"
     ]
    },
    {
     "data": {
      "application/vnd.jupyter.widget-view+json": {
       "model_id": "64f409b99cb144469ce442b2cdaa5390",
       "version_major": 2,
       "version_minor": 0
      },
      "text/plain": [
       "  0%|          | 0/1 [00:00<?, ?it/s]"
      ]
     },
     "metadata": {},
     "output_type": "display_data"
    },
    {
     "data": {
      "application/vnd.jupyter.widget-view+json": {
       "model_id": "b56884e4342b4e2f9dc7714b182aa45a",
       "version_major": 2,
       "version_minor": 0
      },
      "text/plain": [
       "  0%|          | 0/169 [00:00<?, ?it/s]"
      ]
     },
     "metadata": {},
     "output_type": "display_data"
    },
    {
     "data": {
      "application/vnd.jupyter.widget-view+json": {
       "model_id": "2169abd8c1134fee84a52f5386c480ab",
       "version_major": 2,
       "version_minor": 0
      },
      "text/plain": [
       "  0%|          | 0/1 [00:00<?, ?it/s]"
      ]
     },
     "metadata": {},
     "output_type": "display_data"
    },
    {
     "data": {
      "application/vnd.jupyter.widget-view+json": {
       "model_id": "13ef80a0e0bd4ac8951921c38cb05d17",
       "version_major": 2,
       "version_minor": 0
      },
      "text/plain": [
       "  0%|          | 0/8 [00:00<?, ?it/s]"
      ]
     },
     "metadata": {},
     "output_type": "display_data"
    },
    {
     "name": "stderr",
     "output_type": "stream",
     "text": [
      "/dgx1nas1/storage/data/akalinin/miniconda3/envs/map_benchmark/lib/python3.10/site-packages/copairs/compute.py:152: RuntimeWarning: invalid value encountered in divide\n",
      "  ap_scores = np.add.reduceat(pr_k * rel_k_list, cutoffs) / num_pos\n"
     ]
    },
    {
     "data": {
      "application/vnd.jupyter.widget-view+json": {
       "model_id": "84a6a5a601094668a15597d0f790ea42",
       "version_major": 2,
       "version_minor": 0
      },
      "text/plain": [
       "  0%|          | 0/1 [00:00<?, ?it/s]"
      ]
     },
     "metadata": {},
     "output_type": "display_data"
    },
    {
     "data": {
      "application/vnd.jupyter.widget-view+json": {
       "model_id": "43c9992baf63448e8cdd3470a748a9c3",
       "version_major": 2,
       "version_minor": 0
      },
      "text/plain": [
       "  0%|          | 0/127 [00:00<?, ?it/s]"
      ]
     },
     "metadata": {},
     "output_type": "display_data"
    },
    {
     "data": {
      "application/vnd.jupyter.widget-view+json": {
       "model_id": "f252bf40cee9426284561d7c1fe583c6",
       "version_major": 2,
       "version_minor": 0
      },
      "text/plain": [
       "  0%|          | 0/1 [00:00<?, ?it/s]"
      ]
     },
     "metadata": {},
     "output_type": "display_data"
    },
    {
     "data": {
      "application/vnd.jupyter.widget-view+json": {
       "model_id": "7c26f46fdf4f458ab79bc5ffcb8496af",
       "version_major": 2,
       "version_minor": 0
      },
      "text/plain": [
       "  0%|          | 0/7 [00:00<?, ?it/s]"
      ]
     },
     "metadata": {},
     "output_type": "display_data"
    },
    {
     "name": "stderr",
     "output_type": "stream",
     "text": [
      "/dgx1nas1/storage/data/akalinin/miniconda3/envs/map_benchmark/lib/python3.10/site-packages/copairs/compute.py:152: RuntimeWarning: invalid value encountered in divide\n",
      "  ap_scores = np.add.reduceat(pr_k * rel_k_list, cutoffs) / num_pos\n"
     ]
    },
    {
     "data": {
      "application/vnd.jupyter.widget-view+json": {
       "model_id": "7ee9eabfe62b4f8799d069caa69fad5c",
       "version_major": 2,
       "version_minor": 0
      },
      "text/plain": [
       "  0%|          | 0/1 [00:00<?, ?it/s]"
      ]
     },
     "metadata": {},
     "output_type": "display_data"
    },
    {
     "data": {
      "application/vnd.jupyter.widget-view+json": {
       "model_id": "0bc1308835f7456dbe760e7756a768d9",
       "version_major": 2,
       "version_minor": 0
      },
      "text/plain": [
       "  0%|          | 0/46 [00:00<?, ?it/s]"
      ]
     },
     "metadata": {},
     "output_type": "display_data"
    },
    {
     "name": "stdout",
     "output_type": "stream",
     "text": [
      "Now analyzing HSPE1...\n"
     ]
    },
    {
     "data": {
      "application/vnd.jupyter.widget-view+json": {
       "model_id": "76a18eb853b04af1a8560326ed521de7",
       "version_major": 2,
       "version_minor": 0
      },
      "text/plain": [
       "  0%|          | 0/2 [00:00<?, ?it/s]"
      ]
     },
     "metadata": {},
     "output_type": "display_data"
    },
    {
     "data": {
      "application/vnd.jupyter.widget-view+json": {
       "model_id": "cc7226ffae3e414da5f39416c51071bc",
       "version_major": 2,
       "version_minor": 0
      },
      "text/plain": [
       "  0%|          | 0/11 [00:00<?, ?it/s]"
      ]
     },
     "metadata": {},
     "output_type": "display_data"
    },
    {
     "name": "stderr",
     "output_type": "stream",
     "text": [
      "/dgx1nas1/storage/data/akalinin/miniconda3/envs/map_benchmark/lib/python3.10/site-packages/copairs/compute.py:152: RuntimeWarning: invalid value encountered in divide\n",
      "  ap_scores = np.add.reduceat(pr_k * rel_k_list, cutoffs) / num_pos\n"
     ]
    },
    {
     "data": {
      "application/vnd.jupyter.widget-view+json": {
       "model_id": "ec94f9ba70ee4972b938aeee8c2a4ab8",
       "version_major": 2,
       "version_minor": 0
      },
      "text/plain": [
       "  0%|          | 0/1 [00:00<?, ?it/s]"
      ]
     },
     "metadata": {},
     "output_type": "display_data"
    },
    {
     "data": {
      "application/vnd.jupyter.widget-view+json": {
       "model_id": "07b786f478a94ea8af6f67f641ac8374",
       "version_major": 2,
       "version_minor": 0
      },
      "text/plain": [
       "  0%|          | 0/249 [00:00<?, ?it/s]"
      ]
     },
     "metadata": {},
     "output_type": "display_data"
    },
    {
     "data": {
      "application/vnd.jupyter.widget-view+json": {
       "model_id": "1a2eaf7113344272bc6bd2f4aaa222f3",
       "version_major": 2,
       "version_minor": 0
      },
      "text/plain": [
       "  0%|          | 0/1 [00:00<?, ?it/s]"
      ]
     },
     "metadata": {},
     "output_type": "display_data"
    },
    {
     "data": {
      "application/vnd.jupyter.widget-view+json": {
       "model_id": "733cf766d48342d892377ffde14fcda8",
       "version_major": 2,
       "version_minor": 0
      },
      "text/plain": [
       "  0%|          | 0/10 [00:00<?, ?it/s]"
      ]
     },
     "metadata": {},
     "output_type": "display_data"
    },
    {
     "name": "stderr",
     "output_type": "stream",
     "text": [
      "/dgx1nas1/storage/data/akalinin/miniconda3/envs/map_benchmark/lib/python3.10/site-packages/copairs/compute.py:152: RuntimeWarning: invalid value encountered in divide\n",
      "  ap_scores = np.add.reduceat(pr_k * rel_k_list, cutoffs) / num_pos\n"
     ]
    },
    {
     "data": {
      "application/vnd.jupyter.widget-view+json": {
       "model_id": "0ee88403643a4ee3a7d35ea8fc9c8c87",
       "version_major": 2,
       "version_minor": 0
      },
      "text/plain": [
       "  0%|          | 0/1 [00:00<?, ?it/s]"
      ]
     },
     "metadata": {},
     "output_type": "display_data"
    },
    {
     "data": {
      "application/vnd.jupyter.widget-view+json": {
       "model_id": "d18aeb3c435d4696be3883930fad9a7f",
       "version_major": 2,
       "version_minor": 0
      },
      "text/plain": [
       "  0%|          | 0/194 [00:00<?, ?it/s]"
      ]
     },
     "metadata": {},
     "output_type": "display_data"
    },
    {
     "data": {
      "application/vnd.jupyter.widget-view+json": {
       "model_id": "418c9a4b59114fa8830bc7a04e91eea7",
       "version_major": 2,
       "version_minor": 0
      },
      "text/plain": [
       "  0%|          | 0/1 [00:00<?, ?it/s]"
      ]
     },
     "metadata": {},
     "output_type": "display_data"
    },
    {
     "data": {
      "application/vnd.jupyter.widget-view+json": {
       "model_id": "f867cf4807444a0e9cbe2ee959451e1e",
       "version_major": 2,
       "version_minor": 0
      },
      "text/plain": [
       "  0%|          | 0/10 [00:00<?, ?it/s]"
      ]
     },
     "metadata": {},
     "output_type": "display_data"
    },
    {
     "name": "stderr",
     "output_type": "stream",
     "text": [
      "/dgx1nas1/storage/data/akalinin/miniconda3/envs/map_benchmark/lib/python3.10/site-packages/copairs/compute.py:152: RuntimeWarning: invalid value encountered in divide\n",
      "  ap_scores = np.add.reduceat(pr_k * rel_k_list, cutoffs) / num_pos\n"
     ]
    },
    {
     "data": {
      "application/vnd.jupyter.widget-view+json": {
       "model_id": "f5abdc7a47834ee6bee5af67011dbde6",
       "version_major": 2,
       "version_minor": 0
      },
      "text/plain": [
       "  0%|          | 0/1 [00:00<?, ?it/s]"
      ]
     },
     "metadata": {},
     "output_type": "display_data"
    },
    {
     "data": {
      "application/vnd.jupyter.widget-view+json": {
       "model_id": "75d41bd1376846f58273689746050de2",
       "version_major": 2,
       "version_minor": 0
      },
      "text/plain": [
       "  0%|          | 0/176 [00:00<?, ?it/s]"
      ]
     },
     "metadata": {},
     "output_type": "display_data"
    },
    {
     "data": {
      "application/vnd.jupyter.widget-view+json": {
       "model_id": "b41a0233c7384506a4c22a0b5fda75ec",
       "version_major": 2,
       "version_minor": 0
      },
      "text/plain": [
       "  0%|          | 0/1 [00:00<?, ?it/s]"
      ]
     },
     "metadata": {},
     "output_type": "display_data"
    },
    {
     "data": {
      "application/vnd.jupyter.widget-view+json": {
       "model_id": "42de0cddd42943adafa7a5571713b3f0",
       "version_major": 2,
       "version_minor": 0
      },
      "text/plain": [
       "  0%|          | 0/9 [00:00<?, ?it/s]"
      ]
     },
     "metadata": {},
     "output_type": "display_data"
    },
    {
     "name": "stderr",
     "output_type": "stream",
     "text": [
      "/dgx1nas1/storage/data/akalinin/miniconda3/envs/map_benchmark/lib/python3.10/site-packages/copairs/compute.py:152: RuntimeWarning: invalid value encountered in divide\n",
      "  ap_scores = np.add.reduceat(pr_k * rel_k_list, cutoffs) / num_pos\n"
     ]
    },
    {
     "data": {
      "application/vnd.jupyter.widget-view+json": {
       "model_id": "565fc88885804bd2851fb893edcd73d1",
       "version_major": 2,
       "version_minor": 0
      },
      "text/plain": [
       "  0%|          | 0/1 [00:00<?, ?it/s]"
      ]
     },
     "metadata": {},
     "output_type": "display_data"
    },
    {
     "data": {
      "application/vnd.jupyter.widget-view+json": {
       "model_id": "c3bcb901c5324a9aba1fd9a45f20af95",
       "version_major": 2,
       "version_minor": 0
      },
      "text/plain": [
       "  0%|          | 0/130 [00:00<?, ?it/s]"
      ]
     },
     "metadata": {},
     "output_type": "display_data"
    },
    {
     "data": {
      "application/vnd.jupyter.widget-view+json": {
       "model_id": "e5fbb6c1ffb34d22944e94b99383c28d",
       "version_major": 2,
       "version_minor": 0
      },
      "text/plain": [
       "  0%|          | 0/2 [00:00<?, ?it/s]"
      ]
     },
     "metadata": {},
     "output_type": "display_data"
    },
    {
     "data": {
      "application/vnd.jupyter.widget-view+json": {
       "model_id": "6854b945c17a432390b37fb491821c6c",
       "version_major": 2,
       "version_minor": 0
      },
      "text/plain": [
       "  0%|          | 0/10 [00:00<?, ?it/s]"
      ]
     },
     "metadata": {},
     "output_type": "display_data"
    },
    {
     "name": "stderr",
     "output_type": "stream",
     "text": [
      "/dgx1nas1/storage/data/akalinin/miniconda3/envs/map_benchmark/lib/python3.10/site-packages/copairs/compute.py:152: RuntimeWarning: invalid value encountered in divide\n",
      "  ap_scores = np.add.reduceat(pr_k * rel_k_list, cutoffs) / num_pos\n"
     ]
    },
    {
     "data": {
      "application/vnd.jupyter.widget-view+json": {
       "model_id": "185e4675afe446eba03d2928e389a54b",
       "version_major": 2,
       "version_minor": 0
      },
      "text/plain": [
       "  0%|          | 0/1 [00:00<?, ?it/s]"
      ]
     },
     "metadata": {},
     "output_type": "display_data"
    },
    {
     "data": {
      "application/vnd.jupyter.widget-view+json": {
       "model_id": "62fddd98384f4c24bd54200f3f5094a1",
       "version_major": 2,
       "version_minor": 0
      },
      "text/plain": [
       "  0%|          | 0/204 [00:00<?, ?it/s]"
      ]
     },
     "metadata": {},
     "output_type": "display_data"
    },
    {
     "name": "stdout",
     "output_type": "stream",
     "text": [
      "Now analyzing RPS14...\n"
     ]
    },
    {
     "data": {
      "application/vnd.jupyter.widget-view+json": {
       "model_id": "22f982b96a224ae59204a647801b58ba",
       "version_major": 2,
       "version_minor": 0
      },
      "text/plain": [
       "  0%|          | 0/2 [00:00<?, ?it/s]"
      ]
     },
     "metadata": {},
     "output_type": "display_data"
    },
    {
     "data": {
      "application/vnd.jupyter.widget-view+json": {
       "model_id": "0ca473b483f847099425a419ef2d59b9",
       "version_major": 2,
       "version_minor": 0
      },
      "text/plain": [
       "  0%|          | 0/10 [00:00<?, ?it/s]"
      ]
     },
     "metadata": {},
     "output_type": "display_data"
    },
    {
     "name": "stderr",
     "output_type": "stream",
     "text": [
      "/dgx1nas1/storage/data/akalinin/miniconda3/envs/map_benchmark/lib/python3.10/site-packages/copairs/compute.py:152: RuntimeWarning: invalid value encountered in divide\n",
      "  ap_scores = np.add.reduceat(pr_k * rel_k_list, cutoffs) / num_pos\n"
     ]
    },
    {
     "data": {
      "application/vnd.jupyter.widget-view+json": {
       "model_id": "325e196f27ff4f72a11b95c0c737c2f1",
       "version_major": 2,
       "version_minor": 0
      },
      "text/plain": [
       "  0%|          | 0/1 [00:00<?, ?it/s]"
      ]
     },
     "metadata": {},
     "output_type": "display_data"
    },
    {
     "data": {
      "application/vnd.jupyter.widget-view+json": {
       "model_id": "50a3932a1d0c492f9ec7670c6072a318",
       "version_major": 2,
       "version_minor": 0
      },
      "text/plain": [
       "  0%|          | 0/202 [00:00<?, ?it/s]"
      ]
     },
     "metadata": {},
     "output_type": "display_data"
    },
    {
     "data": {
      "application/vnd.jupyter.widget-view+json": {
       "model_id": "3ea0d8a07dd94a1e9d7881514cd73f61",
       "version_major": 2,
       "version_minor": 0
      },
      "text/plain": [
       "  0%|          | 0/1 [00:00<?, ?it/s]"
      ]
     },
     "metadata": {},
     "output_type": "display_data"
    },
    {
     "data": {
      "application/vnd.jupyter.widget-view+json": {
       "model_id": "324e6cfcc326428783d143f155c2b969",
       "version_major": 2,
       "version_minor": 0
      },
      "text/plain": [
       "  0%|          | 0/10 [00:00<?, ?it/s]"
      ]
     },
     "metadata": {},
     "output_type": "display_data"
    },
    {
     "name": "stderr",
     "output_type": "stream",
     "text": [
      "/dgx1nas1/storage/data/akalinin/miniconda3/envs/map_benchmark/lib/python3.10/site-packages/copairs/compute.py:152: RuntimeWarning: invalid value encountered in divide\n",
      "  ap_scores = np.add.reduceat(pr_k * rel_k_list, cutoffs) / num_pos\n"
     ]
    },
    {
     "data": {
      "application/vnd.jupyter.widget-view+json": {
       "model_id": "b3a68348b6c546468f59a266f70b2203",
       "version_major": 2,
       "version_minor": 0
      },
      "text/plain": [
       "  0%|          | 0/1 [00:00<?, ?it/s]"
      ]
     },
     "metadata": {},
     "output_type": "display_data"
    },
    {
     "data": {
      "application/vnd.jupyter.widget-view+json": {
       "model_id": "4f22e68d4b724d7da3232fcdd89f570c",
       "version_major": 2,
       "version_minor": 0
      },
      "text/plain": [
       "  0%|          | 0/200 [00:00<?, ?it/s]"
      ]
     },
     "metadata": {},
     "output_type": "display_data"
    },
    {
     "data": {
      "application/vnd.jupyter.widget-view+json": {
       "model_id": "41e038d592b74881b1f2c0228c4c5838",
       "version_major": 2,
       "version_minor": 0
      },
      "text/plain": [
       "  0%|          | 0/1 [00:00<?, ?it/s]"
      ]
     },
     "metadata": {},
     "output_type": "display_data"
    },
    {
     "data": {
      "application/vnd.jupyter.widget-view+json": {
       "model_id": "9fc95541e0784acc835ac859be50c20e",
       "version_major": 2,
       "version_minor": 0
      },
      "text/plain": [
       "  0%|          | 0/10 [00:00<?, ?it/s]"
      ]
     },
     "metadata": {},
     "output_type": "display_data"
    },
    {
     "name": "stderr",
     "output_type": "stream",
     "text": [
      "/dgx1nas1/storage/data/akalinin/miniconda3/envs/map_benchmark/lib/python3.10/site-packages/copairs/compute.py:152: RuntimeWarning: invalid value encountered in divide\n",
      "  ap_scores = np.add.reduceat(pr_k * rel_k_list, cutoffs) / num_pos\n"
     ]
    },
    {
     "data": {
      "application/vnd.jupyter.widget-view+json": {
       "model_id": "06050523dc7d47029de1d68acd05f878",
       "version_major": 2,
       "version_minor": 0
      },
      "text/plain": [
       "  0%|          | 0/1 [00:00<?, ?it/s]"
      ]
     },
     "metadata": {},
     "output_type": "display_data"
    },
    {
     "data": {
      "application/vnd.jupyter.widget-view+json": {
       "model_id": "b54ec90036dd4706ba8c5b1eacc2d9e3",
       "version_major": 2,
       "version_minor": 0
      },
      "text/plain": [
       "  0%|          | 0/197 [00:00<?, ?it/s]"
      ]
     },
     "metadata": {},
     "output_type": "display_data"
    },
    {
     "data": {
      "application/vnd.jupyter.widget-view+json": {
       "model_id": "c847939c47ba4f3aa64684a3e38dda43",
       "version_major": 2,
       "version_minor": 0
      },
      "text/plain": [
       "  0%|          | 0/1 [00:00<?, ?it/s]"
      ]
     },
     "metadata": {},
     "output_type": "display_data"
    },
    {
     "data": {
      "application/vnd.jupyter.widget-view+json": {
       "model_id": "cd1d2af5455641ae853d7efeb6b7fddc",
       "version_major": 2,
       "version_minor": 0
      },
      "text/plain": [
       "  0%|          | 0/7 [00:00<?, ?it/s]"
      ]
     },
     "metadata": {},
     "output_type": "display_data"
    },
    {
     "name": "stderr",
     "output_type": "stream",
     "text": [
      "/dgx1nas1/storage/data/akalinin/miniconda3/envs/map_benchmark/lib/python3.10/site-packages/copairs/compute.py:152: RuntimeWarning: invalid value encountered in divide\n",
      "  ap_scores = np.add.reduceat(pr_k * rel_k_list, cutoffs) / num_pos\n"
     ]
    },
    {
     "data": {
      "application/vnd.jupyter.widget-view+json": {
       "model_id": "72e17f0f8c894ee38ce5281db4d51a4c",
       "version_major": 2,
       "version_minor": 0
      },
      "text/plain": [
       "  0%|          | 0/1 [00:00<?, ?it/s]"
      ]
     },
     "metadata": {},
     "output_type": "display_data"
    },
    {
     "data": {
      "application/vnd.jupyter.widget-view+json": {
       "model_id": "6b977dffa80149d6af6c034b2d5a56bf",
       "version_major": 2,
       "version_minor": 0
      },
      "text/plain": [
       "  0%|          | 0/66 [00:00<?, ?it/s]"
      ]
     },
     "metadata": {},
     "output_type": "display_data"
    },
    {
     "data": {
      "application/vnd.jupyter.widget-view+json": {
       "model_id": "9ad06e004a734191a90e95d0588d8f56",
       "version_major": 2,
       "version_minor": 0
      },
      "text/plain": [
       "  0%|          | 0/1 [00:00<?, ?it/s]"
      ]
     },
     "metadata": {},
     "output_type": "display_data"
    },
    {
     "data": {
      "application/vnd.jupyter.widget-view+json": {
       "model_id": "9b37f9c464bb401dbfe049aa1f84c3da",
       "version_major": 2,
       "version_minor": 0
      },
      "text/plain": [
       "  0%|          | 0/9 [00:00<?, ?it/s]"
      ]
     },
     "metadata": {},
     "output_type": "display_data"
    },
    {
     "name": "stderr",
     "output_type": "stream",
     "text": [
      "/dgx1nas1/storage/data/akalinin/miniconda3/envs/map_benchmark/lib/python3.10/site-packages/copairs/compute.py:152: RuntimeWarning: invalid value encountered in divide\n",
      "  ap_scores = np.add.reduceat(pr_k * rel_k_list, cutoffs) / num_pos\n"
     ]
    },
    {
     "data": {
      "application/vnd.jupyter.widget-view+json": {
       "model_id": "55ff6619d1de4ca59e56c793760d74ed",
       "version_major": 2,
       "version_minor": 0
      },
      "text/plain": [
       "  0%|          | 0/1 [00:00<?, ?it/s]"
      ]
     },
     "metadata": {},
     "output_type": "display_data"
    },
    {
     "data": {
      "application/vnd.jupyter.widget-view+json": {
       "model_id": "082dab48d8f541a4b5e1e31aa8a6c07f",
       "version_major": 2,
       "version_minor": 0
      },
      "text/plain": [
       "  0%|          | 0/140 [00:00<?, ?it/s]"
      ]
     },
     "metadata": {},
     "output_type": "display_data"
    },
    {
     "data": {
      "application/vnd.jupyter.widget-view+json": {
       "model_id": "0f71bfe7ab8547e6b055e55550b3b544",
       "version_major": 2,
       "version_minor": 0
      },
      "text/plain": [
       "  0%|          | 0/1 [00:00<?, ?it/s]"
      ]
     },
     "metadata": {},
     "output_type": "display_data"
    },
    {
     "data": {
      "application/vnd.jupyter.widget-view+json": {
       "model_id": "93d0e39819b04556801e3773a4ace0df",
       "version_major": 2,
       "version_minor": 0
      },
      "text/plain": [
       "  0%|          | 0/8 [00:00<?, ?it/s]"
      ]
     },
     "metadata": {},
     "output_type": "display_data"
    },
    {
     "name": "stderr",
     "output_type": "stream",
     "text": [
      "/dgx1nas1/storage/data/akalinin/miniconda3/envs/map_benchmark/lib/python3.10/site-packages/copairs/compute.py:152: RuntimeWarning: invalid value encountered in divide\n",
      "  ap_scores = np.add.reduceat(pr_k * rel_k_list, cutoffs) / num_pos\n"
     ]
    },
    {
     "data": {
      "application/vnd.jupyter.widget-view+json": {
       "model_id": "a710f7c21caa42b3a8ec70f64ef396fc",
       "version_major": 2,
       "version_minor": 0
      },
      "text/plain": [
       "  0%|          | 0/1 [00:00<?, ?it/s]"
      ]
     },
     "metadata": {},
     "output_type": "display_data"
    },
    {
     "data": {
      "application/vnd.jupyter.widget-view+json": {
       "model_id": "536d0a13632c4753992abdb61df17e95",
       "version_major": 2,
       "version_minor": 0
      },
      "text/plain": [
       "  0%|          | 0/118 [00:00<?, ?it/s]"
      ]
     },
     "metadata": {},
     "output_type": "display_data"
    },
    {
     "name": "stdout",
     "output_type": "stream",
     "text": [
      "Now analyzing EIF2S1...\n"
     ]
    },
    {
     "data": {
      "application/vnd.jupyter.widget-view+json": {
       "model_id": "978bdfc6a5664e7bbcd60df48737577b",
       "version_major": 2,
       "version_minor": 0
      },
      "text/plain": [
       "  0%|          | 0/1 [00:00<?, ?it/s]"
      ]
     },
     "metadata": {},
     "output_type": "display_data"
    },
    {
     "data": {
      "application/vnd.jupyter.widget-view+json": {
       "model_id": "f7be790e8ab74c259afab7a0265b85bc",
       "version_major": 2,
       "version_minor": 0
      },
      "text/plain": [
       "  0%|          | 0/9 [00:00<?, ?it/s]"
      ]
     },
     "metadata": {},
     "output_type": "display_data"
    },
    {
     "name": "stderr",
     "output_type": "stream",
     "text": [
      "/dgx1nas1/storage/data/akalinin/miniconda3/envs/map_benchmark/lib/python3.10/site-packages/copairs/compute.py:152: RuntimeWarning: invalid value encountered in divide\n",
      "  ap_scores = np.add.reduceat(pr_k * rel_k_list, cutoffs) / num_pos\n"
     ]
    },
    {
     "data": {
      "application/vnd.jupyter.widget-view+json": {
       "model_id": "b25ea4694b5143fb889d505bda2f6974",
       "version_major": 2,
       "version_minor": 0
      },
      "text/plain": [
       "  0%|          | 0/1 [00:00<?, ?it/s]"
      ]
     },
     "metadata": {},
     "output_type": "display_data"
    },
    {
     "data": {
      "application/vnd.jupyter.widget-view+json": {
       "model_id": "fcc4c7bf02934c6b827e0e2f29ec38bf",
       "version_major": 2,
       "version_minor": 0
      },
      "text/plain": [
       "  0%|          | 0/144 [00:00<?, ?it/s]"
      ]
     },
     "metadata": {},
     "output_type": "display_data"
    },
    {
     "data": {
      "application/vnd.jupyter.widget-view+json": {
       "model_id": "f6d0c7d3136a4620a1ea2b7d3f52bad9",
       "version_major": 2,
       "version_minor": 0
      },
      "text/plain": [
       "  0%|          | 0/1 [00:00<?, ?it/s]"
      ]
     },
     "metadata": {},
     "output_type": "display_data"
    },
    {
     "data": {
      "application/vnd.jupyter.widget-view+json": {
       "model_id": "1b47b285b27648bd90a9c74d6d8f5804",
       "version_major": 2,
       "version_minor": 0
      },
      "text/plain": [
       "  0%|          | 0/9 [00:00<?, ?it/s]"
      ]
     },
     "metadata": {},
     "output_type": "display_data"
    },
    {
     "name": "stderr",
     "output_type": "stream",
     "text": [
      "/dgx1nas1/storage/data/akalinin/miniconda3/envs/map_benchmark/lib/python3.10/site-packages/copairs/compute.py:152: RuntimeWarning: invalid value encountered in divide\n",
      "  ap_scores = np.add.reduceat(pr_k * rel_k_list, cutoffs) / num_pos\n"
     ]
    },
    {
     "data": {
      "application/vnd.jupyter.widget-view+json": {
       "model_id": "2dbf5612e79e437fb3ec06ee8ff51d7c",
       "version_major": 2,
       "version_minor": 0
      },
      "text/plain": [
       "  0%|          | 0/1 [00:00<?, ?it/s]"
      ]
     },
     "metadata": {},
     "output_type": "display_data"
    },
    {
     "data": {
      "application/vnd.jupyter.widget-view+json": {
       "model_id": "463b5b67adb344628d59cefe6007ce16",
       "version_major": 2,
       "version_minor": 0
      },
      "text/plain": [
       "  0%|          | 0/144 [00:00<?, ?it/s]"
      ]
     },
     "metadata": {},
     "output_type": "display_data"
    },
    {
     "data": {
      "application/vnd.jupyter.widget-view+json": {
       "model_id": "c8b2103789e04440be171fbb874b3a7a",
       "version_major": 2,
       "version_minor": 0
      },
      "text/plain": [
       "  0%|          | 0/1 [00:00<?, ?it/s]"
      ]
     },
     "metadata": {},
     "output_type": "display_data"
    },
    {
     "data": {
      "application/vnd.jupyter.widget-view+json": {
       "model_id": "af8388536af442b99f563cdae144db86",
       "version_major": 2,
       "version_minor": 0
      },
      "text/plain": [
       "  0%|          | 0/8 [00:00<?, ?it/s]"
      ]
     },
     "metadata": {},
     "output_type": "display_data"
    },
    {
     "name": "stderr",
     "output_type": "stream",
     "text": [
      "/dgx1nas1/storage/data/akalinin/miniconda3/envs/map_benchmark/lib/python3.10/site-packages/copairs/compute.py:152: RuntimeWarning: invalid value encountered in divide\n",
      "  ap_scores = np.add.reduceat(pr_k * rel_k_list, cutoffs) / num_pos\n"
     ]
    },
    {
     "data": {
      "application/vnd.jupyter.widget-view+json": {
       "model_id": "62bddf09cb5045f78e29e59cc72b108a",
       "version_major": 2,
       "version_minor": 0
      },
      "text/plain": [
       "  0%|          | 0/1 [00:00<?, ?it/s]"
      ]
     },
     "metadata": {},
     "output_type": "display_data"
    },
    {
     "data": {
      "application/vnd.jupyter.widget-view+json": {
       "model_id": "8f2dace20e314422a8e2c351e0066493",
       "version_major": 2,
       "version_minor": 0
      },
      "text/plain": [
       "  0%|          | 0/105 [00:00<?, ?it/s]"
      ]
     },
     "metadata": {},
     "output_type": "display_data"
    },
    {
     "data": {
      "application/vnd.jupyter.widget-view+json": {
       "model_id": "b439802a1a3f4c18a3cf7d7401f599e4",
       "version_major": 2,
       "version_minor": 0
      },
      "text/plain": [
       "  0%|          | 0/1 [00:00<?, ?it/s]"
      ]
     },
     "metadata": {},
     "output_type": "display_data"
    },
    {
     "data": {
      "application/vnd.jupyter.widget-view+json": {
       "model_id": "02a729f617fd4047812b0bd430057cf3",
       "version_major": 2,
       "version_minor": 0
      },
      "text/plain": [
       "  0%|          | 0/8 [00:00<?, ?it/s]"
      ]
     },
     "metadata": {},
     "output_type": "display_data"
    },
    {
     "name": "stderr",
     "output_type": "stream",
     "text": [
      "/dgx1nas1/storage/data/akalinin/miniconda3/envs/map_benchmark/lib/python3.10/site-packages/copairs/compute.py:152: RuntimeWarning: invalid value encountered in divide\n",
      "  ap_scores = np.add.reduceat(pr_k * rel_k_list, cutoffs) / num_pos\n"
     ]
    },
    {
     "data": {
      "application/vnd.jupyter.widget-view+json": {
       "model_id": "cfe1d64e1d4c4bb8bfdde128cd51c74f",
       "version_major": 2,
       "version_minor": 0
      },
      "text/plain": [
       "  0%|          | 0/1 [00:00<?, ?it/s]"
      ]
     },
     "metadata": {},
     "output_type": "display_data"
    },
    {
     "data": {
      "application/vnd.jupyter.widget-view+json": {
       "model_id": "b16142f9d23e4b02b34b12175b34f8a1",
       "version_major": 2,
       "version_minor": 0
      },
      "text/plain": [
       "  0%|          | 0/86 [00:00<?, ?it/s]"
      ]
     },
     "metadata": {},
     "output_type": "display_data"
    },
    {
     "data": {
      "application/vnd.jupyter.widget-view+json": {
       "model_id": "4f08cbe5ae134e9c8ee25df78592fc8d",
       "version_major": 2,
       "version_minor": 0
      },
      "text/plain": [
       "  0%|          | 0/1 [00:00<?, ?it/s]"
      ]
     },
     "metadata": {},
     "output_type": "display_data"
    },
    {
     "data": {
      "application/vnd.jupyter.widget-view+json": {
       "model_id": "b28a79b6a6f24955ab8ade22e4e4717e",
       "version_major": 2,
       "version_minor": 0
      },
      "text/plain": [
       "  0%|          | 0/8 [00:00<?, ?it/s]"
      ]
     },
     "metadata": {},
     "output_type": "display_data"
    },
    {
     "name": "stderr",
     "output_type": "stream",
     "text": [
      "/dgx1nas1/storage/data/akalinin/miniconda3/envs/map_benchmark/lib/python3.10/site-packages/copairs/compute.py:152: RuntimeWarning: invalid value encountered in divide\n",
      "  ap_scores = np.add.reduceat(pr_k * rel_k_list, cutoffs) / num_pos\n"
     ]
    },
    {
     "data": {
      "application/vnd.jupyter.widget-view+json": {
       "model_id": "225a4ebb76e74c1a9daa5c184ff4b525",
       "version_major": 2,
       "version_minor": 0
      },
      "text/plain": [
       "  0%|          | 0/1 [00:00<?, ?it/s]"
      ]
     },
     "metadata": {},
     "output_type": "display_data"
    },
    {
     "data": {
      "application/vnd.jupyter.widget-view+json": {
       "model_id": "11e51e48cea745c8b9648bb09aa68b7a",
       "version_major": 2,
       "version_minor": 0
      },
      "text/plain": [
       "  0%|          | 0/122 [00:00<?, ?it/s]"
      ]
     },
     "metadata": {},
     "output_type": "display_data"
    },
    {
     "name": "stdout",
     "output_type": "stream",
     "text": [
      "Now analyzing DBR1...\n"
     ]
    },
    {
     "data": {
      "application/vnd.jupyter.widget-view+json": {
       "model_id": "d58512e88a1c4fa18f883153bd3deadb",
       "version_major": 2,
       "version_minor": 0
      },
      "text/plain": [
       "  0%|          | 0/4 [00:00<?, ?it/s]"
      ]
     },
     "metadata": {},
     "output_type": "display_data"
    },
    {
     "data": {
      "application/vnd.jupyter.widget-view+json": {
       "model_id": "d6ada9b2629d4eedba35f731197d8554",
       "version_major": 2,
       "version_minor": 0
      },
      "text/plain": [
       "  0%|          | 0/14 [00:00<?, ?it/s]"
      ]
     },
     "metadata": {},
     "output_type": "display_data"
    },
    {
     "name": "stderr",
     "output_type": "stream",
     "text": [
      "/dgx1nas1/storage/data/akalinin/miniconda3/envs/map_benchmark/lib/python3.10/site-packages/copairs/compute.py:152: RuntimeWarning: invalid value encountered in divide\n",
      "  ap_scores = np.add.reduceat(pr_k * rel_k_list, cutoffs) / num_pos\n"
     ]
    },
    {
     "data": {
      "application/vnd.jupyter.widget-view+json": {
       "model_id": "c1c7206d0f094952a1943b5edc2dad3a",
       "version_major": 2,
       "version_minor": 0
      },
      "text/plain": [
       "  0%|          | 0/1 [00:00<?, ?it/s]"
      ]
     },
     "metadata": {},
     "output_type": "display_data"
    },
    {
     "data": {
      "application/vnd.jupyter.widget-view+json": {
       "model_id": "9735da0ee8e945958bed1d619cb34ac7",
       "version_major": 2,
       "version_minor": 0
      },
      "text/plain": [
       "  0%|          | 0/353 [00:00<?, ?it/s]"
      ]
     },
     "metadata": {},
     "output_type": "display_data"
    },
    {
     "data": {
      "application/vnd.jupyter.widget-view+json": {
       "model_id": "df9f272870ac4d20b8bdde012803de26",
       "version_major": 2,
       "version_minor": 0
      },
      "text/plain": [
       "  0%|          | 0/1 [00:00<?, ?it/s]"
      ]
     },
     "metadata": {},
     "output_type": "display_data"
    },
    {
     "data": {
      "application/vnd.jupyter.widget-view+json": {
       "model_id": "9a46c3689c16418e91ae1c77acdae334",
       "version_major": 2,
       "version_minor": 0
      },
      "text/plain": [
       "  0%|          | 0/10 [00:00<?, ?it/s]"
      ]
     },
     "metadata": {},
     "output_type": "display_data"
    },
    {
     "name": "stderr",
     "output_type": "stream",
     "text": [
      "/dgx1nas1/storage/data/akalinin/miniconda3/envs/map_benchmark/lib/python3.10/site-packages/copairs/compute.py:152: RuntimeWarning: invalid value encountered in divide\n",
      "  ap_scores = np.add.reduceat(pr_k * rel_k_list, cutoffs) / num_pos\n"
     ]
    },
    {
     "data": {
      "application/vnd.jupyter.widget-view+json": {
       "model_id": "2a046e711fa042a88d9d092f46aab03d",
       "version_major": 2,
       "version_minor": 0
      },
      "text/plain": [
       "  0%|          | 0/1 [00:00<?, ?it/s]"
      ]
     },
     "metadata": {},
     "output_type": "display_data"
    },
    {
     "data": {
      "application/vnd.jupyter.widget-view+json": {
       "model_id": "d5d25f017bec4321ac162920ccad35d8",
       "version_major": 2,
       "version_minor": 0
      },
      "text/plain": [
       "  0%|          | 0/182 [00:00<?, ?it/s]"
      ]
     },
     "metadata": {},
     "output_type": "display_data"
    },
    {
     "data": {
      "application/vnd.jupyter.widget-view+json": {
       "model_id": "dcfb309562fc4e7581a5636bf2b1a808",
       "version_major": 2,
       "version_minor": 0
      },
      "text/plain": [
       "  0%|          | 0/2 [00:00<?, ?it/s]"
      ]
     },
     "metadata": {},
     "output_type": "display_data"
    },
    {
     "data": {
      "application/vnd.jupyter.widget-view+json": {
       "model_id": "7c7cc1f1a7294e86891576174480a5d7",
       "version_major": 2,
       "version_minor": 0
      },
      "text/plain": [
       "  0%|          | 0/11 [00:00<?, ?it/s]"
      ]
     },
     "metadata": {},
     "output_type": "display_data"
    },
    {
     "name": "stderr",
     "output_type": "stream",
     "text": [
      "/dgx1nas1/storage/data/akalinin/miniconda3/envs/map_benchmark/lib/python3.10/site-packages/copairs/compute.py:152: RuntimeWarning: invalid value encountered in divide\n",
      "  ap_scores = np.add.reduceat(pr_k * rel_k_list, cutoffs) / num_pos\n"
     ]
    },
    {
     "data": {
      "application/vnd.jupyter.widget-view+json": {
       "model_id": "9d1dc2534c21458ca0a228b350eb58b6",
       "version_major": 2,
       "version_minor": 0
      },
      "text/plain": [
       "  0%|          | 0/1 [00:00<?, ?it/s]"
      ]
     },
     "metadata": {},
     "output_type": "display_data"
    },
    {
     "data": {
      "application/vnd.jupyter.widget-view+json": {
       "model_id": "9ae2019bbb764a50baec32d32625ea12",
       "version_major": 2,
       "version_minor": 0
      },
      "text/plain": [
       "  0%|          | 0/231 [00:00<?, ?it/s]"
      ]
     },
     "metadata": {},
     "output_type": "display_data"
    },
    {
     "data": {
      "application/vnd.jupyter.widget-view+json": {
       "model_id": "4160f916cc5c4df6bb3794565ecde7d4",
       "version_major": 2,
       "version_minor": 0
      },
      "text/plain": [
       "  0%|          | 0/1 [00:00<?, ?it/s]"
      ]
     },
     "metadata": {},
     "output_type": "display_data"
    },
    {
     "data": {
      "application/vnd.jupyter.widget-view+json": {
       "model_id": "5170213eddc446d7a1eaad255ee5acce",
       "version_major": 2,
       "version_minor": 0
      },
      "text/plain": [
       "  0%|          | 0/8 [00:00<?, ?it/s]"
      ]
     },
     "metadata": {},
     "output_type": "display_data"
    },
    {
     "name": "stderr",
     "output_type": "stream",
     "text": [
      "/dgx1nas1/storage/data/akalinin/miniconda3/envs/map_benchmark/lib/python3.10/site-packages/copairs/compute.py:152: RuntimeWarning: invalid value encountered in divide\n",
      "  ap_scores = np.add.reduceat(pr_k * rel_k_list, cutoffs) / num_pos\n"
     ]
    },
    {
     "data": {
      "application/vnd.jupyter.widget-view+json": {
       "model_id": "cf4e91320b3f4017b124ee7e57bbad2f",
       "version_major": 2,
       "version_minor": 0
      },
      "text/plain": [
       "  0%|          | 0/1 [00:00<?, ?it/s]"
      ]
     },
     "metadata": {},
     "output_type": "display_data"
    },
    {
     "data": {
      "application/vnd.jupyter.widget-view+json": {
       "model_id": "b19ebd896fd340c882a6da40d388c434",
       "version_major": 2,
       "version_minor": 0
      },
      "text/plain": [
       "  0%|          | 0/121 [00:00<?, ?it/s]"
      ]
     },
     "metadata": {},
     "output_type": "display_data"
    },
    {
     "data": {
      "application/vnd.jupyter.widget-view+json": {
       "model_id": "b02df72aff624a919d9e8b60309b48a9",
       "version_major": 2,
       "version_minor": 0
      },
      "text/plain": [
       "  0%|          | 0/1 [00:00<?, ?it/s]"
      ]
     },
     "metadata": {},
     "output_type": "display_data"
    },
    {
     "data": {
      "application/vnd.jupyter.widget-view+json": {
       "model_id": "403adfe66c3845c0b19d1f7e31abde3e",
       "version_major": 2,
       "version_minor": 0
      },
      "text/plain": [
       "  0%|          | 0/9 [00:00<?, ?it/s]"
      ]
     },
     "metadata": {},
     "output_type": "display_data"
    },
    {
     "name": "stderr",
     "output_type": "stream",
     "text": [
      "/dgx1nas1/storage/data/akalinin/miniconda3/envs/map_benchmark/lib/python3.10/site-packages/copairs/compute.py:152: RuntimeWarning: invalid value encountered in divide\n",
      "  ap_scores = np.add.reduceat(pr_k * rel_k_list, cutoffs) / num_pos\n"
     ]
    },
    {
     "data": {
      "application/vnd.jupyter.widget-view+json": {
       "model_id": "a4fda097741a4463aac811c89ed76941",
       "version_major": 2,
       "version_minor": 0
      },
      "text/plain": [
       "  0%|          | 0/1 [00:00<?, ?it/s]"
      ]
     },
     "metadata": {},
     "output_type": "display_data"
    },
    {
     "data": {
      "application/vnd.jupyter.widget-view+json": {
       "model_id": "a37a997a322c4ce885967d60cb6a95f8",
       "version_major": 2,
       "version_minor": 0
      },
      "text/plain": [
       "  0%|          | 0/170 [00:00<?, ?it/s]"
      ]
     },
     "metadata": {},
     "output_type": "display_data"
    },
    {
     "name": "stdout",
     "output_type": "stream",
     "text": [
      "Now analyzing CAD...\n"
     ]
    },
    {
     "data": {
      "application/vnd.jupyter.widget-view+json": {
       "model_id": "3af2d3c71f9d4d179b82d3bcc76ddaad",
       "version_major": 2,
       "version_minor": 0
      },
      "text/plain": [
       "  0%|          | 0/1 [00:00<?, ?it/s]"
      ]
     },
     "metadata": {},
     "output_type": "display_data"
    },
    {
     "data": {
      "application/vnd.jupyter.widget-view+json": {
       "model_id": "1670eedd0e154f4998b29baae35d59fb",
       "version_major": 2,
       "version_minor": 0
      },
      "text/plain": [
       "  0%|          | 0/8 [00:00<?, ?it/s]"
      ]
     },
     "metadata": {},
     "output_type": "display_data"
    },
    {
     "name": "stderr",
     "output_type": "stream",
     "text": [
      "/dgx1nas1/storage/data/akalinin/miniconda3/envs/map_benchmark/lib/python3.10/site-packages/copairs/compute.py:152: RuntimeWarning: invalid value encountered in divide\n",
      "  ap_scores = np.add.reduceat(pr_k * rel_k_list, cutoffs) / num_pos\n"
     ]
    },
    {
     "data": {
      "application/vnd.jupyter.widget-view+json": {
       "model_id": "29d983fe227b4609a006ba7322c4fc4e",
       "version_major": 2,
       "version_minor": 0
      },
      "text/plain": [
       "  0%|          | 0/1 [00:00<?, ?it/s]"
      ]
     },
     "metadata": {},
     "output_type": "display_data"
    },
    {
     "data": {
      "application/vnd.jupyter.widget-view+json": {
       "model_id": "0c27b107dc2d4c5d8942dd1269c63ee8",
       "version_major": 2,
       "version_minor": 0
      },
      "text/plain": [
       "  0%|          | 0/125 [00:00<?, ?it/s]"
      ]
     },
     "metadata": {},
     "output_type": "display_data"
    },
    {
     "data": {
      "application/vnd.jupyter.widget-view+json": {
       "model_id": "89e80066c3db42f5a27e33856d085fe0",
       "version_major": 2,
       "version_minor": 0
      },
      "text/plain": [
       "  0%|          | 0/1 [00:00<?, ?it/s]"
      ]
     },
     "metadata": {},
     "output_type": "display_data"
    },
    {
     "data": {
      "application/vnd.jupyter.widget-view+json": {
       "model_id": "8e5ee1b98d114e648c7e3b25341c5656",
       "version_major": 2,
       "version_minor": 0
      },
      "text/plain": [
       "  0%|          | 0/9 [00:00<?, ?it/s]"
      ]
     },
     "metadata": {},
     "output_type": "display_data"
    },
    {
     "name": "stderr",
     "output_type": "stream",
     "text": [
      "/dgx1nas1/storage/data/akalinin/miniconda3/envs/map_benchmark/lib/python3.10/site-packages/copairs/compute.py:152: RuntimeWarning: invalid value encountered in divide\n",
      "  ap_scores = np.add.reduceat(pr_k * rel_k_list, cutoffs) / num_pos\n"
     ]
    },
    {
     "data": {
      "application/vnd.jupyter.widget-view+json": {
       "model_id": "59da9799cfc24dd0bdaaa4b641a62d6f",
       "version_major": 2,
       "version_minor": 0
      },
      "text/plain": [
       "  0%|          | 0/1 [00:00<?, ?it/s]"
      ]
     },
     "metadata": {},
     "output_type": "display_data"
    },
    {
     "data": {
      "application/vnd.jupyter.widget-view+json": {
       "model_id": "4bf67e6366894177a9d26846f00fce39",
       "version_major": 2,
       "version_minor": 0
      },
      "text/plain": [
       "  0%|          | 0/133 [00:00<?, ?it/s]"
      ]
     },
     "metadata": {},
     "output_type": "display_data"
    },
    {
     "data": {
      "application/vnd.jupyter.widget-view+json": {
       "model_id": "9cd71acc40fb404293c8b063890042a1",
       "version_major": 2,
       "version_minor": 0
      },
      "text/plain": [
       "  0%|          | 0/2 [00:00<?, ?it/s]"
      ]
     },
     "metadata": {},
     "output_type": "display_data"
    },
    {
     "data": {
      "application/vnd.jupyter.widget-view+json": {
       "model_id": "5d6a39d54b904eacbef29ccafb104cd4",
       "version_major": 2,
       "version_minor": 0
      },
      "text/plain": [
       "  0%|          | 0/11 [00:00<?, ?it/s]"
      ]
     },
     "metadata": {},
     "output_type": "display_data"
    },
    {
     "name": "stderr",
     "output_type": "stream",
     "text": [
      "/dgx1nas1/storage/data/akalinin/miniconda3/envs/map_benchmark/lib/python3.10/site-packages/copairs/compute.py:152: RuntimeWarning: invalid value encountered in divide\n",
      "  ap_scores = np.add.reduceat(pr_k * rel_k_list, cutoffs) / num_pos\n"
     ]
    },
    {
     "data": {
      "application/vnd.jupyter.widget-view+json": {
       "model_id": "f7835ad5fed64690b119c69e8757f07d",
       "version_major": 2,
       "version_minor": 0
      },
      "text/plain": [
       "  0%|          | 0/1 [00:00<?, ?it/s]"
      ]
     },
     "metadata": {},
     "output_type": "display_data"
    },
    {
     "data": {
      "application/vnd.jupyter.widget-view+json": {
       "model_id": "add3ea6c73b54a0ead9ca7c3b598c3a9",
       "version_major": 2,
       "version_minor": 0
      },
      "text/plain": [
       "  0%|          | 0/227 [00:00<?, ?it/s]"
      ]
     },
     "metadata": {},
     "output_type": "display_data"
    },
    {
     "data": {
      "application/vnd.jupyter.widget-view+json": {
       "model_id": "675d2a8df298446187e976d813065963",
       "version_major": 2,
       "version_minor": 0
      },
      "text/plain": [
       "  0%|          | 0/2 [00:00<?, ?it/s]"
      ]
     },
     "metadata": {},
     "output_type": "display_data"
    },
    {
     "data": {
      "application/vnd.jupyter.widget-view+json": {
       "model_id": "e3dde1d34cdd4f04b9850a486007aa53",
       "version_major": 2,
       "version_minor": 0
      },
      "text/plain": [
       "  0%|          | 0/11 [00:00<?, ?it/s]"
      ]
     },
     "metadata": {},
     "output_type": "display_data"
    },
    {
     "name": "stderr",
     "output_type": "stream",
     "text": [
      "/dgx1nas1/storage/data/akalinin/miniconda3/envs/map_benchmark/lib/python3.10/site-packages/copairs/compute.py:152: RuntimeWarning: invalid value encountered in divide\n",
      "  ap_scores = np.add.reduceat(pr_k * rel_k_list, cutoffs) / num_pos\n"
     ]
    },
    {
     "data": {
      "application/vnd.jupyter.widget-view+json": {
       "model_id": "5dbc090affc84b93adf71d0cca123d00",
       "version_major": 2,
       "version_minor": 0
      },
      "text/plain": [
       "  0%|          | 0/1 [00:00<?, ?it/s]"
      ]
     },
     "metadata": {},
     "output_type": "display_data"
    },
    {
     "data": {
      "application/vnd.jupyter.widget-view+json": {
       "model_id": "f12a2d72adb64c8ca74dd1741107e0e6",
       "version_major": 2,
       "version_minor": 0
      },
      "text/plain": [
       "  0%|          | 0/244 [00:00<?, ?it/s]"
      ]
     },
     "metadata": {},
     "output_type": "display_data"
    },
    {
     "data": {
      "application/vnd.jupyter.widget-view+json": {
       "model_id": "57164144a04045a6a1d8864c2bc733e8",
       "version_major": 2,
       "version_minor": 0
      },
      "text/plain": [
       "  0%|          | 0/1 [00:00<?, ?it/s]"
      ]
     },
     "metadata": {},
     "output_type": "display_data"
    },
    {
     "data": {
      "application/vnd.jupyter.widget-view+json": {
       "model_id": "60a7f74fef37453da6116216c8bc499f",
       "version_major": 2,
       "version_minor": 0
      },
      "text/plain": [
       "  0%|          | 0/8 [00:00<?, ?it/s]"
      ]
     },
     "metadata": {},
     "output_type": "display_data"
    },
    {
     "name": "stderr",
     "output_type": "stream",
     "text": [
      "/dgx1nas1/storage/data/akalinin/miniconda3/envs/map_benchmark/lib/python3.10/site-packages/copairs/compute.py:152: RuntimeWarning: invalid value encountered in divide\n",
      "  ap_scores = np.add.reduceat(pr_k * rel_k_list, cutoffs) / num_pos\n"
     ]
    },
    {
     "data": {
      "application/vnd.jupyter.widget-view+json": {
       "model_id": "13b9bcaf1a98435c8025fbd419cbbf6a",
       "version_major": 2,
       "version_minor": 0
      },
      "text/plain": [
       "  0%|          | 0/1 [00:00<?, ?it/s]"
      ]
     },
     "metadata": {},
     "output_type": "display_data"
    },
    {
     "data": {
      "application/vnd.jupyter.widget-view+json": {
       "model_id": "162e82ba01284704ac00ae80f92c20e4",
       "version_major": 2,
       "version_minor": 0
      },
      "text/plain": [
       "  0%|          | 0/114 [00:00<?, ?it/s]"
      ]
     },
     "metadata": {},
     "output_type": "display_data"
    },
    {
     "name": "stdout",
     "output_type": "stream",
     "text": [
      "Now analyzing SEC61A1...\n"
     ]
    },
    {
     "data": {
      "application/vnd.jupyter.widget-view+json": {
       "model_id": "67337444af9c4bb4806430776131c542",
       "version_major": 2,
       "version_minor": 0
      },
      "text/plain": [
       "  0%|          | 0/1 [00:00<?, ?it/s]"
      ]
     },
     "metadata": {},
     "output_type": "display_data"
    },
    {
     "data": {
      "application/vnd.jupyter.widget-view+json": {
       "model_id": "7490450ada3d4b1d89efb47696260993",
       "version_major": 2,
       "version_minor": 0
      },
      "text/plain": [
       "  0%|          | 0/8 [00:00<?, ?it/s]"
      ]
     },
     "metadata": {},
     "output_type": "display_data"
    },
    {
     "name": "stderr",
     "output_type": "stream",
     "text": [
      "/dgx1nas1/storage/data/akalinin/miniconda3/envs/map_benchmark/lib/python3.10/site-packages/copairs/compute.py:152: RuntimeWarning: invalid value encountered in divide\n",
      "  ap_scores = np.add.reduceat(pr_k * rel_k_list, cutoffs) / num_pos\n"
     ]
    },
    {
     "data": {
      "application/vnd.jupyter.widget-view+json": {
       "model_id": "6c3aa6fe294f4fbf92fb539b8147d651",
       "version_major": 2,
       "version_minor": 0
      },
      "text/plain": [
       "  0%|          | 0/1 [00:00<?, ?it/s]"
      ]
     },
     "metadata": {},
     "output_type": "display_data"
    },
    {
     "data": {
      "application/vnd.jupyter.widget-view+json": {
       "model_id": "1f80f6145b344994a88f88bb75dd593a",
       "version_major": 2,
       "version_minor": 0
      },
      "text/plain": [
       "  0%|          | 0/111 [00:00<?, ?it/s]"
      ]
     },
     "metadata": {},
     "output_type": "display_data"
    },
    {
     "data": {
      "application/vnd.jupyter.widget-view+json": {
       "model_id": "9498c3cd734b4ccf810c29eb501dfac9",
       "version_major": 2,
       "version_minor": 0
      },
      "text/plain": [
       "  0%|          | 0/1 [00:00<?, ?it/s]"
      ]
     },
     "metadata": {},
     "output_type": "display_data"
    },
    {
     "data": {
      "application/vnd.jupyter.widget-view+json": {
       "model_id": "cd6b5da67f6945dc81fc044422d2cdbe",
       "version_major": 2,
       "version_minor": 0
      },
      "text/plain": [
       "  0%|          | 0/8 [00:00<?, ?it/s]"
      ]
     },
     "metadata": {},
     "output_type": "display_data"
    },
    {
     "name": "stderr",
     "output_type": "stream",
     "text": [
      "/dgx1nas1/storage/data/akalinin/miniconda3/envs/map_benchmark/lib/python3.10/site-packages/copairs/compute.py:152: RuntimeWarning: invalid value encountered in divide\n",
      "  ap_scores = np.add.reduceat(pr_k * rel_k_list, cutoffs) / num_pos\n"
     ]
    },
    {
     "data": {
      "application/vnd.jupyter.widget-view+json": {
       "model_id": "727fe0a8adee45d1bfcd06c7b2392863",
       "version_major": 2,
       "version_minor": 0
      },
      "text/plain": [
       "  0%|          | 0/1 [00:00<?, ?it/s]"
      ]
     },
     "metadata": {},
     "output_type": "display_data"
    },
    {
     "data": {
      "application/vnd.jupyter.widget-view+json": {
       "model_id": "c343a35313a847d7864fcc7ca03bce51",
       "version_major": 2,
       "version_minor": 0
      },
      "text/plain": [
       "  0%|          | 0/121 [00:00<?, ?it/s]"
      ]
     },
     "metadata": {},
     "output_type": "display_data"
    },
    {
     "data": {
      "application/vnd.jupyter.widget-view+json": {
       "model_id": "f9959fd3e886410db7faaa4242e094ec",
       "version_major": 2,
       "version_minor": 0
      },
      "text/plain": [
       "  0%|          | 0/1 [00:00<?, ?it/s]"
      ]
     },
     "metadata": {},
     "output_type": "display_data"
    },
    {
     "data": {
      "application/vnd.jupyter.widget-view+json": {
       "model_id": "bd3d8afeeab24e64bba83b505e78b979",
       "version_major": 2,
       "version_minor": 0
      },
      "text/plain": [
       "  0%|          | 0/9 [00:00<?, ?it/s]"
      ]
     },
     "metadata": {},
     "output_type": "display_data"
    },
    {
     "name": "stderr",
     "output_type": "stream",
     "text": [
      "/dgx1nas1/storage/data/akalinin/miniconda3/envs/map_benchmark/lib/python3.10/site-packages/copairs/compute.py:152: RuntimeWarning: invalid value encountered in divide\n",
      "  ap_scores = np.add.reduceat(pr_k * rel_k_list, cutoffs) / num_pos\n"
     ]
    },
    {
     "data": {
      "application/vnd.jupyter.widget-view+json": {
       "model_id": "1d069f9155a74138928553da6a7e93c6",
       "version_major": 2,
       "version_minor": 0
      },
      "text/plain": [
       "  0%|          | 0/1 [00:00<?, ?it/s]"
      ]
     },
     "metadata": {},
     "output_type": "display_data"
    },
    {
     "data": {
      "application/vnd.jupyter.widget-view+json": {
       "model_id": "ebda2e587ff2430b963320d2f9058564",
       "version_major": 2,
       "version_minor": 0
      },
      "text/plain": [
       "  0%|          | 0/131 [00:00<?, ?it/s]"
      ]
     },
     "metadata": {},
     "output_type": "display_data"
    },
    {
     "data": {
      "application/vnd.jupyter.widget-view+json": {
       "model_id": "6695be9972ef4b73a271af6653a5739e",
       "version_major": 2,
       "version_minor": 0
      },
      "text/plain": [
       "  0%|          | 0/2 [00:00<?, ?it/s]"
      ]
     },
     "metadata": {},
     "output_type": "display_data"
    },
    {
     "data": {
      "application/vnd.jupyter.widget-view+json": {
       "model_id": "205706ac65cc4ad8adec0937ca5730cd",
       "version_major": 2,
       "version_minor": 0
      },
      "text/plain": [
       "  0%|          | 0/11 [00:00<?, ?it/s]"
      ]
     },
     "metadata": {},
     "output_type": "display_data"
    },
    {
     "name": "stderr",
     "output_type": "stream",
     "text": [
      "/dgx1nas1/storage/data/akalinin/miniconda3/envs/map_benchmark/lib/python3.10/site-packages/copairs/compute.py:152: RuntimeWarning: invalid value encountered in divide\n",
      "  ap_scores = np.add.reduceat(pr_k * rel_k_list, cutoffs) / num_pos\n"
     ]
    },
    {
     "data": {
      "application/vnd.jupyter.widget-view+json": {
       "model_id": "943b323cc44f45d6be51c84162b5aa82",
       "version_major": 2,
       "version_minor": 0
      },
      "text/plain": [
       "  0%|          | 0/1 [00:00<?, ?it/s]"
      ]
     },
     "metadata": {},
     "output_type": "display_data"
    },
    {
     "data": {
      "application/vnd.jupyter.widget-view+json": {
       "model_id": "d0bbffe8ec3247f1b354f67a45ff69f1",
       "version_major": 2,
       "version_minor": 0
      },
      "text/plain": [
       "  0%|          | 0/213 [00:00<?, ?it/s]"
      ]
     },
     "metadata": {},
     "output_type": "display_data"
    },
    {
     "data": {
      "application/vnd.jupyter.widget-view+json": {
       "model_id": "427b6fdd86664a2db7b06d83addb044e",
       "version_major": 2,
       "version_minor": 0
      },
      "text/plain": [
       "  0%|          | 0/2 [00:00<?, ?it/s]"
      ]
     },
     "metadata": {},
     "output_type": "display_data"
    },
    {
     "data": {
      "application/vnd.jupyter.widget-view+json": {
       "model_id": "adc576456e7047b2aff03e8ab3c190eb",
       "version_major": 2,
       "version_minor": 0
      },
      "text/plain": [
       "  0%|          | 0/11 [00:00<?, ?it/s]"
      ]
     },
     "metadata": {},
     "output_type": "display_data"
    },
    {
     "name": "stderr",
     "output_type": "stream",
     "text": [
      "/dgx1nas1/storage/data/akalinin/miniconda3/envs/map_benchmark/lib/python3.10/site-packages/copairs/compute.py:152: RuntimeWarning: invalid value encountered in divide\n",
      "  ap_scores = np.add.reduceat(pr_k * rel_k_list, cutoffs) / num_pos\n"
     ]
    },
    {
     "data": {
      "application/vnd.jupyter.widget-view+json": {
       "model_id": "ede16fa6418443e293a4244d90112736",
       "version_major": 2,
       "version_minor": 0
      },
      "text/plain": [
       "  0%|          | 0/1 [00:00<?, ?it/s]"
      ]
     },
     "metadata": {},
     "output_type": "display_data"
    },
    {
     "data": {
      "application/vnd.jupyter.widget-view+json": {
       "model_id": "2dc49c1b9bdc45eb9942d02252243a3a",
       "version_major": 2,
       "version_minor": 0
      },
      "text/plain": [
       "  0%|          | 0/217 [00:00<?, ?it/s]"
      ]
     },
     "metadata": {},
     "output_type": "display_data"
    },
    {
     "name": "stdout",
     "output_type": "stream",
     "text": [
      "Now analyzing RPL9...\n"
     ]
    },
    {
     "data": {
      "application/vnd.jupyter.widget-view+json": {
       "model_id": "ffa56d0c7d484cf6a0c75c7ebf106725",
       "version_major": 2,
       "version_minor": 0
      },
      "text/plain": [
       "  0%|          | 0/1 [00:00<?, ?it/s]"
      ]
     },
     "metadata": {},
     "output_type": "display_data"
    },
    {
     "data": {
      "application/vnd.jupyter.widget-view+json": {
       "model_id": "6556b9ffe5ce4d0c84a8368227dbfa60",
       "version_major": 2,
       "version_minor": 0
      },
      "text/plain": [
       "  0%|          | 0/8 [00:00<?, ?it/s]"
      ]
     },
     "metadata": {},
     "output_type": "display_data"
    },
    {
     "name": "stderr",
     "output_type": "stream",
     "text": [
      "/dgx1nas1/storage/data/akalinin/miniconda3/envs/map_benchmark/lib/python3.10/site-packages/copairs/compute.py:152: RuntimeWarning: invalid value encountered in divide\n",
      "  ap_scores = np.add.reduceat(pr_k * rel_k_list, cutoffs) / num_pos\n"
     ]
    },
    {
     "data": {
      "application/vnd.jupyter.widget-view+json": {
       "model_id": "b6b59792ad9e47858159cad93947ae61",
       "version_major": 2,
       "version_minor": 0
      },
      "text/plain": [
       "  0%|          | 0/1 [00:00<?, ?it/s]"
      ]
     },
     "metadata": {},
     "output_type": "display_data"
    },
    {
     "data": {
      "application/vnd.jupyter.widget-view+json": {
       "model_id": "3a011644cfc74066a0e89ca2f26784c2",
       "version_major": 2,
       "version_minor": 0
      },
      "text/plain": [
       "  0%|          | 0/110 [00:00<?, ?it/s]"
      ]
     },
     "metadata": {},
     "output_type": "display_data"
    },
    {
     "data": {
      "application/vnd.jupyter.widget-view+json": {
       "model_id": "c13d7ecf4b204acfbd975620ac28cbb8",
       "version_major": 2,
       "version_minor": 0
      },
      "text/plain": [
       "  0%|          | 0/1 [00:00<?, ?it/s]"
      ]
     },
     "metadata": {},
     "output_type": "display_data"
    },
    {
     "data": {
      "application/vnd.jupyter.widget-view+json": {
       "model_id": "d5886ea4d313453f88a15d533ae3f471",
       "version_major": 2,
       "version_minor": 0
      },
      "text/plain": [
       "  0%|          | 0/8 [00:00<?, ?it/s]"
      ]
     },
     "metadata": {},
     "output_type": "display_data"
    },
    {
     "name": "stderr",
     "output_type": "stream",
     "text": [
      "/dgx1nas1/storage/data/akalinin/miniconda3/envs/map_benchmark/lib/python3.10/site-packages/copairs/compute.py:152: RuntimeWarning: invalid value encountered in divide\n",
      "  ap_scores = np.add.reduceat(pr_k * rel_k_list, cutoffs) / num_pos\n"
     ]
    },
    {
     "data": {
      "application/vnd.jupyter.widget-view+json": {
       "model_id": "fccfeeaa3fef4ab1b7ea67076bfac012",
       "version_major": 2,
       "version_minor": 0
      },
      "text/plain": [
       "  0%|          | 0/1 [00:00<?, ?it/s]"
      ]
     },
     "metadata": {},
     "output_type": "display_data"
    },
    {
     "data": {
      "application/vnd.jupyter.widget-view+json": {
       "model_id": "0fc03af33bf44627acf3de9793b6e394",
       "version_major": 2,
       "version_minor": 0
      },
      "text/plain": [
       "  0%|          | 0/107 [00:00<?, ?it/s]"
      ]
     },
     "metadata": {},
     "output_type": "display_data"
    },
    {
     "data": {
      "application/vnd.jupyter.widget-view+json": {
       "model_id": "8e815d9392af4f2d923cf53362db38e1",
       "version_major": 2,
       "version_minor": 0
      },
      "text/plain": [
       "  0%|          | 0/1 [00:00<?, ?it/s]"
      ]
     },
     "metadata": {},
     "output_type": "display_data"
    },
    {
     "data": {
      "application/vnd.jupyter.widget-view+json": {
       "model_id": "a254e67825ef482d86dcf1604d2f9a90",
       "version_major": 2,
       "version_minor": 0
      },
      "text/plain": [
       "  0%|          | 0/10 [00:00<?, ?it/s]"
      ]
     },
     "metadata": {},
     "output_type": "display_data"
    },
    {
     "name": "stderr",
     "output_type": "stream",
     "text": [
      "/dgx1nas1/storage/data/akalinin/miniconda3/envs/map_benchmark/lib/python3.10/site-packages/copairs/compute.py:152: RuntimeWarning: invalid value encountered in divide\n",
      "  ap_scores = np.add.reduceat(pr_k * rel_k_list, cutoffs) / num_pos\n"
     ]
    },
    {
     "data": {
      "application/vnd.jupyter.widget-view+json": {
       "model_id": "88d46ebd1a734b0180a16083a450c9cf",
       "version_major": 2,
       "version_minor": 0
      },
      "text/plain": [
       "  0%|          | 0/1 [00:00<?, ?it/s]"
      ]
     },
     "metadata": {},
     "output_type": "display_data"
    },
    {
     "data": {
      "application/vnd.jupyter.widget-view+json": {
       "model_id": "9c2b9c66535a4f12864d4653a226ce12",
       "version_major": 2,
       "version_minor": 0
      },
      "text/plain": [
       "  0%|          | 0/177 [00:00<?, ?it/s]"
      ]
     },
     "metadata": {},
     "output_type": "display_data"
    },
    {
     "data": {
      "application/vnd.jupyter.widget-view+json": {
       "model_id": "608a2703359c440aa8ae207a84cef410",
       "version_major": 2,
       "version_minor": 0
      },
      "text/plain": [
       "  0%|          | 0/1 [00:00<?, ?it/s]"
      ]
     },
     "metadata": {},
     "output_type": "display_data"
    },
    {
     "data": {
      "application/vnd.jupyter.widget-view+json": {
       "model_id": "be9aacfa7fc844d2ba10739ea6cfb0e1",
       "version_major": 2,
       "version_minor": 0
      },
      "text/plain": [
       "  0%|          | 0/8 [00:00<?, ?it/s]"
      ]
     },
     "metadata": {},
     "output_type": "display_data"
    },
    {
     "name": "stderr",
     "output_type": "stream",
     "text": [
      "/dgx1nas1/storage/data/akalinin/miniconda3/envs/map_benchmark/lib/python3.10/site-packages/copairs/compute.py:152: RuntimeWarning: invalid value encountered in divide\n",
      "  ap_scores = np.add.reduceat(pr_k * rel_k_list, cutoffs) / num_pos\n"
     ]
    },
    {
     "data": {
      "application/vnd.jupyter.widget-view+json": {
       "model_id": "d3ec20d39b7f4b1b8074b383292b7794",
       "version_major": 2,
       "version_minor": 0
      },
      "text/plain": [
       "  0%|          | 0/1 [00:00<?, ?it/s]"
      ]
     },
     "metadata": {},
     "output_type": "display_data"
    },
    {
     "data": {
      "application/vnd.jupyter.widget-view+json": {
       "model_id": "e6aef13d5bdc41c4a3159c10e88cd9f7",
       "version_major": 2,
       "version_minor": 0
      },
      "text/plain": [
       "  0%|          | 0/121 [00:00<?, ?it/s]"
      ]
     },
     "metadata": {},
     "output_type": "display_data"
    },
    {
     "data": {
      "application/vnd.jupyter.widget-view+json": {
       "model_id": "dbc4105f2fee4948a3425964c1cf410e",
       "version_major": 2,
       "version_minor": 0
      },
      "text/plain": [
       "  0%|          | 0/1 [00:00<?, ?it/s]"
      ]
     },
     "metadata": {},
     "output_type": "display_data"
    },
    {
     "data": {
      "application/vnd.jupyter.widget-view+json": {
       "model_id": "1ffaefc0484d438eac328fa81719627d",
       "version_major": 2,
       "version_minor": 0
      },
      "text/plain": [
       "  0%|          | 0/7 [00:00<?, ?it/s]"
      ]
     },
     "metadata": {},
     "output_type": "display_data"
    },
    {
     "name": "stderr",
     "output_type": "stream",
     "text": [
      "/dgx1nas1/storage/data/akalinin/miniconda3/envs/map_benchmark/lib/python3.10/site-packages/copairs/compute.py:152: RuntimeWarning: invalid value encountered in divide\n",
      "  ap_scores = np.add.reduceat(pr_k * rel_k_list, cutoffs) / num_pos\n"
     ]
    },
    {
     "data": {
      "application/vnd.jupyter.widget-view+json": {
       "model_id": "7cb88a8400574a8dacf56b3dad1d5f72",
       "version_major": 2,
       "version_minor": 0
      },
      "text/plain": [
       "  0%|          | 0/1 [00:00<?, ?it/s]"
      ]
     },
     "metadata": {},
     "output_type": "display_data"
    },
    {
     "data": {
      "application/vnd.jupyter.widget-view+json": {
       "model_id": "2ef0dfedc439403590b4598e2bd9c270",
       "version_major": 2,
       "version_minor": 0
      },
      "text/plain": [
       "  0%|          | 0/76 [00:00<?, ?it/s]"
      ]
     },
     "metadata": {},
     "output_type": "display_data"
    },
    {
     "name": "stdout",
     "output_type": "stream",
     "text": [
      "Now analyzing HSPA9...\n"
     ]
    },
    {
     "data": {
      "application/vnd.jupyter.widget-view+json": {
       "model_id": "6b9b32fb4c7f48439d6286e6ea26b7b4",
       "version_major": 2,
       "version_minor": 0
      },
      "text/plain": [
       "  0%|          | 0/1 [00:00<?, ?it/s]"
      ]
     },
     "metadata": {},
     "output_type": "display_data"
    },
    {
     "data": {
      "application/vnd.jupyter.widget-view+json": {
       "model_id": "c6621d03b2aa40399616b262e02866eb",
       "version_major": 2,
       "version_minor": 0
      },
      "text/plain": [
       "  0%|          | 0/7 [00:00<?, ?it/s]"
      ]
     },
     "metadata": {},
     "output_type": "display_data"
    },
    {
     "name": "stderr",
     "output_type": "stream",
     "text": [
      "/dgx1nas1/storage/data/akalinin/miniconda3/envs/map_benchmark/lib/python3.10/site-packages/copairs/compute.py:152: RuntimeWarning: invalid value encountered in divide\n",
      "  ap_scores = np.add.reduceat(pr_k * rel_k_list, cutoffs) / num_pos\n"
     ]
    },
    {
     "data": {
      "application/vnd.jupyter.widget-view+json": {
       "model_id": "13dd42c050cb440594a00172848030ff",
       "version_major": 2,
       "version_minor": 0
      },
      "text/plain": [
       "  0%|          | 0/1 [00:00<?, ?it/s]"
      ]
     },
     "metadata": {},
     "output_type": "display_data"
    },
    {
     "data": {
      "application/vnd.jupyter.widget-view+json": {
       "model_id": "6f02a5300b3b448b83b88ad148da9737",
       "version_major": 2,
       "version_minor": 0
      },
      "text/plain": [
       "  0%|          | 0/85 [00:00<?, ?it/s]"
      ]
     },
     "metadata": {},
     "output_type": "display_data"
    },
    {
     "data": {
      "application/vnd.jupyter.widget-view+json": {
       "model_id": "8a97f10b8c0a41ddb0c7d46a402e7d66",
       "version_major": 2,
       "version_minor": 0
      },
      "text/plain": [
       "  0%|          | 0/1 [00:00<?, ?it/s]"
      ]
     },
     "metadata": {},
     "output_type": "display_data"
    },
    {
     "data": {
      "application/vnd.jupyter.widget-view+json": {
       "model_id": "a1262d6ccc2e462bb024db5d047cd108",
       "version_major": 2,
       "version_minor": 0
      },
      "text/plain": [
       "  0%|          | 0/8 [00:00<?, ?it/s]"
      ]
     },
     "metadata": {},
     "output_type": "display_data"
    },
    {
     "name": "stderr",
     "output_type": "stream",
     "text": [
      "/dgx1nas1/storage/data/akalinin/miniconda3/envs/map_benchmark/lib/python3.10/site-packages/copairs/compute.py:152: RuntimeWarning: invalid value encountered in divide\n",
      "  ap_scores = np.add.reduceat(pr_k * rel_k_list, cutoffs) / num_pos\n"
     ]
    },
    {
     "data": {
      "application/vnd.jupyter.widget-view+json": {
       "model_id": "a56c626ef2884b84a79fb7af4319a364",
       "version_major": 2,
       "version_minor": 0
      },
      "text/plain": [
       "  0%|          | 0/1 [00:00<?, ?it/s]"
      ]
     },
     "metadata": {},
     "output_type": "display_data"
    },
    {
     "data": {
      "application/vnd.jupyter.widget-view+json": {
       "model_id": "6493d1b6341e4aec91e346553691059f",
       "version_major": 2,
       "version_minor": 0
      },
      "text/plain": [
       "  0%|          | 0/108 [00:00<?, ?it/s]"
      ]
     },
     "metadata": {},
     "output_type": "display_data"
    },
    {
     "data": {
      "application/vnd.jupyter.widget-view+json": {
       "model_id": "17afdf092b77406e87ae80fbb1d81711",
       "version_major": 2,
       "version_minor": 0
      },
      "text/plain": [
       "  0%|          | 0/1 [00:00<?, ?it/s]"
      ]
     },
     "metadata": {},
     "output_type": "display_data"
    },
    {
     "data": {
      "application/vnd.jupyter.widget-view+json": {
       "model_id": "cd501177b51444b0810c737a71d27de6",
       "version_major": 2,
       "version_minor": 0
      },
      "text/plain": [
       "  0%|          | 0/8 [00:00<?, ?it/s]"
      ]
     },
     "metadata": {},
     "output_type": "display_data"
    },
    {
     "name": "stderr",
     "output_type": "stream",
     "text": [
      "/dgx1nas1/storage/data/akalinin/miniconda3/envs/map_benchmark/lib/python3.10/site-packages/copairs/compute.py:152: RuntimeWarning: invalid value encountered in divide\n",
      "  ap_scores = np.add.reduceat(pr_k * rel_k_list, cutoffs) / num_pos\n"
     ]
    },
    {
     "data": {
      "application/vnd.jupyter.widget-view+json": {
       "model_id": "22bc8778798f4a51a1760dfc51e2f732",
       "version_major": 2,
       "version_minor": 0
      },
      "text/plain": [
       "  0%|          | 0/1 [00:00<?, ?it/s]"
      ]
     },
     "metadata": {},
     "output_type": "display_data"
    },
    {
     "data": {
      "application/vnd.jupyter.widget-view+json": {
       "model_id": "f542f7b02bd64555b51f95780791f12e",
       "version_major": 2,
       "version_minor": 0
      },
      "text/plain": [
       "  0%|          | 0/86 [00:00<?, ?it/s]"
      ]
     },
     "metadata": {},
     "output_type": "display_data"
    },
    {
     "data": {
      "application/vnd.jupyter.widget-view+json": {
       "model_id": "091dfcf18c7c4ff3bbed25511745ce5b",
       "version_major": 2,
       "version_minor": 0
      },
      "text/plain": [
       "  0%|          | 0/1 [00:00<?, ?it/s]"
      ]
     },
     "metadata": {},
     "output_type": "display_data"
    },
    {
     "data": {
      "application/vnd.jupyter.widget-view+json": {
       "model_id": "ec7404e48ace4cdc8c2177c9d019a2bc",
       "version_major": 2,
       "version_minor": 0
      },
      "text/plain": [
       "  0%|          | 0/9 [00:00<?, ?it/s]"
      ]
     },
     "metadata": {},
     "output_type": "display_data"
    },
    {
     "name": "stderr",
     "output_type": "stream",
     "text": [
      "/dgx1nas1/storage/data/akalinin/miniconda3/envs/map_benchmark/lib/python3.10/site-packages/copairs/compute.py:152: RuntimeWarning: invalid value encountered in divide\n",
      "  ap_scores = np.add.reduceat(pr_k * rel_k_list, cutoffs) / num_pos\n"
     ]
    },
    {
     "data": {
      "application/vnd.jupyter.widget-view+json": {
       "model_id": "518db05102de4c968f12be8925bf0b7e",
       "version_major": 2,
       "version_minor": 0
      },
      "text/plain": [
       "  0%|          | 0/1 [00:00<?, ?it/s]"
      ]
     },
     "metadata": {},
     "output_type": "display_data"
    },
    {
     "data": {
      "application/vnd.jupyter.widget-view+json": {
       "model_id": "7fed4b4516864373a9917be5d7e7ee48",
       "version_major": 2,
       "version_minor": 0
      },
      "text/plain": [
       "  0%|          | 0/167 [00:00<?, ?it/s]"
      ]
     },
     "metadata": {},
     "output_type": "display_data"
    },
    {
     "data": {
      "application/vnd.jupyter.widget-view+json": {
       "model_id": "b5390a25620d4e6bbdec147f0c3676c3",
       "version_major": 2,
       "version_minor": 0
      },
      "text/plain": [
       "  0%|          | 0/1 [00:00<?, ?it/s]"
      ]
     },
     "metadata": {},
     "output_type": "display_data"
    },
    {
     "data": {
      "application/vnd.jupyter.widget-view+json": {
       "model_id": "904cff5c6f9a467a95acaaccdf73621f",
       "version_major": 2,
       "version_minor": 0
      },
      "text/plain": [
       "  0%|          | 0/7 [00:00<?, ?it/s]"
      ]
     },
     "metadata": {},
     "output_type": "display_data"
    },
    {
     "name": "stderr",
     "output_type": "stream",
     "text": [
      "/dgx1nas1/storage/data/akalinin/miniconda3/envs/map_benchmark/lib/python3.10/site-packages/copairs/compute.py:152: RuntimeWarning: invalid value encountered in divide\n",
      "  ap_scores = np.add.reduceat(pr_k * rel_k_list, cutoffs) / num_pos\n"
     ]
    },
    {
     "data": {
      "application/vnd.jupyter.widget-view+json": {
       "model_id": "f647042571e541669b7ef328bd0a0011",
       "version_major": 2,
       "version_minor": 0
      },
      "text/plain": [
       "  0%|          | 0/1 [00:00<?, ?it/s]"
      ]
     },
     "metadata": {},
     "output_type": "display_data"
    },
    {
     "data": {
      "application/vnd.jupyter.widget-view+json": {
       "model_id": "c4ffc11384e0486d8ce75699bc88504a",
       "version_major": 2,
       "version_minor": 0
      },
      "text/plain": [
       "  0%|          | 0/77 [00:00<?, ?it/s]"
      ]
     },
     "metadata": {},
     "output_type": "display_data"
    },
    {
     "name": "stdout",
     "output_type": "stream",
     "text": [
      "Now analyzing RPS18...\n"
     ]
    },
    {
     "data": {
      "application/vnd.jupyter.widget-view+json": {
       "model_id": "84a5f4269507476ba7a540adfc6d616d",
       "version_major": 2,
       "version_minor": 0
      },
      "text/plain": [
       "  0%|          | 0/1 [00:00<?, ?it/s]"
      ]
     },
     "metadata": {},
     "output_type": "display_data"
    },
    {
     "data": {
      "application/vnd.jupyter.widget-view+json": {
       "model_id": "0f246939c6574a18ab2519bfc89cc84d",
       "version_major": 2,
       "version_minor": 0
      },
      "text/plain": [
       "  0%|          | 0/8 [00:00<?, ?it/s]"
      ]
     },
     "metadata": {},
     "output_type": "display_data"
    },
    {
     "name": "stderr",
     "output_type": "stream",
     "text": [
      "/dgx1nas1/storage/data/akalinin/miniconda3/envs/map_benchmark/lib/python3.10/site-packages/copairs/compute.py:152: RuntimeWarning: invalid value encountered in divide\n",
      "  ap_scores = np.add.reduceat(pr_k * rel_k_list, cutoffs) / num_pos\n"
     ]
    },
    {
     "data": {
      "application/vnd.jupyter.widget-view+json": {
       "model_id": "f13817d6c9634452ae6992982456b2c3",
       "version_major": 2,
       "version_minor": 0
      },
      "text/plain": [
       "  0%|          | 0/1 [00:00<?, ?it/s]"
      ]
     },
     "metadata": {},
     "output_type": "display_data"
    },
    {
     "data": {
      "application/vnd.jupyter.widget-view+json": {
       "model_id": "a7894de96fee4ffea6c3c4eed8c0f4a0",
       "version_major": 2,
       "version_minor": 0
      },
      "text/plain": [
       "  0%|          | 0/123 [00:00<?, ?it/s]"
      ]
     },
     "metadata": {},
     "output_type": "display_data"
    },
    {
     "data": {
      "application/vnd.jupyter.widget-view+json": {
       "model_id": "757b6fb6fe4246888d23b3128e30b323",
       "version_major": 2,
       "version_minor": 0
      },
      "text/plain": [
       "  0%|          | 0/1 [00:00<?, ?it/s]"
      ]
     },
     "metadata": {},
     "output_type": "display_data"
    },
    {
     "data": {
      "application/vnd.jupyter.widget-view+json": {
       "model_id": "d21f0c75dfd3415899b75d7a0a41e6d7",
       "version_major": 2,
       "version_minor": 0
      },
      "text/plain": [
       "  0%|          | 0/8 [00:00<?, ?it/s]"
      ]
     },
     "metadata": {},
     "output_type": "display_data"
    },
    {
     "name": "stderr",
     "output_type": "stream",
     "text": [
      "/dgx1nas1/storage/data/akalinin/miniconda3/envs/map_benchmark/lib/python3.10/site-packages/copairs/compute.py:152: RuntimeWarning: invalid value encountered in divide\n",
      "  ap_scores = np.add.reduceat(pr_k * rel_k_list, cutoffs) / num_pos\n"
     ]
    },
    {
     "data": {
      "application/vnd.jupyter.widget-view+json": {
       "model_id": "754745dcf83445b180fc26c89326608d",
       "version_major": 2,
       "version_minor": 0
      },
      "text/plain": [
       "  0%|          | 0/1 [00:00<?, ?it/s]"
      ]
     },
     "metadata": {},
     "output_type": "display_data"
    },
    {
     "data": {
      "application/vnd.jupyter.widget-view+json": {
       "model_id": "a3fce14a7aa541d987d9cc297eafd886",
       "version_major": 2,
       "version_minor": 0
      },
      "text/plain": [
       "  0%|          | 0/89 [00:00<?, ?it/s]"
      ]
     },
     "metadata": {},
     "output_type": "display_data"
    },
    {
     "data": {
      "application/vnd.jupyter.widget-view+json": {
       "model_id": "52f0e221c92f4d89a833e1f4ab58d8d3",
       "version_major": 2,
       "version_minor": 0
      },
      "text/plain": [
       "  0%|          | 0/1 [00:00<?, ?it/s]"
      ]
     },
     "metadata": {},
     "output_type": "display_data"
    },
    {
     "data": {
      "application/vnd.jupyter.widget-view+json": {
       "model_id": "0885a7c11e3f426cbad806390efda061",
       "version_major": 2,
       "version_minor": 0
      },
      "text/plain": [
       "  0%|          | 0/10 [00:00<?, ?it/s]"
      ]
     },
     "metadata": {},
     "output_type": "display_data"
    },
    {
     "name": "stderr",
     "output_type": "stream",
     "text": [
      "/dgx1nas1/storage/data/akalinin/miniconda3/envs/map_benchmark/lib/python3.10/site-packages/copairs/compute.py:152: RuntimeWarning: invalid value encountered in divide\n",
      "  ap_scores = np.add.reduceat(pr_k * rel_k_list, cutoffs) / num_pos\n"
     ]
    },
    {
     "data": {
      "application/vnd.jupyter.widget-view+json": {
       "model_id": "5bb01a8747844a1d9eddf88d555cb415",
       "version_major": 2,
       "version_minor": 0
      },
      "text/plain": [
       "  0%|          | 0/1 [00:00<?, ?it/s]"
      ]
     },
     "metadata": {},
     "output_type": "display_data"
    },
    {
     "data": {
      "application/vnd.jupyter.widget-view+json": {
       "model_id": "93b7eae83b96464b9c64c8cb9d4d6cec",
       "version_major": 2,
       "version_minor": 0
      },
      "text/plain": [
       "  0%|          | 0/194 [00:00<?, ?it/s]"
      ]
     },
     "metadata": {},
     "output_type": "display_data"
    },
    {
     "data": {
      "application/vnd.jupyter.widget-view+json": {
       "model_id": "5a01302f8dce47e8a2cc85577e98c131",
       "version_major": 2,
       "version_minor": 0
      },
      "text/plain": [
       "  0%|          | 0/1 [00:00<?, ?it/s]"
      ]
     },
     "metadata": {},
     "output_type": "display_data"
    },
    {
     "data": {
      "application/vnd.jupyter.widget-view+json": {
       "model_id": "7443963cc2734f728811194ca9c45209",
       "version_major": 2,
       "version_minor": 0
      },
      "text/plain": [
       "  0%|          | 0/8 [00:00<?, ?it/s]"
      ]
     },
     "metadata": {},
     "output_type": "display_data"
    },
    {
     "name": "stderr",
     "output_type": "stream",
     "text": [
      "/dgx1nas1/storage/data/akalinin/miniconda3/envs/map_benchmark/lib/python3.10/site-packages/copairs/compute.py:152: RuntimeWarning: invalid value encountered in divide\n",
      "  ap_scores = np.add.reduceat(pr_k * rel_k_list, cutoffs) / num_pos\n"
     ]
    },
    {
     "data": {
      "application/vnd.jupyter.widget-view+json": {
       "model_id": "a000733353a24dc7b99f6c993aa2d303",
       "version_major": 2,
       "version_minor": 0
      },
      "text/plain": [
       "  0%|          | 0/1 [00:00<?, ?it/s]"
      ]
     },
     "metadata": {},
     "output_type": "display_data"
    },
    {
     "data": {
      "application/vnd.jupyter.widget-view+json": {
       "model_id": "7e64eb4cf9c143d19da54d3ce318a55a",
       "version_major": 2,
       "version_minor": 0
      },
      "text/plain": [
       "  0%|          | 0/102 [00:00<?, ?it/s]"
      ]
     },
     "metadata": {},
     "output_type": "display_data"
    },
    {
     "data": {
      "application/vnd.jupyter.widget-view+json": {
       "model_id": "19ae0d441b9c4cdbae7ede5ff587dcaf",
       "version_major": 2,
       "version_minor": 0
      },
      "text/plain": [
       "  0%|          | 0/1 [00:00<?, ?it/s]"
      ]
     },
     "metadata": {},
     "output_type": "display_data"
    },
    {
     "data": {
      "application/vnd.jupyter.widget-view+json": {
       "model_id": "41e9e4bea54940a484d1d555a69192c6",
       "version_major": 2,
       "version_minor": 0
      },
      "text/plain": [
       "  0%|          | 0/8 [00:00<?, ?it/s]"
      ]
     },
     "metadata": {},
     "output_type": "display_data"
    },
    {
     "name": "stderr",
     "output_type": "stream",
     "text": [
      "/dgx1nas1/storage/data/akalinin/miniconda3/envs/map_benchmark/lib/python3.10/site-packages/copairs/compute.py:152: RuntimeWarning: invalid value encountered in divide\n",
      "  ap_scores = np.add.reduceat(pr_k * rel_k_list, cutoffs) / num_pos\n"
     ]
    },
    {
     "data": {
      "application/vnd.jupyter.widget-view+json": {
       "model_id": "ea110f7a174347369dd7aed486e48520",
       "version_major": 2,
       "version_minor": 0
      },
      "text/plain": [
       "  0%|          | 0/1 [00:00<?, ?it/s]"
      ]
     },
     "metadata": {},
     "output_type": "display_data"
    },
    {
     "data": {
      "application/vnd.jupyter.widget-view+json": {
       "model_id": "fb398a4e40914e11a2f00b7a296a6c1d",
       "version_major": 2,
       "version_minor": 0
      },
      "text/plain": [
       "  0%|          | 0/94 [00:00<?, ?it/s]"
      ]
     },
     "metadata": {},
     "output_type": "display_data"
    },
    {
     "name": "stdout",
     "output_type": "stream",
     "text": [
      "Now analyzing ALDOA...\n"
     ]
    },
    {
     "data": {
      "application/vnd.jupyter.widget-view+json": {
       "model_id": "d600552e668240309a06295abfaf1344",
       "version_major": 2,
       "version_minor": 0
      },
      "text/plain": [
       "  0%|          | 0/1 [00:00<?, ?it/s]"
      ]
     },
     "metadata": {},
     "output_type": "display_data"
    },
    {
     "data": {
      "application/vnd.jupyter.widget-view+json": {
       "model_id": "23a2838dd0984e47b4b7aa5951f5701d",
       "version_major": 2,
       "version_minor": 0
      },
      "text/plain": [
       "  0%|          | 0/8 [00:00<?, ?it/s]"
      ]
     },
     "metadata": {},
     "output_type": "display_data"
    },
    {
     "name": "stderr",
     "output_type": "stream",
     "text": [
      "/dgx1nas1/storage/data/akalinin/miniconda3/envs/map_benchmark/lib/python3.10/site-packages/copairs/compute.py:152: RuntimeWarning: invalid value encountered in divide\n",
      "  ap_scores = np.add.reduceat(pr_k * rel_k_list, cutoffs) / num_pos\n"
     ]
    },
    {
     "data": {
      "application/vnd.jupyter.widget-view+json": {
       "model_id": "e78b34bad8864fc49c02ebc4a66b093b",
       "version_major": 2,
       "version_minor": 0
      },
      "text/plain": [
       "  0%|          | 0/1 [00:00<?, ?it/s]"
      ]
     },
     "metadata": {},
     "output_type": "display_data"
    },
    {
     "data": {
      "application/vnd.jupyter.widget-view+json": {
       "model_id": "802fd97f4a284b0893e8b7a8647c262c",
       "version_major": 2,
       "version_minor": 0
      },
      "text/plain": [
       "  0%|          | 0/102 [00:00<?, ?it/s]"
      ]
     },
     "metadata": {},
     "output_type": "display_data"
    },
    {
     "data": {
      "application/vnd.jupyter.widget-view+json": {
       "model_id": "16d600fabf1d4f2fbd7706cffcd81a37",
       "version_major": 2,
       "version_minor": 0
      },
      "text/plain": [
       "  0%|          | 0/1 [00:00<?, ?it/s]"
      ]
     },
     "metadata": {},
     "output_type": "display_data"
    },
    {
     "data": {
      "application/vnd.jupyter.widget-view+json": {
       "model_id": "140f1175832c464e9d8a99b9821d2641",
       "version_major": 2,
       "version_minor": 0
      },
      "text/plain": [
       "  0%|          | 0/7 [00:00<?, ?it/s]"
      ]
     },
     "metadata": {},
     "output_type": "display_data"
    },
    {
     "name": "stderr",
     "output_type": "stream",
     "text": [
      "/dgx1nas1/storage/data/akalinin/miniconda3/envs/map_benchmark/lib/python3.10/site-packages/copairs/compute.py:152: RuntimeWarning: invalid value encountered in divide\n",
      "  ap_scores = np.add.reduceat(pr_k * rel_k_list, cutoffs) / num_pos\n"
     ]
    },
    {
     "data": {
      "application/vnd.jupyter.widget-view+json": {
       "model_id": "f5912fd42fab42ecbcfd89bf986a0582",
       "version_major": 2,
       "version_minor": 0
      },
      "text/plain": [
       "  0%|          | 0/1 [00:00<?, ?it/s]"
      ]
     },
     "metadata": {},
     "output_type": "display_data"
    },
    {
     "data": {
      "application/vnd.jupyter.widget-view+json": {
       "model_id": "34fbed915320495395474abebb9156e4",
       "version_major": 2,
       "version_minor": 0
      },
      "text/plain": [
       "  0%|          | 0/81 [00:00<?, ?it/s]"
      ]
     },
     "metadata": {},
     "output_type": "display_data"
    },
    {
     "data": {
      "application/vnd.jupyter.widget-view+json": {
       "model_id": "b3cf97215cc64331b1d8c2a7e1d4d8e1",
       "version_major": 2,
       "version_minor": 0
      },
      "text/plain": [
       "  0%|          | 0/1 [00:00<?, ?it/s]"
      ]
     },
     "metadata": {},
     "output_type": "display_data"
    },
    {
     "data": {
      "application/vnd.jupyter.widget-view+json": {
       "model_id": "cc515a749d5942788836fbad4018e2a8",
       "version_major": 2,
       "version_minor": 0
      },
      "text/plain": [
       "  0%|          | 0/9 [00:00<?, ?it/s]"
      ]
     },
     "metadata": {},
     "output_type": "display_data"
    },
    {
     "name": "stderr",
     "output_type": "stream",
     "text": [
      "/dgx1nas1/storage/data/akalinin/miniconda3/envs/map_benchmark/lib/python3.10/site-packages/copairs/compute.py:152: RuntimeWarning: invalid value encountered in divide\n",
      "  ap_scores = np.add.reduceat(pr_k * rel_k_list, cutoffs) / num_pos\n"
     ]
    },
    {
     "data": {
      "application/vnd.jupyter.widget-view+json": {
       "model_id": "f62211dcbb4b4cb88928463849ab8604",
       "version_major": 2,
       "version_minor": 0
      },
      "text/plain": [
       "  0%|          | 0/1 [00:00<?, ?it/s]"
      ]
     },
     "metadata": {},
     "output_type": "display_data"
    },
    {
     "data": {
      "application/vnd.jupyter.widget-view+json": {
       "model_id": "7894597a56fd4574bed539be13e521fe",
       "version_major": 2,
       "version_minor": 0
      },
      "text/plain": [
       "  0%|          | 0/165 [00:00<?, ?it/s]"
      ]
     },
     "metadata": {},
     "output_type": "display_data"
    },
    {
     "data": {
      "application/vnd.jupyter.widget-view+json": {
       "model_id": "1350555bcb6d49ce8f1f07d97b1a0ff0",
       "version_major": 2,
       "version_minor": 0
      },
      "text/plain": [
       "  0%|          | 0/1 [00:00<?, ?it/s]"
      ]
     },
     "metadata": {},
     "output_type": "display_data"
    },
    {
     "data": {
      "application/vnd.jupyter.widget-view+json": {
       "model_id": "865d043b66d44cad942dedd36bee6f16",
       "version_major": 2,
       "version_minor": 0
      },
      "text/plain": [
       "  0%|          | 0/8 [00:00<?, ?it/s]"
      ]
     },
     "metadata": {},
     "output_type": "display_data"
    },
    {
     "name": "stderr",
     "output_type": "stream",
     "text": [
      "/dgx1nas1/storage/data/akalinin/miniconda3/envs/map_benchmark/lib/python3.10/site-packages/copairs/compute.py:152: RuntimeWarning: invalid value encountered in divide\n",
      "  ap_scores = np.add.reduceat(pr_k * rel_k_list, cutoffs) / num_pos\n"
     ]
    },
    {
     "data": {
      "application/vnd.jupyter.widget-view+json": {
       "model_id": "b4604efa1e4f4c119c6a1259c62f2df5",
       "version_major": 2,
       "version_minor": 0
      },
      "text/plain": [
       "  0%|          | 0/1 [00:00<?, ?it/s]"
      ]
     },
     "metadata": {},
     "output_type": "display_data"
    },
    {
     "data": {
      "application/vnd.jupyter.widget-view+json": {
       "model_id": "cb3350cb3cc7458f96da64dcc490b10e",
       "version_major": 2,
       "version_minor": 0
      },
      "text/plain": [
       "  0%|          | 0/108 [00:00<?, ?it/s]"
      ]
     },
     "metadata": {},
     "output_type": "display_data"
    },
    {
     "data": {
      "application/vnd.jupyter.widget-view+json": {
       "model_id": "0f94a8df2e4045eeb2708f230020790c",
       "version_major": 2,
       "version_minor": 0
      },
      "text/plain": [
       "  0%|          | 0/1 [00:00<?, ?it/s]"
      ]
     },
     "metadata": {},
     "output_type": "display_data"
    },
    {
     "data": {
      "application/vnd.jupyter.widget-view+json": {
       "model_id": "4e8efd33816944d2913ad84a4dcee652",
       "version_major": 2,
       "version_minor": 0
      },
      "text/plain": [
       "  0%|          | 0/9 [00:00<?, ?it/s]"
      ]
     },
     "metadata": {},
     "output_type": "display_data"
    },
    {
     "name": "stderr",
     "output_type": "stream",
     "text": [
      "/dgx1nas1/storage/data/akalinin/miniconda3/envs/map_benchmark/lib/python3.10/site-packages/copairs/compute.py:152: RuntimeWarning: invalid value encountered in divide\n",
      "  ap_scores = np.add.reduceat(pr_k * rel_k_list, cutoffs) / num_pos\n"
     ]
    },
    {
     "data": {
      "application/vnd.jupyter.widget-view+json": {
       "model_id": "260eae3d90f643f89e65dccbc9d4f963",
       "version_major": 2,
       "version_minor": 0
      },
      "text/plain": [
       "  0%|          | 0/1 [00:00<?, ?it/s]"
      ]
     },
     "metadata": {},
     "output_type": "display_data"
    },
    {
     "data": {
      "application/vnd.jupyter.widget-view+json": {
       "model_id": "40e8f09a722b432994a8c43858e12674",
       "version_major": 2,
       "version_minor": 0
      },
      "text/plain": [
       "  0%|          | 0/151 [00:00<?, ?it/s]"
      ]
     },
     "metadata": {},
     "output_type": "display_data"
    },
    {
     "name": "stdout",
     "output_type": "stream",
     "text": [
      "Now analyzing RPS15...\n"
     ]
    },
    {
     "data": {
      "application/vnd.jupyter.widget-view+json": {
       "model_id": "b2c473cea1234ab88fa4ba63715939ed",
       "version_major": 2,
       "version_minor": 0
      },
      "text/plain": [
       "  0%|          | 0/1 [00:00<?, ?it/s]"
      ]
     },
     "metadata": {},
     "output_type": "display_data"
    },
    {
     "data": {
      "application/vnd.jupyter.widget-view+json": {
       "model_id": "516c69cb4abe488c8724b74b4d5ab160",
       "version_major": 2,
       "version_minor": 0
      },
      "text/plain": [
       "  0%|          | 0/8 [00:00<?, ?it/s]"
      ]
     },
     "metadata": {},
     "output_type": "display_data"
    },
    {
     "name": "stderr",
     "output_type": "stream",
     "text": [
      "/dgx1nas1/storage/data/akalinin/miniconda3/envs/map_benchmark/lib/python3.10/site-packages/copairs/compute.py:152: RuntimeWarning: invalid value encountered in divide\n",
      "  ap_scores = np.add.reduceat(pr_k * rel_k_list, cutoffs) / num_pos\n"
     ]
    },
    {
     "data": {
      "application/vnd.jupyter.widget-view+json": {
       "model_id": "56c2cf7a639d44d5884fc897f0bbf6a8",
       "version_major": 2,
       "version_minor": 0
      },
      "text/plain": [
       "  0%|          | 0/1 [00:00<?, ?it/s]"
      ]
     },
     "metadata": {},
     "output_type": "display_data"
    },
    {
     "data": {
      "application/vnd.jupyter.widget-view+json": {
       "model_id": "408c3ac2012c47f596de807add3ed6ae",
       "version_major": 2,
       "version_minor": 0
      },
      "text/plain": [
       "  0%|          | 0/103 [00:00<?, ?it/s]"
      ]
     },
     "metadata": {},
     "output_type": "display_data"
    },
    {
     "data": {
      "application/vnd.jupyter.widget-view+json": {
       "model_id": "1313b8613d9946478b0bab4d610f7d34",
       "version_major": 2,
       "version_minor": 0
      },
      "text/plain": [
       "  0%|          | 0/1 [00:00<?, ?it/s]"
      ]
     },
     "metadata": {},
     "output_type": "display_data"
    },
    {
     "data": {
      "application/vnd.jupyter.widget-view+json": {
       "model_id": "43a5865203654ceb98f7dc36108cbf38",
       "version_major": 2,
       "version_minor": 0
      },
      "text/plain": [
       "  0%|          | 0/8 [00:00<?, ?it/s]"
      ]
     },
     "metadata": {},
     "output_type": "display_data"
    },
    {
     "name": "stderr",
     "output_type": "stream",
     "text": [
      "/dgx1nas1/storage/data/akalinin/miniconda3/envs/map_benchmark/lib/python3.10/site-packages/copairs/compute.py:152: RuntimeWarning: invalid value encountered in divide\n",
      "  ap_scores = np.add.reduceat(pr_k * rel_k_list, cutoffs) / num_pos\n"
     ]
    },
    {
     "data": {
      "application/vnd.jupyter.widget-view+json": {
       "model_id": "6c87ee62a9f8411fb97aca69f6abbf28",
       "version_major": 2,
       "version_minor": 0
      },
      "text/plain": [
       "  0%|          | 0/1 [00:00<?, ?it/s]"
      ]
     },
     "metadata": {},
     "output_type": "display_data"
    },
    {
     "data": {
      "application/vnd.jupyter.widget-view+json": {
       "model_id": "e1346d941c2442018be3be3aed764a6e",
       "version_major": 2,
       "version_minor": 0
      },
      "text/plain": [
       "  0%|          | 0/125 [00:00<?, ?it/s]"
      ]
     },
     "metadata": {},
     "output_type": "display_data"
    },
    {
     "data": {
      "application/vnd.jupyter.widget-view+json": {
       "model_id": "0ae9497ad05c4b219d62d016e217c79e",
       "version_major": 2,
       "version_minor": 0
      },
      "text/plain": [
       "  0%|          | 0/1 [00:00<?, ?it/s]"
      ]
     },
     "metadata": {},
     "output_type": "display_data"
    },
    {
     "data": {
      "application/vnd.jupyter.widget-view+json": {
       "model_id": "b371760a259141ab864f4276fcba4b3c",
       "version_major": 2,
       "version_minor": 0
      },
      "text/plain": [
       "  0%|          | 0/9 [00:00<?, ?it/s]"
      ]
     },
     "metadata": {},
     "output_type": "display_data"
    },
    {
     "name": "stderr",
     "output_type": "stream",
     "text": [
      "/dgx1nas1/storage/data/akalinin/miniconda3/envs/map_benchmark/lib/python3.10/site-packages/copairs/compute.py:152: RuntimeWarning: invalid value encountered in divide\n",
      "  ap_scores = np.add.reduceat(pr_k * rel_k_list, cutoffs) / num_pos\n"
     ]
    },
    {
     "data": {
      "application/vnd.jupyter.widget-view+json": {
       "model_id": "f6aaafca206944b392f019a7f14c5c06",
       "version_major": 2,
       "version_minor": 0
      },
      "text/plain": [
       "  0%|          | 0/1 [00:00<?, ?it/s]"
      ]
     },
     "metadata": {},
     "output_type": "display_data"
    },
    {
     "data": {
      "application/vnd.jupyter.widget-view+json": {
       "model_id": "db5c30a9fddb43d48b06c985c9e93b2b",
       "version_major": 2,
       "version_minor": 0
      },
      "text/plain": [
       "  0%|          | 0/134 [00:00<?, ?it/s]"
      ]
     },
     "metadata": {},
     "output_type": "display_data"
    },
    {
     "data": {
      "application/vnd.jupyter.widget-view+json": {
       "model_id": "af7cb8289e654e559c2a58ecdcde253d",
       "version_major": 2,
       "version_minor": 0
      },
      "text/plain": [
       "  0%|          | 0/2 [00:00<?, ?it/s]"
      ]
     },
     "metadata": {},
     "output_type": "display_data"
    },
    {
     "data": {
      "application/vnd.jupyter.widget-view+json": {
       "model_id": "f3629b07213f4c75afb54d820f7cd2fc",
       "version_major": 2,
       "version_minor": 0
      },
      "text/plain": [
       "  0%|          | 0/11 [00:00<?, ?it/s]"
      ]
     },
     "metadata": {},
     "output_type": "display_data"
    },
    {
     "name": "stderr",
     "output_type": "stream",
     "text": [
      "/dgx1nas1/storage/data/akalinin/miniconda3/envs/map_benchmark/lib/python3.10/site-packages/copairs/compute.py:152: RuntimeWarning: invalid value encountered in divide\n",
      "  ap_scores = np.add.reduceat(pr_k * rel_k_list, cutoffs) / num_pos\n"
     ]
    },
    {
     "data": {
      "application/vnd.jupyter.widget-view+json": {
       "model_id": "9ee98efdc61543c2905a5f14b590a883",
       "version_major": 2,
       "version_minor": 0
      },
      "text/plain": [
       "  0%|          | 0/1 [00:00<?, ?it/s]"
      ]
     },
     "metadata": {},
     "output_type": "display_data"
    },
    {
     "data": {
      "application/vnd.jupyter.widget-view+json": {
       "model_id": "9062d4c5b6a847c1b2d3e7a33ce16568",
       "version_major": 2,
       "version_minor": 0
      },
      "text/plain": [
       "  0%|          | 0/223 [00:00<?, ?it/s]"
      ]
     },
     "metadata": {},
     "output_type": "display_data"
    },
    {
     "data": {
      "application/vnd.jupyter.widget-view+json": {
       "model_id": "7610fd17dd024683bb5327ae65cb06c0",
       "version_major": 2,
       "version_minor": 0
      },
      "text/plain": [
       "  0%|          | 0/1 [00:00<?, ?it/s]"
      ]
     },
     "metadata": {},
     "output_type": "display_data"
    },
    {
     "data": {
      "application/vnd.jupyter.widget-view+json": {
       "model_id": "ee5c3a54494b4ea09b45bb5bf8ec5118",
       "version_major": 2,
       "version_minor": 0
      },
      "text/plain": [
       "  0%|          | 0/7 [00:00<?, ?it/s]"
      ]
     },
     "metadata": {},
     "output_type": "display_data"
    },
    {
     "name": "stderr",
     "output_type": "stream",
     "text": [
      "/dgx1nas1/storage/data/akalinin/miniconda3/envs/map_benchmark/lib/python3.10/site-packages/copairs/compute.py:152: RuntimeWarning: invalid value encountered in divide\n",
      "  ap_scores = np.add.reduceat(pr_k * rel_k_list, cutoffs) / num_pos\n"
     ]
    },
    {
     "data": {
      "application/vnd.jupyter.widget-view+json": {
       "model_id": "33114f96a231416695f1eaad34eee4eb",
       "version_major": 2,
       "version_minor": 0
      },
      "text/plain": [
       "  0%|          | 0/1 [00:00<?, ?it/s]"
      ]
     },
     "metadata": {},
     "output_type": "display_data"
    },
    {
     "data": {
      "application/vnd.jupyter.widget-view+json": {
       "model_id": "6150c752f666498e9c3cfa95ef5c51a2",
       "version_major": 2,
       "version_minor": 0
      },
      "text/plain": [
       "  0%|          | 0/78 [00:00<?, ?it/s]"
      ]
     },
     "metadata": {},
     "output_type": "display_data"
    },
    {
     "name": "stdout",
     "output_type": "stream",
     "text": [
      "Now analyzing POLR1D...\n"
     ]
    },
    {
     "data": {
      "application/vnd.jupyter.widget-view+json": {
       "model_id": "106a06c12320446b87cbcccc2c0f9f6d",
       "version_major": 2,
       "version_minor": 0
      },
      "text/plain": [
       "  0%|          | 0/2 [00:00<?, ?it/s]"
      ]
     },
     "metadata": {},
     "output_type": "display_data"
    },
    {
     "data": {
      "application/vnd.jupyter.widget-view+json": {
       "model_id": "39fdcf0b1c6049dfa2a0fa8614793196",
       "version_major": 2,
       "version_minor": 0
      },
      "text/plain": [
       "  0%|          | 0/11 [00:00<?, ?it/s]"
      ]
     },
     "metadata": {},
     "output_type": "display_data"
    },
    {
     "name": "stderr",
     "output_type": "stream",
     "text": [
      "/dgx1nas1/storage/data/akalinin/miniconda3/envs/map_benchmark/lib/python3.10/site-packages/copairs/compute.py:152: RuntimeWarning: invalid value encountered in divide\n",
      "  ap_scores = np.add.reduceat(pr_k * rel_k_list, cutoffs) / num_pos\n"
     ]
    },
    {
     "data": {
      "application/vnd.jupyter.widget-view+json": {
       "model_id": "fbd85bfe923743f5bcf7c9de4d95240d",
       "version_major": 2,
       "version_minor": 0
      },
      "text/plain": [
       "  0%|          | 0/1 [00:00<?, ?it/s]"
      ]
     },
     "metadata": {},
     "output_type": "display_data"
    },
    {
     "data": {
      "application/vnd.jupyter.widget-view+json": {
       "model_id": "5cbb0d76ee364c99bc347d8f4089f6f5",
       "version_major": 2,
       "version_minor": 0
      },
      "text/plain": [
       "  0%|          | 0/247 [00:00<?, ?it/s]"
      ]
     },
     "metadata": {},
     "output_type": "display_data"
    },
    {
     "data": {
      "application/vnd.jupyter.widget-view+json": {
       "model_id": "904a05306297402ea1aa443a728bdcfe",
       "version_major": 2,
       "version_minor": 0
      },
      "text/plain": [
       "  0%|          | 0/4 [00:00<?, ?it/s]"
      ]
     },
     "metadata": {},
     "output_type": "display_data"
    },
    {
     "data": {
      "application/vnd.jupyter.widget-view+json": {
       "model_id": "7185fefc2f734fc1a964735e4c3901eb",
       "version_major": 2,
       "version_minor": 0
      },
      "text/plain": [
       "  0%|          | 0/15 [00:00<?, ?it/s]"
      ]
     },
     "metadata": {},
     "output_type": "display_data"
    },
    {
     "name": "stderr",
     "output_type": "stream",
     "text": [
      "/dgx1nas1/storage/data/akalinin/miniconda3/envs/map_benchmark/lib/python3.10/site-packages/copairs/compute.py:152: RuntimeWarning: invalid value encountered in divide\n",
      "  ap_scores = np.add.reduceat(pr_k * rel_k_list, cutoffs) / num_pos\n"
     ]
    },
    {
     "data": {
      "application/vnd.jupyter.widget-view+json": {
       "model_id": "06af011a3a1645f3aaa63df4b271e6f8",
       "version_major": 2,
       "version_minor": 0
      },
      "text/plain": [
       "  0%|          | 0/1 [00:00<?, ?it/s]"
      ]
     },
     "metadata": {},
     "output_type": "display_data"
    },
    {
     "data": {
      "application/vnd.jupyter.widget-view+json": {
       "model_id": "c70c010d3cca44c2a4741ac2ab321ee3",
       "version_major": 2,
       "version_minor": 0
      },
      "text/plain": [
       "  0%|          | 0/384 [00:00<?, ?it/s]"
      ]
     },
     "metadata": {},
     "output_type": "display_data"
    },
    {
     "data": {
      "application/vnd.jupyter.widget-view+json": {
       "model_id": "849b87bcb07c4c8680930327409895cd",
       "version_major": 2,
       "version_minor": 0
      },
      "text/plain": [
       "  0%|          | 0/1 [00:00<?, ?it/s]"
      ]
     },
     "metadata": {},
     "output_type": "display_data"
    },
    {
     "data": {
      "application/vnd.jupyter.widget-view+json": {
       "model_id": "6c46d83558354fe98178b42c2a5053ff",
       "version_major": 2,
       "version_minor": 0
      },
      "text/plain": [
       "  0%|          | 0/9 [00:00<?, ?it/s]"
      ]
     },
     "metadata": {},
     "output_type": "display_data"
    },
    {
     "name": "stderr",
     "output_type": "stream",
     "text": [
      "/dgx1nas1/storage/data/akalinin/miniconda3/envs/map_benchmark/lib/python3.10/site-packages/copairs/compute.py:152: RuntimeWarning: invalid value encountered in divide\n",
      "  ap_scores = np.add.reduceat(pr_k * rel_k_list, cutoffs) / num_pos\n"
     ]
    },
    {
     "data": {
      "application/vnd.jupyter.widget-view+json": {
       "model_id": "6b1445c9cd924c11bb2a2dfd023021b0",
       "version_major": 2,
       "version_minor": 0
      },
      "text/plain": [
       "  0%|          | 0/1 [00:00<?, ?it/s]"
      ]
     },
     "metadata": {},
     "output_type": "display_data"
    },
    {
     "data": {
      "application/vnd.jupyter.widget-view+json": {
       "model_id": "8b6f3a6eda85412b908d77dd4020dfad",
       "version_major": 2,
       "version_minor": 0
      },
      "text/plain": [
       "  0%|          | 0/167 [00:00<?, ?it/s]"
      ]
     },
     "metadata": {},
     "output_type": "display_data"
    },
    {
     "data": {
      "application/vnd.jupyter.widget-view+json": {
       "model_id": "4f6bb7055273467e8fe9c5bb4c49ef8b",
       "version_major": 2,
       "version_minor": 0
      },
      "text/plain": [
       "  0%|          | 0/3 [00:00<?, ?it/s]"
      ]
     },
     "metadata": {},
     "output_type": "display_data"
    },
    {
     "data": {
      "application/vnd.jupyter.widget-view+json": {
       "model_id": "e65ee77da60f41babec05459f7b80455",
       "version_major": 2,
       "version_minor": 0
      },
      "text/plain": [
       "  0%|          | 0/13 [00:00<?, ?it/s]"
      ]
     },
     "metadata": {},
     "output_type": "display_data"
    },
    {
     "name": "stderr",
     "output_type": "stream",
     "text": [
      "/dgx1nas1/storage/data/akalinin/miniconda3/envs/map_benchmark/lib/python3.10/site-packages/copairs/compute.py:152: RuntimeWarning: invalid value encountered in divide\n",
      "  ap_scores = np.add.reduceat(pr_k * rel_k_list, cutoffs) / num_pos\n"
     ]
    },
    {
     "data": {
      "application/vnd.jupyter.widget-view+json": {
       "model_id": "1d8679bd85ea46d188118b20a316e692",
       "version_major": 2,
       "version_minor": 0
      },
      "text/plain": [
       "  0%|          | 0/1 [00:00<?, ?it/s]"
      ]
     },
     "metadata": {},
     "output_type": "display_data"
    },
    {
     "data": {
      "application/vnd.jupyter.widget-view+json": {
       "model_id": "c2e62d9d0fae45c78337b1bfec87cea1",
       "version_major": 2,
       "version_minor": 0
      },
      "text/plain": [
       "  0%|          | 0/324 [00:00<?, ?it/s]"
      ]
     },
     "metadata": {},
     "output_type": "display_data"
    },
    {
     "data": {
      "application/vnd.jupyter.widget-view+json": {
       "model_id": "8021b270d07e4e45a1811e141515a247",
       "version_major": 2,
       "version_minor": 0
      },
      "text/plain": [
       "  0%|          | 0/1 [00:00<?, ?it/s]"
      ]
     },
     "metadata": {},
     "output_type": "display_data"
    },
    {
     "data": {
      "application/vnd.jupyter.widget-view+json": {
       "model_id": "fb4cf69677a34af9b4cc2500c0fb89ae",
       "version_major": 2,
       "version_minor": 0
      },
      "text/plain": [
       "  0%|          | 0/10 [00:00<?, ?it/s]"
      ]
     },
     "metadata": {},
     "output_type": "display_data"
    },
    {
     "name": "stderr",
     "output_type": "stream",
     "text": [
      "/dgx1nas1/storage/data/akalinin/miniconda3/envs/map_benchmark/lib/python3.10/site-packages/copairs/compute.py:152: RuntimeWarning: invalid value encountered in divide\n",
      "  ap_scores = np.add.reduceat(pr_k * rel_k_list, cutoffs) / num_pos\n"
     ]
    },
    {
     "data": {
      "application/vnd.jupyter.widget-view+json": {
       "model_id": "ecec5fa005da4e7a90be15c2f2c7b40f",
       "version_major": 2,
       "version_minor": 0
      },
      "text/plain": [
       "  0%|          | 0/1 [00:00<?, ?it/s]"
      ]
     },
     "metadata": {},
     "output_type": "display_data"
    },
    {
     "data": {
      "application/vnd.jupyter.widget-view+json": {
       "model_id": "a3c8ba141eba49d3ab1921db902f7b24",
       "version_major": 2,
       "version_minor": 0
      },
      "text/plain": [
       "  0%|          | 0/198 [00:00<?, ?it/s]"
      ]
     },
     "metadata": {},
     "output_type": "display_data"
    },
    {
     "name": "stdout",
     "output_type": "stream",
     "text": [
      "Now analyzing ATP5E...\n"
     ]
    },
    {
     "data": {
      "application/vnd.jupyter.widget-view+json": {
       "model_id": "1bf2b1be12a14ee29d7d5433351153f2",
       "version_major": 2,
       "version_minor": 0
      },
      "text/plain": [
       "  0%|          | 0/2 [00:00<?, ?it/s]"
      ]
     },
     "metadata": {},
     "output_type": "display_data"
    },
    {
     "data": {
      "application/vnd.jupyter.widget-view+json": {
       "model_id": "f85c66a2a06841448d3f4fc193f7616c",
       "version_major": 2,
       "version_minor": 0
      },
      "text/plain": [
       "  0%|          | 0/10 [00:00<?, ?it/s]"
      ]
     },
     "metadata": {},
     "output_type": "display_data"
    },
    {
     "name": "stderr",
     "output_type": "stream",
     "text": [
      "/dgx1nas1/storage/data/akalinin/miniconda3/envs/map_benchmark/lib/python3.10/site-packages/copairs/compute.py:152: RuntimeWarning: invalid value encountered in divide\n",
      "  ap_scores = np.add.reduceat(pr_k * rel_k_list, cutoffs) / num_pos\n"
     ]
    },
    {
     "data": {
      "application/vnd.jupyter.widget-view+json": {
       "model_id": "164e91c0a4784781953a6b7eeab84134",
       "version_major": 2,
       "version_minor": 0
      },
      "text/plain": [
       "  0%|          | 0/1 [00:00<?, ?it/s]"
      ]
     },
     "metadata": {},
     "output_type": "display_data"
    },
    {
     "data": {
      "application/vnd.jupyter.widget-view+json": {
       "model_id": "5b9264891eae49f5813baa6b55a4e55b",
       "version_major": 2,
       "version_minor": 0
      },
      "text/plain": [
       "  0%|          | 0/205 [00:00<?, ?it/s]"
      ]
     },
     "metadata": {},
     "output_type": "display_data"
    },
    {
     "data": {
      "application/vnd.jupyter.widget-view+json": {
       "model_id": "5bb9288f6b6f4baf85c4efc78f677c25",
       "version_major": 2,
       "version_minor": 0
      },
      "text/plain": [
       "  0%|          | 0/1 [00:00<?, ?it/s]"
      ]
     },
     "metadata": {},
     "output_type": "display_data"
    },
    {
     "data": {
      "application/vnd.jupyter.widget-view+json": {
       "model_id": "90001587ffd84a12964962f74af3bfab",
       "version_major": 2,
       "version_minor": 0
      },
      "text/plain": [
       "  0%|          | 0/9 [00:00<?, ?it/s]"
      ]
     },
     "metadata": {},
     "output_type": "display_data"
    },
    {
     "name": "stderr",
     "output_type": "stream",
     "text": [
      "/dgx1nas1/storage/data/akalinin/miniconda3/envs/map_benchmark/lib/python3.10/site-packages/copairs/compute.py:152: RuntimeWarning: invalid value encountered in divide\n",
      "  ap_scores = np.add.reduceat(pr_k * rel_k_list, cutoffs) / num_pos\n"
     ]
    },
    {
     "data": {
      "application/vnd.jupyter.widget-view+json": {
       "model_id": "00611024d55e42d3a46b4d096fa510e6",
       "version_major": 2,
       "version_minor": 0
      },
      "text/plain": [
       "  0%|          | 0/1 [00:00<?, ?it/s]"
      ]
     },
     "metadata": {},
     "output_type": "display_data"
    },
    {
     "data": {
      "application/vnd.jupyter.widget-view+json": {
       "model_id": "351fb8cd614646b7a5d1d34bf9c45164",
       "version_major": 2,
       "version_minor": 0
      },
      "text/plain": [
       "  0%|          | 0/163 [00:00<?, ?it/s]"
      ]
     },
     "metadata": {},
     "output_type": "display_data"
    },
    {
     "data": {
      "application/vnd.jupyter.widget-view+json": {
       "model_id": "dd918155f94d41879acc48a30bf41472",
       "version_major": 2,
       "version_minor": 0
      },
      "text/plain": [
       "  0%|          | 0/1 [00:00<?, ?it/s]"
      ]
     },
     "metadata": {},
     "output_type": "display_data"
    },
    {
     "data": {
      "application/vnd.jupyter.widget-view+json": {
       "model_id": "c17bdafce4c441e69a58a9eab628fe59",
       "version_major": 2,
       "version_minor": 0
      },
      "text/plain": [
       "  0%|          | 0/8 [00:00<?, ?it/s]"
      ]
     },
     "metadata": {},
     "output_type": "display_data"
    },
    {
     "name": "stderr",
     "output_type": "stream",
     "text": [
      "/dgx1nas1/storage/data/akalinin/miniconda3/envs/map_benchmark/lib/python3.10/site-packages/copairs/compute.py:152: RuntimeWarning: invalid value encountered in divide\n",
      "  ap_scores = np.add.reduceat(pr_k * rel_k_list, cutoffs) / num_pos\n"
     ]
    },
    {
     "data": {
      "application/vnd.jupyter.widget-view+json": {
       "model_id": "7f4e3700862c434b9caddbe190b18f91",
       "version_major": 2,
       "version_minor": 0
      },
      "text/plain": [
       "  0%|          | 0/1 [00:00<?, ?it/s]"
      ]
     },
     "metadata": {},
     "output_type": "display_data"
    },
    {
     "data": {
      "application/vnd.jupyter.widget-view+json": {
       "model_id": "352edb3fd93e4cd2b45f46bf08e478af",
       "version_major": 2,
       "version_minor": 0
      },
      "text/plain": [
       "  0%|          | 0/111 [00:00<?, ?it/s]"
      ]
     },
     "metadata": {},
     "output_type": "display_data"
    },
    {
     "data": {
      "application/vnd.jupyter.widget-view+json": {
       "model_id": "55b6bb09b46245c38af84965bd4c1c92",
       "version_major": 2,
       "version_minor": 0
      },
      "text/plain": [
       "  0%|          | 0/1 [00:00<?, ?it/s]"
      ]
     },
     "metadata": {},
     "output_type": "display_data"
    },
    {
     "data": {
      "application/vnd.jupyter.widget-view+json": {
       "model_id": "f163f1c607924eec8896fca2c37ba46a",
       "version_major": 2,
       "version_minor": 0
      },
      "text/plain": [
       "  0%|          | 0/9 [00:00<?, ?it/s]"
      ]
     },
     "metadata": {},
     "output_type": "display_data"
    },
    {
     "name": "stderr",
     "output_type": "stream",
     "text": [
      "/dgx1nas1/storage/data/akalinin/miniconda3/envs/map_benchmark/lib/python3.10/site-packages/copairs/compute.py:152: RuntimeWarning: invalid value encountered in divide\n",
      "  ap_scores = np.add.reduceat(pr_k * rel_k_list, cutoffs) / num_pos\n"
     ]
    },
    {
     "data": {
      "application/vnd.jupyter.widget-view+json": {
       "model_id": "03ac2843e82f4c148445f382caf3f9db",
       "version_major": 2,
       "version_minor": 0
      },
      "text/plain": [
       "  0%|          | 0/1 [00:00<?, ?it/s]"
      ]
     },
     "metadata": {},
     "output_type": "display_data"
    },
    {
     "data": {
      "application/vnd.jupyter.widget-view+json": {
       "model_id": "c32ebd5868804f0caf9e5ba2180bd0e2",
       "version_major": 2,
       "version_minor": 0
      },
      "text/plain": [
       "  0%|          | 0/156 [00:00<?, ?it/s]"
      ]
     },
     "metadata": {},
     "output_type": "display_data"
    },
    {
     "data": {
      "application/vnd.jupyter.widget-view+json": {
       "model_id": "64897bf6bf374ca1baf6674c413b8bf7",
       "version_major": 2,
       "version_minor": 0
      },
      "text/plain": [
       "  0%|          | 0/1 [00:00<?, ?it/s]"
      ]
     },
     "metadata": {},
     "output_type": "display_data"
    },
    {
     "data": {
      "application/vnd.jupyter.widget-view+json": {
       "model_id": "530a44d146944bceab1859a6a3c5bd91",
       "version_major": 2,
       "version_minor": 0
      },
      "text/plain": [
       "  0%|          | 0/9 [00:00<?, ?it/s]"
      ]
     },
     "metadata": {},
     "output_type": "display_data"
    },
    {
     "name": "stderr",
     "output_type": "stream",
     "text": [
      "/dgx1nas1/storage/data/akalinin/miniconda3/envs/map_benchmark/lib/python3.10/site-packages/copairs/compute.py:152: RuntimeWarning: invalid value encountered in divide\n",
      "  ap_scores = np.add.reduceat(pr_k * rel_k_list, cutoffs) / num_pos\n"
     ]
    },
    {
     "data": {
      "application/vnd.jupyter.widget-view+json": {
       "model_id": "5a8b352cdc514dcb9f12413163695f50",
       "version_major": 2,
       "version_minor": 0
      },
      "text/plain": [
       "  0%|          | 0/1 [00:00<?, ?it/s]"
      ]
     },
     "metadata": {},
     "output_type": "display_data"
    },
    {
     "data": {
      "application/vnd.jupyter.widget-view+json": {
       "model_id": "b6c99bca2b5d4793bd03b01693623c29",
       "version_major": 2,
       "version_minor": 0
      },
      "text/plain": [
       "  0%|          | 0/161 [00:00<?, ?it/s]"
      ]
     },
     "metadata": {},
     "output_type": "display_data"
    },
    {
     "name": "stdout",
     "output_type": "stream",
     "text": [
      "Now analyzing COX11...\n"
     ]
    },
    {
     "data": {
      "application/vnd.jupyter.widget-view+json": {
       "model_id": "42f43da2b5814fd687c62f4c4cb83a1c",
       "version_major": 2,
       "version_minor": 0
      },
      "text/plain": [
       "  0%|          | 0/3 [00:00<?, ?it/s]"
      ]
     },
     "metadata": {},
     "output_type": "display_data"
    },
    {
     "data": {
      "application/vnd.jupyter.widget-view+json": {
       "model_id": "cf0302aaf83f44138c3852941737b8e1",
       "version_major": 2,
       "version_minor": 0
      },
      "text/plain": [
       "  0%|          | 0/12 [00:00<?, ?it/s]"
      ]
     },
     "metadata": {},
     "output_type": "display_data"
    },
    {
     "name": "stderr",
     "output_type": "stream",
     "text": [
      "/dgx1nas1/storage/data/akalinin/miniconda3/envs/map_benchmark/lib/python3.10/site-packages/copairs/compute.py:152: RuntimeWarning: invalid value encountered in divide\n",
      "  ap_scores = np.add.reduceat(pr_k * rel_k_list, cutoffs) / num_pos\n"
     ]
    },
    {
     "data": {
      "application/vnd.jupyter.widget-view+json": {
       "model_id": "cbe13dfc775d4034bc239da4579d5825",
       "version_major": 2,
       "version_minor": 0
      },
      "text/plain": [
       "  0%|          | 0/1 [00:00<?, ?it/s]"
      ]
     },
     "metadata": {},
     "output_type": "display_data"
    },
    {
     "data": {
      "application/vnd.jupyter.widget-view+json": {
       "model_id": "12a331906d9d400c9d9c147e9e7cc4fe",
       "version_major": 2,
       "version_minor": 0
      },
      "text/plain": [
       "  0%|          | 0/296 [00:00<?, ?it/s]"
      ]
     },
     "metadata": {},
     "output_type": "display_data"
    },
    {
     "data": {
      "application/vnd.jupyter.widget-view+json": {
       "model_id": "962ab897d7bd4dfb90c50dcfb4e25fe3",
       "version_major": 2,
       "version_minor": 0
      },
      "text/plain": [
       "  0%|          | 0/2 [00:00<?, ?it/s]"
      ]
     },
     "metadata": {},
     "output_type": "display_data"
    },
    {
     "data": {
      "application/vnd.jupyter.widget-view+json": {
       "model_id": "383ab068b1344957998f142013cbe2e2",
       "version_major": 2,
       "version_minor": 0
      },
      "text/plain": [
       "  0%|          | 0/10 [00:00<?, ?it/s]"
      ]
     },
     "metadata": {},
     "output_type": "display_data"
    },
    {
     "name": "stderr",
     "output_type": "stream",
     "text": [
      "/dgx1nas1/storage/data/akalinin/miniconda3/envs/map_benchmark/lib/python3.10/site-packages/copairs/compute.py:152: RuntimeWarning: invalid value encountered in divide\n",
      "  ap_scores = np.add.reduceat(pr_k * rel_k_list, cutoffs) / num_pos\n"
     ]
    },
    {
     "data": {
      "application/vnd.jupyter.widget-view+json": {
       "model_id": "82342c31e66b4f62ada485a22e7efc75",
       "version_major": 2,
       "version_minor": 0
      },
      "text/plain": [
       "  0%|          | 0/1 [00:00<?, ?it/s]"
      ]
     },
     "metadata": {},
     "output_type": "display_data"
    },
    {
     "data": {
      "application/vnd.jupyter.widget-view+json": {
       "model_id": "3e902bb610a848298c3e0ca7bc4a2be4",
       "version_major": 2,
       "version_minor": 0
      },
      "text/plain": [
       "  0%|          | 0/206 [00:00<?, ?it/s]"
      ]
     },
     "metadata": {},
     "output_type": "display_data"
    },
    {
     "data": {
      "application/vnd.jupyter.widget-view+json": {
       "model_id": "ab84155a22714c1db4e08f58c2ff9119",
       "version_major": 2,
       "version_minor": 0
      },
      "text/plain": [
       "  0%|          | 0/1 [00:00<?, ?it/s]"
      ]
     },
     "metadata": {},
     "output_type": "display_data"
    },
    {
     "data": {
      "application/vnd.jupyter.widget-view+json": {
       "model_id": "9e826e17458c4cc0b3347f453fd448eb",
       "version_major": 2,
       "version_minor": 0
      },
      "text/plain": [
       "  0%|          | 0/9 [00:00<?, ?it/s]"
      ]
     },
     "metadata": {},
     "output_type": "display_data"
    },
    {
     "name": "stderr",
     "output_type": "stream",
     "text": [
      "/dgx1nas1/storage/data/akalinin/miniconda3/envs/map_benchmark/lib/python3.10/site-packages/copairs/compute.py:152: RuntimeWarning: invalid value encountered in divide\n",
      "  ap_scores = np.add.reduceat(pr_k * rel_k_list, cutoffs) / num_pos\n"
     ]
    },
    {
     "data": {
      "application/vnd.jupyter.widget-view+json": {
       "model_id": "7cfc6407b4604dfab8a9ee15a3c1c873",
       "version_major": 2,
       "version_minor": 0
      },
      "text/plain": [
       "  0%|          | 0/1 [00:00<?, ?it/s]"
      ]
     },
     "metadata": {},
     "output_type": "display_data"
    },
    {
     "data": {
      "application/vnd.jupyter.widget-view+json": {
       "model_id": "1334d0dd5eb74e9682ba58d34ee66dea",
       "version_major": 2,
       "version_minor": 0
      },
      "text/plain": [
       "  0%|          | 0/138 [00:00<?, ?it/s]"
      ]
     },
     "metadata": {},
     "output_type": "display_data"
    },
    {
     "data": {
      "application/vnd.jupyter.widget-view+json": {
       "model_id": "ef164f96e6284277940ee2094e344751",
       "version_major": 2,
       "version_minor": 0
      },
      "text/plain": [
       "  0%|          | 0/1 [00:00<?, ?it/s]"
      ]
     },
     "metadata": {},
     "output_type": "display_data"
    },
    {
     "data": {
      "application/vnd.jupyter.widget-view+json": {
       "model_id": "f9dfb6dcd61e4475b9cecfe0d726b1c5",
       "version_major": 2,
       "version_minor": 0
      },
      "text/plain": [
       "  0%|          | 0/8 [00:00<?, ?it/s]"
      ]
     },
     "metadata": {},
     "output_type": "display_data"
    },
    {
     "name": "stderr",
     "output_type": "stream",
     "text": [
      "/dgx1nas1/storage/data/akalinin/miniconda3/envs/map_benchmark/lib/python3.10/site-packages/copairs/compute.py:152: RuntimeWarning: invalid value encountered in divide\n",
      "  ap_scores = np.add.reduceat(pr_k * rel_k_list, cutoffs) / num_pos\n"
     ]
    },
    {
     "data": {
      "application/vnd.jupyter.widget-view+json": {
       "model_id": "804ca49581354594a881e5b04ed699eb",
       "version_major": 2,
       "version_minor": 0
      },
      "text/plain": [
       "  0%|          | 0/1 [00:00<?, ?it/s]"
      ]
     },
     "metadata": {},
     "output_type": "display_data"
    },
    {
     "data": {
      "application/vnd.jupyter.widget-view+json": {
       "model_id": "d30bea44d1f545b796bc6941889ef0de",
       "version_major": 2,
       "version_minor": 0
      },
      "text/plain": [
       "  0%|          | 0/107 [00:00<?, ?it/s]"
      ]
     },
     "metadata": {},
     "output_type": "display_data"
    },
    {
     "data": {
      "application/vnd.jupyter.widget-view+json": {
       "model_id": "e4e5febe61e44c4c9c399499dfc2184d",
       "version_major": 2,
       "version_minor": 0
      },
      "text/plain": [
       "  0%|          | 0/1 [00:00<?, ?it/s]"
      ]
     },
     "metadata": {},
     "output_type": "display_data"
    },
    {
     "data": {
      "application/vnd.jupyter.widget-view+json": {
       "model_id": "3eb9df77133e48f59ea1ca982d74e4e2",
       "version_major": 2,
       "version_minor": 0
      },
      "text/plain": [
       "  0%|          | 0/9 [00:00<?, ?it/s]"
      ]
     },
     "metadata": {},
     "output_type": "display_data"
    },
    {
     "name": "stderr",
     "output_type": "stream",
     "text": [
      "/dgx1nas1/storage/data/akalinin/miniconda3/envs/map_benchmark/lib/python3.10/site-packages/copairs/compute.py:152: RuntimeWarning: invalid value encountered in divide\n",
      "  ap_scores = np.add.reduceat(pr_k * rel_k_list, cutoffs) / num_pos\n"
     ]
    },
    {
     "data": {
      "application/vnd.jupyter.widget-view+json": {
       "model_id": "0b71f77cb927406eabcca30460095ca9",
       "version_major": 2,
       "version_minor": 0
      },
      "text/plain": [
       "  0%|          | 0/1 [00:00<?, ?it/s]"
      ]
     },
     "metadata": {},
     "output_type": "display_data"
    },
    {
     "data": {
      "application/vnd.jupyter.widget-view+json": {
       "model_id": "17951717e3534e1385d6dc543b9d4243",
       "version_major": 2,
       "version_minor": 0
      },
      "text/plain": [
       "  0%|          | 0/149 [00:00<?, ?it/s]"
      ]
     },
     "metadata": {},
     "output_type": "display_data"
    },
    {
     "name": "stdout",
     "output_type": "stream",
     "text": [
      "Now analyzing BCR...\n"
     ]
    },
    {
     "data": {
      "application/vnd.jupyter.widget-view+json": {
       "model_id": "def4c23cbfc3444b87e7c5dd3e42b694",
       "version_major": 2,
       "version_minor": 0
      },
      "text/plain": [
       "  0%|          | 0/2 [00:00<?, ?it/s]"
      ]
     },
     "metadata": {},
     "output_type": "display_data"
    },
    {
     "data": {
      "application/vnd.jupyter.widget-view+json": {
       "model_id": "d5ad0033a20b42a7bdcc5aa01bad44af",
       "version_major": 2,
       "version_minor": 0
      },
      "text/plain": [
       "  0%|          | 0/11 [00:00<?, ?it/s]"
      ]
     },
     "metadata": {},
     "output_type": "display_data"
    },
    {
     "name": "stderr",
     "output_type": "stream",
     "text": [
      "/dgx1nas1/storage/data/akalinin/miniconda3/envs/map_benchmark/lib/python3.10/site-packages/copairs/compute.py:152: RuntimeWarning: invalid value encountered in divide\n",
      "  ap_scores = np.add.reduceat(pr_k * rel_k_list, cutoffs) / num_pos\n"
     ]
    },
    {
     "data": {
      "application/vnd.jupyter.widget-view+json": {
       "model_id": "68b723a1cedb417aa589432e64c8d272",
       "version_major": 2,
       "version_minor": 0
      },
      "text/plain": [
       "  0%|          | 0/1 [00:00<?, ?it/s]"
      ]
     },
     "metadata": {},
     "output_type": "display_data"
    },
    {
     "data": {
      "application/vnd.jupyter.widget-view+json": {
       "model_id": "766ccdfeb3a4435980fef861f13659c6",
       "version_major": 2,
       "version_minor": 0
      },
      "text/plain": [
       "  0%|          | 0/245 [00:00<?, ?it/s]"
      ]
     },
     "metadata": {},
     "output_type": "display_data"
    },
    {
     "data": {
      "application/vnd.jupyter.widget-view+json": {
       "model_id": "67b4723206404da0875dd331494d09ea",
       "version_major": 2,
       "version_minor": 0
      },
      "text/plain": [
       "  0%|          | 0/1 [00:00<?, ?it/s]"
      ]
     },
     "metadata": {},
     "output_type": "display_data"
    },
    {
     "data": {
      "application/vnd.jupyter.widget-view+json": {
       "model_id": "7cf82616bf8f400b9343c9fe63e9d11a",
       "version_major": 2,
       "version_minor": 0
      },
      "text/plain": [
       "  0%|          | 0/8 [00:00<?, ?it/s]"
      ]
     },
     "metadata": {},
     "output_type": "display_data"
    },
    {
     "name": "stderr",
     "output_type": "stream",
     "text": [
      "/dgx1nas1/storage/data/akalinin/miniconda3/envs/map_benchmark/lib/python3.10/site-packages/copairs/compute.py:152: RuntimeWarning: invalid value encountered in divide\n",
      "  ap_scores = np.add.reduceat(pr_k * rel_k_list, cutoffs) / num_pos\n"
     ]
    },
    {
     "data": {
      "application/vnd.jupyter.widget-view+json": {
       "model_id": "bdbb622add994d08a6852a3b4842d6e8",
       "version_major": 2,
       "version_minor": 0
      },
      "text/plain": [
       "  0%|          | 0/1 [00:00<?, ?it/s]"
      ]
     },
     "metadata": {},
     "output_type": "display_data"
    },
    {
     "data": {
      "application/vnd.jupyter.widget-view+json": {
       "model_id": "1a08f2f99e71469799d68c64c1a78418",
       "version_major": 2,
       "version_minor": 0
      },
      "text/plain": [
       "  0%|          | 0/92 [00:00<?, ?it/s]"
      ]
     },
     "metadata": {},
     "output_type": "display_data"
    },
    {
     "data": {
      "application/vnd.jupyter.widget-view+json": {
       "model_id": "e551aa19662c4b27946631e2646595ad",
       "version_major": 2,
       "version_minor": 0
      },
      "text/plain": [
       "  0%|          | 0/1 [00:00<?, ?it/s]"
      ]
     },
     "metadata": {},
     "output_type": "display_data"
    },
    {
     "data": {
      "application/vnd.jupyter.widget-view+json": {
       "model_id": "32f72469de6143ebaf0062237eac2892",
       "version_major": 2,
       "version_minor": 0
      },
      "text/plain": [
       "  0%|          | 0/8 [00:00<?, ?it/s]"
      ]
     },
     "metadata": {},
     "output_type": "display_data"
    },
    {
     "name": "stderr",
     "output_type": "stream",
     "text": [
      "/dgx1nas1/storage/data/akalinin/miniconda3/envs/map_benchmark/lib/python3.10/site-packages/copairs/compute.py:152: RuntimeWarning: invalid value encountered in divide\n",
      "  ap_scores = np.add.reduceat(pr_k * rel_k_list, cutoffs) / num_pos\n"
     ]
    },
    {
     "data": {
      "application/vnd.jupyter.widget-view+json": {
       "model_id": "22a5a2e5bc2341119a2c44ff59c38b7c",
       "version_major": 2,
       "version_minor": 0
      },
      "text/plain": [
       "  0%|          | 0/1 [00:00<?, ?it/s]"
      ]
     },
     "metadata": {},
     "output_type": "display_data"
    },
    {
     "data": {
      "application/vnd.jupyter.widget-view+json": {
       "model_id": "d3dcf65fc4c14fbf84f4ee84fb0fecf0",
       "version_major": 2,
       "version_minor": 0
      },
      "text/plain": [
       "  0%|          | 0/125 [00:00<?, ?it/s]"
      ]
     },
     "metadata": {},
     "output_type": "display_data"
    },
    {
     "data": {
      "application/vnd.jupyter.widget-view+json": {
       "model_id": "8f6b51890e3f4dcc8a2d3e9973b9c4c7",
       "version_major": 2,
       "version_minor": 0
      },
      "text/plain": [
       "  0%|          | 0/1 [00:00<?, ?it/s]"
      ]
     },
     "metadata": {},
     "output_type": "display_data"
    },
    {
     "data": {
      "application/vnd.jupyter.widget-view+json": {
       "model_id": "3f79777f8d39488f9625b85c4a6fc507",
       "version_major": 2,
       "version_minor": 0
      },
      "text/plain": [
       "  0%|          | 0/8 [00:00<?, ?it/s]"
      ]
     },
     "metadata": {},
     "output_type": "display_data"
    },
    {
     "name": "stderr",
     "output_type": "stream",
     "text": [
      "/dgx1nas1/storage/data/akalinin/miniconda3/envs/map_benchmark/lib/python3.10/site-packages/copairs/compute.py:152: RuntimeWarning: invalid value encountered in divide\n",
      "  ap_scores = np.add.reduceat(pr_k * rel_k_list, cutoffs) / num_pos\n"
     ]
    },
    {
     "data": {
      "application/vnd.jupyter.widget-view+json": {
       "model_id": "088747f7c42643d9a59bf0be0a2b3027",
       "version_major": 2,
       "version_minor": 0
      },
      "text/plain": [
       "  0%|          | 0/1 [00:00<?, ?it/s]"
      ]
     },
     "metadata": {},
     "output_type": "display_data"
    },
    {
     "data": {
      "application/vnd.jupyter.widget-view+json": {
       "model_id": "d9b61af681144e4e98829da16146c860",
       "version_major": 2,
       "version_minor": 0
      },
      "text/plain": [
       "  0%|          | 0/93 [00:00<?, ?it/s]"
      ]
     },
     "metadata": {},
     "output_type": "display_data"
    },
    {
     "data": {
      "application/vnd.jupyter.widget-view+json": {
       "model_id": "1737b625b97046c895e59b3c0b94301e",
       "version_major": 2,
       "version_minor": 0
      },
      "text/plain": [
       "  0%|          | 0/1 [00:00<?, ?it/s]"
      ]
     },
     "metadata": {},
     "output_type": "display_data"
    },
    {
     "data": {
      "application/vnd.jupyter.widget-view+json": {
       "model_id": "a0caf0cb214e4b8aa39b4611c520bf5c",
       "version_major": 2,
       "version_minor": 0
      },
      "text/plain": [
       "  0%|          | 0/9 [00:00<?, ?it/s]"
      ]
     },
     "metadata": {},
     "output_type": "display_data"
    },
    {
     "name": "stderr",
     "output_type": "stream",
     "text": [
      "/dgx1nas1/storage/data/akalinin/miniconda3/envs/map_benchmark/lib/python3.10/site-packages/copairs/compute.py:152: RuntimeWarning: invalid value encountered in divide\n",
      "  ap_scores = np.add.reduceat(pr_k * rel_k_list, cutoffs) / num_pos\n"
     ]
    },
    {
     "data": {
      "application/vnd.jupyter.widget-view+json": {
       "model_id": "1b52e1334db849499730b56c405cb5a2",
       "version_major": 2,
       "version_minor": 0
      },
      "text/plain": [
       "  0%|          | 0/1 [00:00<?, ?it/s]"
      ]
     },
     "metadata": {},
     "output_type": "display_data"
    },
    {
     "data": {
      "application/vnd.jupyter.widget-view+json": {
       "model_id": "fab8742e6f4247cabafab88da9b27a65",
       "version_major": 2,
       "version_minor": 0
      },
      "text/plain": [
       "  0%|          | 0/130 [00:00<?, ?it/s]"
      ]
     },
     "metadata": {},
     "output_type": "display_data"
    },
    {
     "data": {
      "application/vnd.jupyter.widget-view+json": {
       "model_id": "c518b6d3fd9b46b9a77584b6e77424ea",
       "version_major": 2,
       "version_minor": 0
      },
      "text/plain": [
       "  0%|          | 0/1 [00:00<?, ?it/s]"
      ]
     },
     "metadata": {},
     "output_type": "display_data"
    },
    {
     "data": {
      "application/vnd.jupyter.widget-view+json": {
       "model_id": "8e6b9846e9dd4de3a576b176c03683f3",
       "version_major": 2,
       "version_minor": 0
      },
      "text/plain": [
       "  0%|          | 0/9 [00:00<?, ?it/s]"
      ]
     },
     "metadata": {},
     "output_type": "display_data"
    },
    {
     "name": "stderr",
     "output_type": "stream",
     "text": [
      "/dgx1nas1/storage/data/akalinin/miniconda3/envs/map_benchmark/lib/python3.10/site-packages/copairs/compute.py:152: RuntimeWarning: invalid value encountered in divide\n",
      "  ap_scores = np.add.reduceat(pr_k * rel_k_list, cutoffs) / num_pos\n"
     ]
    },
    {
     "data": {
      "application/vnd.jupyter.widget-view+json": {
       "model_id": "3f6f7d22ae8f48e498b6b0ee017b23c8",
       "version_major": 2,
       "version_minor": 0
      },
      "text/plain": [
       "  0%|          | 0/1 [00:00<?, ?it/s]"
      ]
     },
     "metadata": {},
     "output_type": "display_data"
    },
    {
     "data": {
      "application/vnd.jupyter.widget-view+json": {
       "model_id": "8a1cffdbe0914abdbb68ac02586e7eab",
       "version_major": 2,
       "version_minor": 0
      },
      "text/plain": [
       "  0%|          | 0/140 [00:00<?, ?it/s]"
      ]
     },
     "metadata": {},
     "output_type": "display_data"
    },
    {
     "name": "stdout",
     "output_type": "stream",
     "text": [
      "Now analyzing GNB2L1...\n"
     ]
    },
    {
     "data": {
      "application/vnd.jupyter.widget-view+json": {
       "model_id": "acafc92a9703438f85aa8cf2db1d7bdb",
       "version_major": 2,
       "version_minor": 0
      },
      "text/plain": [
       "  0%|          | 0/8 [00:00<?, ?it/s]"
      ]
     },
     "metadata": {},
     "output_type": "display_data"
    },
    {
     "data": {
      "application/vnd.jupyter.widget-view+json": {
       "model_id": "9fe78300038a4e0a8348982760c7ad94",
       "version_major": 2,
       "version_minor": 0
      },
      "text/plain": [
       "  0%|          | 0/19 [00:00<?, ?it/s]"
      ]
     },
     "metadata": {},
     "output_type": "display_data"
    },
    {
     "name": "stderr",
     "output_type": "stream",
     "text": [
      "/dgx1nas1/storage/data/akalinin/miniconda3/envs/map_benchmark/lib/python3.10/site-packages/copairs/compute.py:152: RuntimeWarning: invalid value encountered in divide\n",
      "  ap_scores = np.add.reduceat(pr_k * rel_k_list, cutoffs) / num_pos\n"
     ]
    },
    {
     "data": {
      "application/vnd.jupyter.widget-view+json": {
       "model_id": "a4e194a8a9754213ba5d0531d103534f",
       "version_major": 2,
       "version_minor": 0
      },
      "text/plain": [
       "  0%|          | 0/1 [00:00<?, ?it/s]"
      ]
     },
     "metadata": {},
     "output_type": "display_data"
    },
    {
     "data": {
      "application/vnd.jupyter.widget-view+json": {
       "model_id": "4ab8f1544fec4a16a918f567a7602a27",
       "version_major": 2,
       "version_minor": 0
      },
      "text/plain": [
       "  0%|          | 0/561 [00:00<?, ?it/s]"
      ]
     },
     "metadata": {},
     "output_type": "display_data"
    },
    {
     "data": {
      "application/vnd.jupyter.widget-view+json": {
       "model_id": "a333ccdf20b342358bf0d8e22dbfcd89",
       "version_major": 2,
       "version_minor": 0
      },
      "text/plain": [
       "  0%|          | 0/1 [00:00<?, ?it/s]"
      ]
     },
     "metadata": {},
     "output_type": "display_data"
    },
    {
     "data": {
      "application/vnd.jupyter.widget-view+json": {
       "model_id": "26fee3c33f0d45b689ebd7a8e0594e67",
       "version_major": 2,
       "version_minor": 0
      },
      "text/plain": [
       "  0%|          | 0/8 [00:00<?, ?it/s]"
      ]
     },
     "metadata": {},
     "output_type": "display_data"
    },
    {
     "name": "stderr",
     "output_type": "stream",
     "text": [
      "/dgx1nas1/storage/data/akalinin/miniconda3/envs/map_benchmark/lib/python3.10/site-packages/copairs/compute.py:152: RuntimeWarning: invalid value encountered in divide\n",
      "  ap_scores = np.add.reduceat(pr_k * rel_k_list, cutoffs) / num_pos\n"
     ]
    },
    {
     "data": {
      "application/vnd.jupyter.widget-view+json": {
       "model_id": "70dc3c1e8c724a4dbd6259b314449411",
       "version_major": 2,
       "version_minor": 0
      },
      "text/plain": [
       "  0%|          | 0/1 [00:00<?, ?it/s]"
      ]
     },
     "metadata": {},
     "output_type": "display_data"
    },
    {
     "data": {
      "application/vnd.jupyter.widget-view+json": {
       "model_id": "dd296b83b9c04a5c8a70b311cbe6731b",
       "version_major": 2,
       "version_minor": 0
      },
      "text/plain": [
       "  0%|          | 0/111 [00:00<?, ?it/s]"
      ]
     },
     "metadata": {},
     "output_type": "display_data"
    },
    {
     "data": {
      "application/vnd.jupyter.widget-view+json": {
       "model_id": "d402b6563a46453a9c165cde4f6da7e3",
       "version_major": 2,
       "version_minor": 0
      },
      "text/plain": [
       "  0%|          | 0/1 [00:00<?, ?it/s]"
      ]
     },
     "metadata": {},
     "output_type": "display_data"
    },
    {
     "data": {
      "application/vnd.jupyter.widget-view+json": {
       "model_id": "239db9c70f004e2d832ffcb9c13326be",
       "version_major": 2,
       "version_minor": 0
      },
      "text/plain": [
       "  0%|          | 0/9 [00:00<?, ?it/s]"
      ]
     },
     "metadata": {},
     "output_type": "display_data"
    },
    {
     "name": "stderr",
     "output_type": "stream",
     "text": [
      "/dgx1nas1/storage/data/akalinin/miniconda3/envs/map_benchmark/lib/python3.10/site-packages/copairs/compute.py:152: RuntimeWarning: invalid value encountered in divide\n",
      "  ap_scores = np.add.reduceat(pr_k * rel_k_list, cutoffs) / num_pos\n"
     ]
    },
    {
     "data": {
      "application/vnd.jupyter.widget-view+json": {
       "model_id": "166e1bb211734c7fb60c720f021b376e",
       "version_major": 2,
       "version_minor": 0
      },
      "text/plain": [
       "  0%|          | 0/1 [00:00<?, ?it/s]"
      ]
     },
     "metadata": {},
     "output_type": "display_data"
    },
    {
     "data": {
      "application/vnd.jupyter.widget-view+json": {
       "model_id": "5c53ea3b08be494ab28c1853e8c898d1",
       "version_major": 2,
       "version_minor": 0
      },
      "text/plain": [
       "  0%|          | 0/129 [00:00<?, ?it/s]"
      ]
     },
     "metadata": {},
     "output_type": "display_data"
    },
    {
     "data": {
      "application/vnd.jupyter.widget-view+json": {
       "model_id": "efe24ec274754157a8ebc5f4699bbf83",
       "version_major": 2,
       "version_minor": 0
      },
      "text/plain": [
       "  0%|          | 0/1 [00:00<?, ?it/s]"
      ]
     },
     "metadata": {},
     "output_type": "display_data"
    },
    {
     "data": {
      "application/vnd.jupyter.widget-view+json": {
       "model_id": "09ed191defb64507825005bd3172261f",
       "version_major": 2,
       "version_minor": 0
      },
      "text/plain": [
       "  0%|          | 0/9 [00:00<?, ?it/s]"
      ]
     },
     "metadata": {},
     "output_type": "display_data"
    },
    {
     "name": "stderr",
     "output_type": "stream",
     "text": [
      "/dgx1nas1/storage/data/akalinin/miniconda3/envs/map_benchmark/lib/python3.10/site-packages/copairs/compute.py:152: RuntimeWarning: invalid value encountered in divide\n",
      "  ap_scores = np.add.reduceat(pr_k * rel_k_list, cutoffs) / num_pos\n"
     ]
    },
    {
     "data": {
      "application/vnd.jupyter.widget-view+json": {
       "model_id": "57375102ceed4593ad5c657a193438e7",
       "version_major": 2,
       "version_minor": 0
      },
      "text/plain": [
       "  0%|          | 0/1 [00:00<?, ?it/s]"
      ]
     },
     "metadata": {},
     "output_type": "display_data"
    },
    {
     "data": {
      "application/vnd.jupyter.widget-view+json": {
       "model_id": "6b666947d05149fd8e6e453f4741b811",
       "version_major": 2,
       "version_minor": 0
      },
      "text/plain": [
       "  0%|          | 0/133 [00:00<?, ?it/s]"
      ]
     },
     "metadata": {},
     "output_type": "display_data"
    },
    {
     "data": {
      "application/vnd.jupyter.widget-view+json": {
       "model_id": "c4dabdd8b2df431b8d0fb6e598d5a5b0",
       "version_major": 2,
       "version_minor": 0
      },
      "text/plain": [
       "  0%|          | 0/1 [00:00<?, ?it/s]"
      ]
     },
     "metadata": {},
     "output_type": "display_data"
    },
    {
     "data": {
      "application/vnd.jupyter.widget-view+json": {
       "model_id": "a2ca45a9cdc34f47b00d33c306594545",
       "version_major": 2,
       "version_minor": 0
      },
      "text/plain": [
       "  0%|          | 0/6 [00:00<?, ?it/s]"
      ]
     },
     "metadata": {},
     "output_type": "display_data"
    },
    {
     "name": "stderr",
     "output_type": "stream",
     "text": [
      "/dgx1nas1/storage/data/akalinin/miniconda3/envs/map_benchmark/lib/python3.10/site-packages/copairs/compute.py:152: RuntimeWarning: invalid value encountered in divide\n",
      "  ap_scores = np.add.reduceat(pr_k * rel_k_list, cutoffs) / num_pos\n"
     ]
    },
    {
     "data": {
      "application/vnd.jupyter.widget-view+json": {
       "model_id": "68eca67c4a7248c88f53e8db088a6a07",
       "version_major": 2,
       "version_minor": 0
      },
      "text/plain": [
       "  0%|          | 0/1 [00:00<?, ?it/s]"
      ]
     },
     "metadata": {},
     "output_type": "display_data"
    },
    {
     "data": {
      "application/vnd.jupyter.widget-view+json": {
       "model_id": "2eaee0ac0fc4425085dac4a8fbcadeed",
       "version_major": 2,
       "version_minor": 0
      },
      "text/plain": [
       "  0%|          | 0/32 [00:00<?, ?it/s]"
      ]
     },
     "metadata": {},
     "output_type": "display_data"
    }
   ],
   "source": [
    "all_sc_map_results = []\n",
    "all_sc_umap_embeddings = []\n",
    "\n",
    "genes = sc_gene_exp_df.Metadata_gene_identity.unique()\n",
    "for gene in genes:\n",
    "    if gene not in [\"neg\", \"*\", \"nan\", np.nan]:\n",
    "        print(f\"Now analyzing {gene}...\")\n",
    "        subset_sc_df = sc_gene_exp_df.query(\"Metadata_gene_identity in @gene\")\n",
    "        guides = subset_sc_df.Metadata_guide_identity.unique()\n",
    "\n",
    "        # use the same controls in every experiment\n",
    "        subset_sc_df = pd.concat([subset_sc_df, sc_neg_controls_df]).reset_index(\n",
    "            drop=True\n",
    "        )\n",
    "\n",
    "        # apply UMAP to single cell profiles (all profiles of one gene + neg controls)\n",
    "        embedding = umap.UMAP().fit_transform(subset_sc_df.loc[:, genes_to_retain])\n",
    "\n",
    "        # combine results with single cell dataframe\n",
    "        embedding_df = pd.concat(\n",
    "            [\n",
    "                subset_sc_df.drop(gene_features, axis=\"columns\").reset_index(drop=True),\n",
    "                pd.DataFrame(embedding, columns=[\"umap_0\", \"umap_1\"]),\n",
    "            ],\n",
    "            axis=\"columns\",\n",
    "        )\n",
    "        all_sc_umap_embeddings.append(embedding_df.assign(map_gene=gene))\n",
    "\n",
    "        # now calculate sc-mAP per guide\n",
    "        for guide in guides:\n",
    "            subset_guide_df = pd.concat(\n",
    "                [\n",
    "                    subset_sc_df.query(\"Metadata_guide_identity == @guide\"),\n",
    "                    sc_neg_controls_df,\n",
    "                ]\n",
    "            ).reset_index(drop=True)\n",
    "\n",
    "            metadata_cols = subset_guide_df.filter(regex=\"Metadata_\").columns.tolist()\n",
    "            map_results = calculate_map(\n",
    "                subset_guide_df.loc[:, metadata_cols + genes_to_retain],\n",
    "                pair_config,\n",
    "                map_config,\n",
    "            )\n",
    "            all_sc_map_results.append(\n",
    "                map_results.assign(map_gene=gene, map_guide=guide)\n",
    "            )"
   ]
  },
  {
   "cell_type": "code",
   "execution_count": 14,
   "metadata": {},
   "outputs": [
    {
     "name": "stdout",
     "output_type": "stream",
     "text": [
      "(31701, 16)\n"
     ]
    },
    {
     "data": {
      "text/html": [
       "<div>\n",
       "<style scoped>\n",
       "    .dataframe tbody tr th:only-of-type {\n",
       "        vertical-align: middle;\n",
       "    }\n",
       "\n",
       "    .dataframe tbody tr th {\n",
       "        vertical-align: top;\n",
       "    }\n",
       "\n",
       "    .dataframe thead th {\n",
       "        text-align: right;\n",
       "    }\n",
       "</style>\n",
       "<table border=\"1\" class=\"dataframe\">\n",
       "  <thead>\n",
       "    <tr style=\"text-align: right;\">\n",
       "      <th></th>\n",
       "      <th>Metadata_cell_identity</th>\n",
       "      <th>Metadata_cell_barcode</th>\n",
       "      <th>Metadata_guide_identity</th>\n",
       "      <th>Metadata_read_count</th>\n",
       "      <th>Metadata_UMI_count</th>\n",
       "      <th>Metadata_coverage</th>\n",
       "      <th>Metadata_gemgroup</th>\n",
       "      <th>Metadata_good_coverage</th>\n",
       "      <th>Metadata_number_of_cells</th>\n",
       "      <th>Metadata_gene_identity</th>\n",
       "      <th>Metadata_barcode</th>\n",
       "      <th>Metadata_sequence</th>\n",
       "      <th>Metadata_reference_index</th>\n",
       "      <th>umap_0</th>\n",
       "      <th>umap_1</th>\n",
       "      <th>map_gene</th>\n",
       "    </tr>\n",
       "  </thead>\n",
       "  <tbody>\n",
       "    <tr>\n",
       "      <th>0</th>\n",
       "      <td>sc_profile_0</td>\n",
       "      <td>AAACCTGAGAGTAATC-1</td>\n",
       "      <td>RAN_RAN_+_131356438.23-P1P2_12</td>\n",
       "      <td>544.0</td>\n",
       "      <td>34.0</td>\n",
       "      <td>16.000000</td>\n",
       "      <td>1.0</td>\n",
       "      <td>True</td>\n",
       "      <td>1.0</td>\n",
       "      <td>RAN</td>\n",
       "      <td>AAACCTGAGAGTAATC-1</td>\n",
       "      <td>AAACCTGAGAGTAATC</td>\n",
       "      <td>-1</td>\n",
       "      <td>-1.786611</td>\n",
       "      <td>5.079599</td>\n",
       "      <td>RAN</td>\n",
       "    </tr>\n",
       "    <tr>\n",
       "      <th>1</th>\n",
       "      <td>sc_profile_165</td>\n",
       "      <td>AACGTTGAGAGTAATC-1</td>\n",
       "      <td>RAN_RAN_+_131356438.23-P1P2_00</td>\n",
       "      <td>625.0</td>\n",
       "      <td>36.0</td>\n",
       "      <td>17.361111</td>\n",
       "      <td>1.0</td>\n",
       "      <td>True</td>\n",
       "      <td>2.0</td>\n",
       "      <td>RAN</td>\n",
       "      <td>AACGTTGAGAGTAATC-1</td>\n",
       "      <td>AACGTTGAGAGTAATC</td>\n",
       "      <td>-1</td>\n",
       "      <td>-3.055113</td>\n",
       "      <td>7.493356</td>\n",
       "      <td>RAN</td>\n",
       "    </tr>\n",
       "    <tr>\n",
       "      <th>2</th>\n",
       "      <td>sc_profile_264</td>\n",
       "      <td>AACTTTCTCTAAGCCA-1</td>\n",
       "      <td>RAN_RAN_+_131356438.23-P1P2_04</td>\n",
       "      <td>334.0</td>\n",
       "      <td>19.0</td>\n",
       "      <td>17.578947</td>\n",
       "      <td>1.0</td>\n",
       "      <td>True</td>\n",
       "      <td>1.0</td>\n",
       "      <td>RAN</td>\n",
       "      <td>AACTTTCTCTAAGCCA-1</td>\n",
       "      <td>AACTTTCTCTAAGCCA</td>\n",
       "      <td>-1</td>\n",
       "      <td>-1.668168</td>\n",
       "      <td>7.734231</td>\n",
       "      <td>RAN</td>\n",
       "    </tr>\n",
       "    <tr>\n",
       "      <th>3</th>\n",
       "      <td>sc_profile_311</td>\n",
       "      <td>AAGGAGCCATGCGCAC-1</td>\n",
       "      <td>RAN_RAN_+_131356438.23-P1P2_02</td>\n",
       "      <td>405.0</td>\n",
       "      <td>22.0</td>\n",
       "      <td>18.409091</td>\n",
       "      <td>1.0</td>\n",
       "      <td>True</td>\n",
       "      <td>1.0</td>\n",
       "      <td>RAN</td>\n",
       "      <td>AAGGAGCCATGCGCAC-1</td>\n",
       "      <td>AAGGAGCCATGCGCAC</td>\n",
       "      <td>-1</td>\n",
       "      <td>-1.807011</td>\n",
       "      <td>4.466313</td>\n",
       "      <td>RAN</td>\n",
       "    </tr>\n",
       "    <tr>\n",
       "      <th>4</th>\n",
       "      <td>sc_profile_314</td>\n",
       "      <td>AAGGAGCTCCTGTAGA-1</td>\n",
       "      <td>RAN_RAN_+_131356438.23-P1P2_04</td>\n",
       "      <td>926.0</td>\n",
       "      <td>41.0</td>\n",
       "      <td>22.585366</td>\n",
       "      <td>1.0</td>\n",
       "      <td>True</td>\n",
       "      <td>1.0</td>\n",
       "      <td>RAN</td>\n",
       "      <td>AAGGAGCTCCTGTAGA-1</td>\n",
       "      <td>AAGGAGCTCCTGTAGA</td>\n",
       "      <td>-1</td>\n",
       "      <td>-1.323373</td>\n",
       "      <td>7.639339</td>\n",
       "      <td>RAN</td>\n",
       "    </tr>\n",
       "  </tbody>\n",
       "</table>\n",
       "</div>"
      ],
      "text/plain": [
       "  Metadata_cell_identity Metadata_cell_barcode  \\\n",
       "0           sc_profile_0    AAACCTGAGAGTAATC-1   \n",
       "1         sc_profile_165    AACGTTGAGAGTAATC-1   \n",
       "2         sc_profile_264    AACTTTCTCTAAGCCA-1   \n",
       "3         sc_profile_311    AAGGAGCCATGCGCAC-1   \n",
       "4         sc_profile_314    AAGGAGCTCCTGTAGA-1   \n",
       "\n",
       "          Metadata_guide_identity  Metadata_read_count  Metadata_UMI_count  \\\n",
       "0  RAN_RAN_+_131356438.23-P1P2_12                544.0                34.0   \n",
       "1  RAN_RAN_+_131356438.23-P1P2_00                625.0                36.0   \n",
       "2  RAN_RAN_+_131356438.23-P1P2_04                334.0                19.0   \n",
       "3  RAN_RAN_+_131356438.23-P1P2_02                405.0                22.0   \n",
       "4  RAN_RAN_+_131356438.23-P1P2_04                926.0                41.0   \n",
       "\n",
       "   Metadata_coverage  Metadata_gemgroup Metadata_good_coverage  \\\n",
       "0          16.000000                1.0                   True   \n",
       "1          17.361111                1.0                   True   \n",
       "2          17.578947                1.0                   True   \n",
       "3          18.409091                1.0                   True   \n",
       "4          22.585366                1.0                   True   \n",
       "\n",
       "   Metadata_number_of_cells Metadata_gene_identity    Metadata_barcode  \\\n",
       "0                       1.0                    RAN  AAACCTGAGAGTAATC-1   \n",
       "1                       2.0                    RAN  AACGTTGAGAGTAATC-1   \n",
       "2                       1.0                    RAN  AACTTTCTCTAAGCCA-1   \n",
       "3                       1.0                    RAN  AAGGAGCCATGCGCAC-1   \n",
       "4                       1.0                    RAN  AAGGAGCTCCTGTAGA-1   \n",
       "\n",
       "  Metadata_sequence  Metadata_reference_index    umap_0    umap_1 map_gene  \n",
       "0  AAACCTGAGAGTAATC                        -1 -1.786611  5.079599      RAN  \n",
       "1  AACGTTGAGAGTAATC                        -1 -3.055113  7.493356      RAN  \n",
       "2  AACTTTCTCTAAGCCA                        -1 -1.668168  7.734231      RAN  \n",
       "3  AAGGAGCCATGCGCAC                        -1 -1.807011  4.466313      RAN  \n",
       "4  AAGGAGCTCCTGTAGA                        -1 -1.323373  7.639339      RAN  "
      ]
     },
     "execution_count": 14,
     "metadata": {},
     "output_type": "execute_result"
    }
   ],
   "source": [
    "all_sc_umap_embeddings = pd.concat(all_sc_umap_embeddings).reset_index(drop=True)\n",
    "\n",
    "output_results_file = pathlib.Path(\n",
    "    f\"results/{gse_id}_single_cell_umap_embeddings.tsv.gz\"\n",
    ")\n",
    "all_sc_umap_embeddings.to_csv(\n",
    "    output_results_file, sep=\"\\t\", compression=\"gzip\", index=False\n",
    ")\n",
    "\n",
    "print(all_sc_umap_embeddings.shape)\n",
    "all_sc_umap_embeddings.head()"
   ]
  },
  {
   "cell_type": "code",
   "execution_count": 15,
   "metadata": {},
   "outputs": [
    {
     "name": "stdout",
     "output_type": "stream",
     "text": [
      "(19901, 10)\n"
     ]
    },
    {
     "data": {
      "text/html": [
       "<div>\n",
       "<style scoped>\n",
       "    .dataframe tbody tr th:only-of-type {\n",
       "        vertical-align: middle;\n",
       "    }\n",
       "\n",
       "    .dataframe tbody tr th {\n",
       "        vertical-align: top;\n",
       "    }\n",
       "\n",
       "    .dataframe thead th {\n",
       "        text-align: right;\n",
       "    }\n",
       "</style>\n",
       "<table border=\"1\" class=\"dataframe\">\n",
       "  <thead>\n",
       "    <tr style=\"text-align: right;\">\n",
       "      <th></th>\n",
       "      <th>Metadata_guide_identity</th>\n",
       "      <th>Metadata_cell_identity</th>\n",
       "      <th>mAP</th>\n",
       "      <th>p_value</th>\n",
       "      <th>corrected_p_value</th>\n",
       "      <th>below_p</th>\n",
       "      <th>p &lt; 0.05</th>\n",
       "      <th>-log10(mAP p-value)</th>\n",
       "      <th>map_gene</th>\n",
       "      <th>map_guide</th>\n",
       "    </tr>\n",
       "  </thead>\n",
       "  <tbody>\n",
       "    <tr>\n",
       "      <th>0</th>\n",
       "      <td>RAN_RAN_+_131356438.23-P1P2_12</td>\n",
       "      <td>sc_profile_0</td>\n",
       "      <td>0.289215</td>\n",
       "      <td>0.616595</td>\n",
       "      <td>0.973306</td>\n",
       "      <td>False</td>\n",
       "      <td>False</td>\n",
       "      <td>0.011751</td>\n",
       "      <td>RAN</td>\n",
       "      <td>RAN_RAN_+_131356438.23-P1P2_12</td>\n",
       "    </tr>\n",
       "    <tr>\n",
       "      <th>1</th>\n",
       "      <td>RAN_RAN_+_131356438.23-P1P2_12</td>\n",
       "      <td>sc_profile_10030</td>\n",
       "      <td>0.281967</td>\n",
       "      <td>0.765502</td>\n",
       "      <td>0.973306</td>\n",
       "      <td>False</td>\n",
       "      <td>False</td>\n",
       "      <td>0.011751</td>\n",
       "      <td>RAN</td>\n",
       "      <td>RAN_RAN_+_131356438.23-P1P2_12</td>\n",
       "    </tr>\n",
       "    <tr>\n",
       "      <th>2</th>\n",
       "      <td>RAN_RAN_+_131356438.23-P1P2_12</td>\n",
       "      <td>sc_profile_10094</td>\n",
       "      <td>0.294351</td>\n",
       "      <td>0.502929</td>\n",
       "      <td>0.973306</td>\n",
       "      <td>False</td>\n",
       "      <td>False</td>\n",
       "      <td>0.011751</td>\n",
       "      <td>RAN</td>\n",
       "      <td>RAN_RAN_+_131356438.23-P1P2_12</td>\n",
       "    </tr>\n",
       "    <tr>\n",
       "      <th>3</th>\n",
       "      <td>RAN_RAN_+_131356438.23-P1P2_12</td>\n",
       "      <td>sc_profile_10164</td>\n",
       "      <td>0.292132</td>\n",
       "      <td>0.552037</td>\n",
       "      <td>0.973306</td>\n",
       "      <td>False</td>\n",
       "      <td>False</td>\n",
       "      <td>0.011751</td>\n",
       "      <td>RAN</td>\n",
       "      <td>RAN_RAN_+_131356438.23-P1P2_12</td>\n",
       "    </tr>\n",
       "    <tr>\n",
       "      <th>4</th>\n",
       "      <td>RAN_RAN_+_131356438.23-P1P2_12</td>\n",
       "      <td>sc_profile_10280</td>\n",
       "      <td>0.295541</td>\n",
       "      <td>0.476729</td>\n",
       "      <td>0.973306</td>\n",
       "      <td>False</td>\n",
       "      <td>False</td>\n",
       "      <td>0.011751</td>\n",
       "      <td>RAN</td>\n",
       "      <td>RAN_RAN_+_131356438.23-P1P2_12</td>\n",
       "    </tr>\n",
       "  </tbody>\n",
       "</table>\n",
       "</div>"
      ],
      "text/plain": [
       "          Metadata_guide_identity Metadata_cell_identity       mAP   p_value  \\\n",
       "0  RAN_RAN_+_131356438.23-P1P2_12           sc_profile_0  0.289215  0.616595   \n",
       "1  RAN_RAN_+_131356438.23-P1P2_12       sc_profile_10030  0.281967  0.765502   \n",
       "2  RAN_RAN_+_131356438.23-P1P2_12       sc_profile_10094  0.294351  0.502929   \n",
       "3  RAN_RAN_+_131356438.23-P1P2_12       sc_profile_10164  0.292132  0.552037   \n",
       "4  RAN_RAN_+_131356438.23-P1P2_12       sc_profile_10280  0.295541  0.476729   \n",
       "\n",
       "   corrected_p_value  below_p  p < 0.05  -log10(mAP p-value) map_gene  \\\n",
       "0           0.973306    False     False             0.011751      RAN   \n",
       "1           0.973306    False     False             0.011751      RAN   \n",
       "2           0.973306    False     False             0.011751      RAN   \n",
       "3           0.973306    False     False             0.011751      RAN   \n",
       "4           0.973306    False     False             0.011751      RAN   \n",
       "\n",
       "                        map_guide  \n",
       "0  RAN_RAN_+_131356438.23-P1P2_12  \n",
       "1  RAN_RAN_+_131356438.23-P1P2_12  \n",
       "2  RAN_RAN_+_131356438.23-P1P2_12  \n",
       "3  RAN_RAN_+_131356438.23-P1P2_12  \n",
       "4  RAN_RAN_+_131356438.23-P1P2_12  "
      ]
     },
     "execution_count": 15,
     "metadata": {},
     "output_type": "execute_result"
    }
   ],
   "source": [
    "all_sc_map_results = pd.concat(all_sc_map_results).reset_index(drop=True)\n",
    "\n",
    "# Output file\n",
    "output_results_file = pathlib.Path(f\"results/{gse_id}_single_cell_map.tsv.gz\")\n",
    "all_sc_map_results.to_csv(\n",
    "    output_results_file, sep=\"\\t\", compression=\"gzip\", index=False\n",
    ")\n",
    "\n",
    "print(all_sc_map_results.shape)\n",
    "all_sc_map_results.head()"
   ]
  }
 ],
 "metadata": {
  "kernelspec": {
   "display_name": "map_benchmark",
   "language": "python",
   "name": "python3"
  },
  "language_info": {
   "codemirror_mode": {
    "name": "ipython",
    "version": 3
   },
   "file_extension": ".py",
   "mimetype": "text/x-python",
   "name": "python",
   "nbconvert_exporter": "python",
   "pygments_lexer": "ipython3",
   "version": "3.10.13"
  }
 },
 "nbformat": 4,
 "nbformat_minor": 4
}
